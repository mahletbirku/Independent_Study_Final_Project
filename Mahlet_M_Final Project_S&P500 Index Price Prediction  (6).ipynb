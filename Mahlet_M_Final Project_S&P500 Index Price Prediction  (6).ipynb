{
 "cells": [
  {
   "cell_type": "markdown",
   "metadata": {
    "slideshow": {
     "slide_type": "slide"
    }
   },
   "source": [
    "# Final Project - S&P500 Index Price Prediction\n",
    "\n",
    "**Submitted by -**: Mahlet Melese"
   ]
  },
  {
   "cell_type": "markdown",
   "metadata": {
    "slideshow": {
     "slide_type": "subslide"
    }
   },
   "source": [
    "# Outline\n",
    "- Abstract\n",
    "- Introduction\n",
    "- EDA\n",
    "- Machine Learning Models\n",
    "- Back test and Improving Model Performance\n",
    "- Summary\n",
    "- Reference"
   ]
  },
  {
   "cell_type": "markdown",
   "metadata": {
    "slideshow": {
     "slide_type": "slide"
    }
   },
   "source": [
    "## Abstract"
   ]
  },
  {
   "cell_type": "markdown",
   "metadata": {
    "slideshow": {
     "slide_type": "subslide"
    }
   },
   "source": [
    "This project aims to forecast whether the price will rise or fall tomorrow. Some individuals attempt to predict the exact price, but this approach has a significant flaw. While my model might excel at precisely estimating the price, it can still result in financial losses. This is because my primary concern, when engaging in stock trading, isn't achieving accuracy in the precise price, but rather in accurately determining the direction of movement whether the price will increase or decrease. Therefore, my aim is to ascertain whether, on days when the stock price rises, we can accurately anticipate this upward trend. This knowledge enables informed stock purchases, centered around predicting whether the stock will ascend or descend.\n",
    "\n",
    "For this project S&P500 stock dataset was downloaded using Yahoo Finance. Once I have the dataset I can tidied invalid data, dropped the duplicated data, use the insights from EDA and create feature selection on the dataset. In addressing this classification challenge, I created six distinct prediction models. Additionally, an ensemble model, amalgamating KNN, Decision Tree, SVM and regression approaches.Then I tried to Evaluate the model across multiple metrics, including accuracy, precision and others, reveals that the VotingClassifier has comparable performance with other models. Moreover, I conducted back testing as a crucial step to assess the algorithms' performance over several years of historical data. In addition, I introduced supplementary features into the dataset. And to explore the algorithms , I adjusted the prediction horizons and analyzed rolling means. Then the model enhanced with these new features, showed  57% precision in predicting upward movements in stock prices during purchase instances.\n"
   ]
  },
  {
   "cell_type": "markdown",
   "metadata": {
    "slideshow": {
     "slide_type": "subslide"
    }
   },
   "source": [
    "## Introduction"
   ]
  },
  {
   "cell_type": "markdown",
   "metadata": {
    "slideshow": {
     "slide_type": "subslide"
    }
   },
   "source": [
    "#### The project's domain background:\n",
    "Exploring the dynamics of the finance sector showed the remarkable potential of machine learning. The S&P500 index includes the stock performance of 500 major US-listed corporations, constitutes my focal point. I intend to construct a machine learning model that forecasts the forthcoming S&P500 price index using historical data and subject the model to backtesting across over two decades of historical data. This extensive timeframe, spanning from 1990 to the present, ensures the project's analysis retains meaningful depth and solidifying my confidence in the predictions it produces.\n",
    "\n",
    "In light of my present limitations in comprehensively assessing a company's intrinsic worth and conducting stock valuations, I've discerned the stock price prediction as an exceptionally fitting focus of study.The typical structure of historical data for the S&P stock index from \"Yahoo! Finance\" encompasses Date, Open, High, Low, Close, Volume, Dividends, and Stock Splits.\n",
    "The S&P500, an index gauging the stock performance of 500 major US-listed corporations, constitutes our focal point. I intend to construct a machine learning model that forecasts the forthcoming S&P500 price index using historical data, and subject this model to back testing across over two decades of historical data. This extensive timeframe, spanning from 1990 to the present, ensures the project's analysis retains meaningful depth and validity, solidifying our confidence in the predictions it produces.\n"
   ]
  },
  {
   "cell_type": "markdown",
   "metadata": {
    "slideshow": {
     "slide_type": "subslide"
    }
   },
   "source": [
    "#### Data Sources:\n",
    "To initiate the process, I begin by importing the 'yfinance' package, by calling the 'yfinance’API. And then  I proceed to use the ticker class, a pivotal component facilitating the retrieval of historical price data for a specific symbol. For the scope of this project, the symbol of choice is 'GSPC,’ which is similar with the S&P500 index. Once I downloaded the dataset: Each entry within this data frame corresponds to the price on a single trading day, effectively excluding non-trading days. Notably, the data frame encompasses supplementary columns named 'Dividends' and 'Stock Splits.’ and these columns are not integrated into my analysis. B/c their presence is more important within the context of individual stocks, rather than in the domain of index price forecasting.\n",
    "\n",
    "Central to my endeavor is the utilization of these columns in prognosticating the future directional movement of stock prices – whether they ascend or descend. Notably, the data frame encompasses supplementary columns named 'Dividends' and 'Stock Splits.' It is important to elucidate that these columns are not integrated into our analysis. Their pertinence is more pronounced within the context of individual stocks, rather than in the domain of index price forecasting."
   ]
  },
  {
   "cell_type": "markdown",
   "metadata": {
    "slideshow": {
     "slide_type": "slide"
    }
   },
   "source": [
    "## Exploratory Data Analysis (EDA) "
   ]
  },
  {
   "cell_type": "markdown",
   "metadata": {
    "slideshow": {
     "slide_type": "slide"
    }
   },
   "source": [
    "### Import Libraries"
   ]
  },
  {
   "cell_type": "code",
   "execution_count": 2,
   "metadata": {
    "slideshow": {
     "slide_type": "subslide"
    }
   },
   "outputs": [],
   "source": [
    "#Import Dependencies\n",
    "import yfinance as yf\n",
    "import pandas as pd\n",
    "import numpy as np\n",
    "\n",
    "from sklearn.ensemble import RandomForestClassifier\n",
    "from sklearn.tree import DecisionTreeClassifier\n",
    "from sklearn.svm import SVC\n",
    "from sklearn.preprocessing import MinMaxScaler\n",
    "from sklearn.linear_model import LogisticRegression\n",
    "\n",
    "\n",
    "from sklearn.model_selection import train_test_split\n",
    "from sklearn import neighbors, preprocessing, metrics\n",
    "from sklearn.preprocessing import StandardScaler\n",
    "from sklearn.metrics import confusion_matrix,accuracy_score, f1_score, classification_report, precision_score,recall_score\n",
    "import xgboost as xgb\n",
    "\n",
    "# grid search\n",
    "from sklearn.model_selection import GridSearchCV\n",
    "from sklearn.neighbors import KNeighborsClassifier\n",
    "from sklearn.ensemble import VotingClassifier\n",
    "\n",
    "%matplotlib inline\n",
    "import matplotlib.pyplot as plt\n",
    "import seaborn as sns\n",
    "import os\n",
    "import tarfile\n",
    "\n",
    "from pptx import Presentation \n",
    "from pptx.util import Inches\n",
    "from pptx.util import Pt\n",
    "import pptx\n",
    "from pptx.enum.text import PP_ALIGN\n",
    "from io import StringIO\n",
    "\n",
    "#This ingores depreciation warnings, which will make the code more readable\n",
    "import warnings \n",
    "warnings.filterwarnings(\"ignore\", category=FutureWarning)"
   ]
  },
  {
   "cell_type": "markdown",
   "metadata": {
    "slideshow": {
     "slide_type": "slide"
    }
   },
   "source": [
    "#### Downloading S&P500 index price dataset"
   ]
  },
  {
   "cell_type": "code",
   "execution_count": 58,
   "metadata": {
    "slideshow": {
     "slide_type": "subslide"
    }
   },
   "outputs": [
    {
     "data": {
      "text/html": [
       "<div>\n",
       "<style scoped>\n",
       "    .dataframe tbody tr th:only-of-type {\n",
       "        vertical-align: middle;\n",
       "    }\n",
       "\n",
       "    .dataframe tbody tr th {\n",
       "        vertical-align: top;\n",
       "    }\n",
       "\n",
       "    .dataframe thead th {\n",
       "        text-align: right;\n",
       "    }\n",
       "</style>\n",
       "<table border=\"1\" class=\"dataframe\">\n",
       "  <thead>\n",
       "    <tr style=\"text-align: right;\">\n",
       "      <th></th>\n",
       "      <th>Open</th>\n",
       "      <th>High</th>\n",
       "      <th>Low</th>\n",
       "      <th>Close</th>\n",
       "      <th>Volume</th>\n",
       "      <th>Dividends</th>\n",
       "      <th>Stock Splits</th>\n",
       "    </tr>\n",
       "    <tr>\n",
       "      <th>Date</th>\n",
       "      <th></th>\n",
       "      <th></th>\n",
       "      <th></th>\n",
       "      <th></th>\n",
       "      <th></th>\n",
       "      <th></th>\n",
       "      <th></th>\n",
       "    </tr>\n",
       "  </thead>\n",
       "  <tbody>\n",
       "    <tr>\n",
       "      <th>1927-12-30 00:00:00-05:00</th>\n",
       "      <td>17.660000</td>\n",
       "      <td>17.660000</td>\n",
       "      <td>17.660000</td>\n",
       "      <td>17.660000</td>\n",
       "      <td>0</td>\n",
       "      <td>0.0</td>\n",
       "      <td>0.0</td>\n",
       "    </tr>\n",
       "    <tr>\n",
       "      <th>1928-01-03 00:00:00-05:00</th>\n",
       "      <td>17.760000</td>\n",
       "      <td>17.760000</td>\n",
       "      <td>17.760000</td>\n",
       "      <td>17.760000</td>\n",
       "      <td>0</td>\n",
       "      <td>0.0</td>\n",
       "      <td>0.0</td>\n",
       "    </tr>\n",
       "    <tr>\n",
       "      <th>1928-01-04 00:00:00-05:00</th>\n",
       "      <td>17.719999</td>\n",
       "      <td>17.719999</td>\n",
       "      <td>17.719999</td>\n",
       "      <td>17.719999</td>\n",
       "      <td>0</td>\n",
       "      <td>0.0</td>\n",
       "      <td>0.0</td>\n",
       "    </tr>\n",
       "    <tr>\n",
       "      <th>1928-01-05 00:00:00-05:00</th>\n",
       "      <td>17.549999</td>\n",
       "      <td>17.549999</td>\n",
       "      <td>17.549999</td>\n",
       "      <td>17.549999</td>\n",
       "      <td>0</td>\n",
       "      <td>0.0</td>\n",
       "      <td>0.0</td>\n",
       "    </tr>\n",
       "    <tr>\n",
       "      <th>1928-01-06 00:00:00-05:00</th>\n",
       "      <td>17.660000</td>\n",
       "      <td>17.660000</td>\n",
       "      <td>17.660000</td>\n",
       "      <td>17.660000</td>\n",
       "      <td>0</td>\n",
       "      <td>0.0</td>\n",
       "      <td>0.0</td>\n",
       "    </tr>\n",
       "    <tr>\n",
       "      <th>1928-01-09 00:00:00-05:00</th>\n",
       "      <td>17.500000</td>\n",
       "      <td>17.500000</td>\n",
       "      <td>17.500000</td>\n",
       "      <td>17.500000</td>\n",
       "      <td>0</td>\n",
       "      <td>0.0</td>\n",
       "      <td>0.0</td>\n",
       "    </tr>\n",
       "    <tr>\n",
       "      <th>1928-01-10 00:00:00-05:00</th>\n",
       "      <td>17.370001</td>\n",
       "      <td>17.370001</td>\n",
       "      <td>17.370001</td>\n",
       "      <td>17.370001</td>\n",
       "      <td>0</td>\n",
       "      <td>0.0</td>\n",
       "      <td>0.0</td>\n",
       "    </tr>\n",
       "    <tr>\n",
       "      <th>1928-01-11 00:00:00-05:00</th>\n",
       "      <td>17.350000</td>\n",
       "      <td>17.350000</td>\n",
       "      <td>17.350000</td>\n",
       "      <td>17.350000</td>\n",
       "      <td>0</td>\n",
       "      <td>0.0</td>\n",
       "      <td>0.0</td>\n",
       "    </tr>\n",
       "    <tr>\n",
       "      <th>1928-01-12 00:00:00-05:00</th>\n",
       "      <td>17.469999</td>\n",
       "      <td>17.469999</td>\n",
       "      <td>17.469999</td>\n",
       "      <td>17.469999</td>\n",
       "      <td>0</td>\n",
       "      <td>0.0</td>\n",
       "      <td>0.0</td>\n",
       "    </tr>\n",
       "    <tr>\n",
       "      <th>1928-01-13 00:00:00-05:00</th>\n",
       "      <td>17.580000</td>\n",
       "      <td>17.580000</td>\n",
       "      <td>17.580000</td>\n",
       "      <td>17.580000</td>\n",
       "      <td>0</td>\n",
       "      <td>0.0</td>\n",
       "      <td>0.0</td>\n",
       "    </tr>\n",
       "  </tbody>\n",
       "</table>\n",
       "</div>"
      ],
      "text/plain": [
       "                                Open       High        Low      Close  Volume  \\\n",
       "Date                                                                            \n",
       "1927-12-30 00:00:00-05:00  17.660000  17.660000  17.660000  17.660000       0   \n",
       "1928-01-03 00:00:00-05:00  17.760000  17.760000  17.760000  17.760000       0   \n",
       "1928-01-04 00:00:00-05:00  17.719999  17.719999  17.719999  17.719999       0   \n",
       "1928-01-05 00:00:00-05:00  17.549999  17.549999  17.549999  17.549999       0   \n",
       "1928-01-06 00:00:00-05:00  17.660000  17.660000  17.660000  17.660000       0   \n",
       "1928-01-09 00:00:00-05:00  17.500000  17.500000  17.500000  17.500000       0   \n",
       "1928-01-10 00:00:00-05:00  17.370001  17.370001  17.370001  17.370001       0   \n",
       "1928-01-11 00:00:00-05:00  17.350000  17.350000  17.350000  17.350000       0   \n",
       "1928-01-12 00:00:00-05:00  17.469999  17.469999  17.469999  17.469999       0   \n",
       "1928-01-13 00:00:00-05:00  17.580000  17.580000  17.580000  17.580000       0   \n",
       "\n",
       "                           Dividends  Stock Splits  \n",
       "Date                                                \n",
       "1927-12-30 00:00:00-05:00        0.0           0.0  \n",
       "1928-01-03 00:00:00-05:00        0.0           0.0  \n",
       "1928-01-04 00:00:00-05:00        0.0           0.0  \n",
       "1928-01-05 00:00:00-05:00        0.0           0.0  \n",
       "1928-01-06 00:00:00-05:00        0.0           0.0  \n",
       "1928-01-09 00:00:00-05:00        0.0           0.0  \n",
       "1928-01-10 00:00:00-05:00        0.0           0.0  \n",
       "1928-01-11 00:00:00-05:00        0.0           0.0  \n",
       "1928-01-12 00:00:00-05:00        0.0           0.0  \n",
       "1928-01-13 00:00:00-05:00        0.0           0.0  "
      ]
     },
     "execution_count": 58,
     "metadata": {},
     "output_type": "execute_result"
    }
   ],
   "source": [
    "# Fetch historical data for S&P500 from Yahoo Finance\n",
    "sp500=yf.Ticker(\"^GSPC\")\n",
    "sp500= sp500.history(period=\"max\")\n",
    "\n",
    "fig.savefig('u7.png') # saving image so we can use in ppt\n",
    "\n",
    "# Display the Dataset \n",
    "sp500.head(10)\n",
    "\n",
    "\n",
    "\n"
   ]
  },
  {
   "cell_type": "markdown",
   "metadata": {
    "slideshow": {
     "slide_type": "subslide"
    }
   },
   "source": [
    "This is the first 10 rows of the dataset using the head method.Here, we can have a first look at the features and some of the values that each one takes."
   ]
  },
  {
   "cell_type": "markdown",
   "metadata": {
    "slideshow": {
     "slide_type": "subslide"
    }
   },
   "source": [
    "#### Description for 7 Attributes \n",
    "| Columns| Description |\n",
    "|:------:|-|\n",
    "| INDEX |  Unique ID | \n",
    "| Date | The date of the record | \n",
    "| Open | The opening price of the day (when trading starts| \n",
    "|High| The highest trade price during the day|\n",
    "|Low| The lowest trade price during the day|\n",
    "|Close|The closing price for the day (when trading is finished)|\n",
    "|Volume| The number of shares traded|"
   ]
  },
  {
   "cell_type": "markdown",
   "metadata": {
    "slideshow": {
     "slide_type": "subslide"
    }
   },
   "source": [
    " **Check the dataset shape**\n",
    "\n",
    "Knowing the amount of data we have is very important, because the quality of our analysis is depend on that."
   ]
  },
  {
   "cell_type": "code",
   "execution_count": 59,
   "metadata": {
    "slideshow": {
     "slide_type": "subslide"
    }
   },
   "outputs": [
    {
     "data": {
      "text/plain": [
       "(24017, 7)"
      ]
     },
     "execution_count": 59,
     "metadata": {},
     "output_type": "execute_result"
    }
   ],
   "source": [
    "# check the result\n",
    "sp500.shape"
   ]
  },
  {
   "cell_type": "markdown",
   "metadata": {
    "slideshow": {
     "slide_type": "subslide"
    }
   },
   "source": [
    "#### Check the datetime index\n",
    "\n",
    "The index column enable us to index and slice the dataframe easly."
   ]
  },
  {
   "cell_type": "code",
   "execution_count": 4,
   "metadata": {
    "slideshow": {
     "slide_type": "subslide"
    }
   },
   "outputs": [
    {
     "data": {
      "text/plain": [
       "DatetimeIndex(['1927-12-30 00:00:00-05:00', '1928-01-03 00:00:00-05:00',\n",
       "               '1928-01-04 00:00:00-05:00', '1928-01-05 00:00:00-05:00',\n",
       "               '1928-01-06 00:00:00-05:00', '1928-01-09 00:00:00-05:00',\n",
       "               '1928-01-10 00:00:00-05:00', '1928-01-11 00:00:00-05:00',\n",
       "               '1928-01-12 00:00:00-05:00', '1928-01-13 00:00:00-05:00',\n",
       "               ...\n",
       "               '2023-07-28 00:00:00-04:00', '2023-07-31 00:00:00-04:00',\n",
       "               '2023-08-01 00:00:00-04:00', '2023-08-02 00:00:00-04:00',\n",
       "               '2023-08-03 00:00:00-04:00', '2023-08-04 00:00:00-04:00',\n",
       "               '2023-08-07 00:00:00-04:00', '2023-08-08 00:00:00-04:00',\n",
       "               '2023-08-09 00:00:00-04:00', '2023-08-10 00:00:00-04:00'],\n",
       "              dtype='datetime64[ns, America/New_York]', name='Date', length=24017, freq=None)"
      ]
     },
     "execution_count": 4,
     "metadata": {},
     "output_type": "execute_result"
    }
   ],
   "source": [
    "# check the s&p500 index\n",
    "sp500.index"
   ]
  },
  {
   "cell_type": "markdown",
   "metadata": {
    "slideshow": {
     "slide_type": "subslide"
    }
   },
   "source": [
    " **Check data type of all columns**\n",
    "\n",
    "Pandas.info method helps us to display the data types of all columns as a series."
   ]
  },
  {
   "cell_type": "code",
   "execution_count": 5,
   "metadata": {
    "slideshow": {
     "slide_type": "subslide"
    }
   },
   "outputs": [
    {
     "name": "stdout",
     "output_type": "stream",
     "text": [
      "<class 'pandas.core.frame.DataFrame'>\n",
      "DatetimeIndex: 24017 entries, 1927-12-30 00:00:00-05:00 to 2023-08-10 00:00:00-04:00\n",
      "Data columns (total 7 columns):\n",
      " #   Column        Non-Null Count  Dtype  \n",
      "---  ------        --------------  -----  \n",
      " 0   Open          24017 non-null  float64\n",
      " 1   High          24017 non-null  float64\n",
      " 2   Low           24017 non-null  float64\n",
      " 3   Close         24017 non-null  float64\n",
      " 4   Volume        24017 non-null  int64  \n",
      " 5   Dividends     24017 non-null  float64\n",
      " 6   Stock Splits  24017 non-null  float64\n",
      "dtypes: float64(6), int64(1)\n",
      "memory usage: 1.5 MB\n"
     ]
    }
   ],
   "source": [
    "# Check the data types\n",
    "sp500.info() \n"
   ]
  },
  {
   "cell_type": "markdown",
   "metadata": {
    "slideshow": {
     "slide_type": "subslide"
    }
   },
   "source": [
    "####  Let's check if there is a missing value\n",
    "I checked null values which is a fundamental part of data cleaning."
   ]
  },
  {
   "cell_type": "code",
   "execution_count": 178,
   "metadata": {
    "slideshow": {
     "slide_type": "subslide"
    }
   },
   "outputs": [
    {
     "data": {
      "text/plain": [
       "Open            0\n",
       "High            0\n",
       "Low             0\n",
       "Close           0\n",
       "Volume          0\n",
       "Dividends       0\n",
       "Stock Splits    0\n",
       "dtype: int64"
      ]
     },
     "execution_count": 178,
     "metadata": {},
     "output_type": "execute_result"
    }
   ],
   "source": [
    "# recommended code \n",
    "sp500.isnull().sum()"
   ]
  },
  {
   "cell_type": "markdown",
   "metadata": {
    "slideshow": {
     "slide_type": "subslide"
    }
   },
   "source": [
    "Sanity check, that there are indeed no null values in the dataset"
   ]
  },
  {
   "cell_type": "markdown",
   "metadata": {
    "slideshow": {
     "slide_type": "subslide"
    }
   },
   "source": [
    "#### Check duplicate value in the dataframe"
   ]
  },
  {
   "cell_type": "code",
   "execution_count": 6,
   "metadata": {
    "slideshow": {
     "slide_type": "subslide"
    }
   },
   "outputs": [
    {
     "data": {
      "text/plain": [
       "False    20161\n",
       "True      3856\n",
       "Name: count, dtype: int64"
      ]
     },
     "execution_count": 6,
     "metadata": {},
     "output_type": "execute_result"
    }
   ],
   "source": [
    "# use duplicated function\n",
    "sp500_dup = sp500.duplicated()\n",
    "\n",
    "# check the result\n",
    "sp500_dup.value_counts()"
   ]
  },
  {
   "cell_type": "markdown",
   "metadata": {
    "slideshow": {
     "slide_type": "subslide"
    }
   },
   "source": [
    "#### Plot the closing price aginst the index\n"
   ]
  },
  {
   "cell_type": "code",
   "execution_count": 8,
   "metadata": {
    "slideshow": {
     "slide_type": "subslide"
    }
   },
   "outputs": [
    {
     "data": {
      "text/plain": [
       "<Axes: xlabel='Date'>"
      ]
     },
     "execution_count": 8,
     "metadata": {},
     "output_type": "execute_result"
    },
    {
     "data": {
      "image/png": "[encoded data removed]",
      "text/plain": [
       "<Figure size 432x288 with 1 Axes>"
      ]
     },
     "metadata": {
      "needs_background": "light"
     },
     "output_type": "display_data"
    }
   ],
   "source": [
    "# plot closing price vs index\n",
    "\n",
    "sp500.plot.line(y=\"Close\",use_index=True)\n",
    "\n",
    "fig.savefig('w5.png')\n"
   ]
  },
  {
   "cell_type": "markdown",
   "metadata": {
    "slideshow": {
     "slide_type": "skip"
    }
   },
   "source": [
    "The depicted graph illustrates the historical price movement of the S&P 500 index. Observing this graph, we really can regret not buying the index fund anypoint in the last few years."
   ]
  },
  {
   "cell_type": "markdown",
   "metadata": {
    "slideshow": {
     "slide_type": "slide"
    }
   },
   "source": [
    "### Dataset preparation"
   ]
  },
  {
   "cell_type": "markdown",
   "metadata": {
    "slideshow": {
     "slide_type": "subslide"
    }
   },
   "source": [
    "This data frame contains a significant amount of historical data, which is generally beneficial. However, when dealing with stock market data, an excessive historical range could lead to fundamental shifts in the market by rendering some outdated data irrelevant for future predictions. Therefore, I intend to eliminate all entries before 1990-01-01. Additionally, I will exclude the Dividends and Stock Splits columns from the data frame."
   ]
  },
  {
   "cell_type": "code",
   "execution_count": 9,
   "metadata": {
    "slideshow": {
     "slide_type": "subslide"
    }
   },
   "outputs": [],
   "source": [
    "# remove extra columns\n",
    "del sp500[\"Dividends\"]\n",
    "del sp500[\"Stock Splits\"]"
   ]
  },
  {
   "cell_type": "code",
   "execution_count": 10,
   "metadata": {
    "slideshow": {
     "slide_type": "subslide"
    }
   },
   "outputs": [],
   "source": [
    "# remove data before 1990-01-01\n",
    "# use panda's loc method\n",
    "# only take rows where the index is at least 1990-01-01\n",
    "df = sp500.loc[\"1990-01-01\":].copy()"
   ]
  },
  {
   "cell_type": "code",
   "execution_count": 11,
   "metadata": {
    "slideshow": {
     "slide_type": "subslide"
    }
   },
   "outputs": [
    {
     "data": {
      "text/html": [
       "<div>\n",
       "<style scoped>\n",
       "    .dataframe tbody tr th:only-of-type {\n",
       "        vertical-align: middle;\n",
       "    }\n",
       "\n",
       "    .dataframe tbody tr th {\n",
       "        vertical-align: top;\n",
       "    }\n",
       "\n",
       "    .dataframe thead th {\n",
       "        text-align: right;\n",
       "    }\n",
       "</style>\n",
       "<table border=\"1\" class=\"dataframe\">\n",
       "  <thead>\n",
       "    <tr style=\"text-align: right;\">\n",
       "      <th></th>\n",
       "      <th>Open</th>\n",
       "      <th>High</th>\n",
       "      <th>Low</th>\n",
       "      <th>Close</th>\n",
       "      <th>Volume</th>\n",
       "      <th>Tomorrow</th>\n",
       "    </tr>\n",
       "    <tr>\n",
       "      <th>Date</th>\n",
       "      <th></th>\n",
       "      <th></th>\n",
       "      <th></th>\n",
       "      <th></th>\n",
       "      <th></th>\n",
       "      <th></th>\n",
       "    </tr>\n",
       "  </thead>\n",
       "  <tbody>\n",
       "    <tr>\n",
       "      <th>1990-01-02 00:00:00-05:00</th>\n",
       "      <td>353.399994</td>\n",
       "      <td>359.690002</td>\n",
       "      <td>351.980011</td>\n",
       "      <td>359.690002</td>\n",
       "      <td>162070000</td>\n",
       "      <td>358.760010</td>\n",
       "    </tr>\n",
       "    <tr>\n",
       "      <th>1990-01-03 00:00:00-05:00</th>\n",
       "      <td>359.690002</td>\n",
       "      <td>360.589996</td>\n",
       "      <td>357.890015</td>\n",
       "      <td>358.760010</td>\n",
       "      <td>192330000</td>\n",
       "      <td>355.670013</td>\n",
       "    </tr>\n",
       "    <tr>\n",
       "      <th>1990-01-04 00:00:00-05:00</th>\n",
       "      <td>358.760010</td>\n",
       "      <td>358.760010</td>\n",
       "      <td>352.890015</td>\n",
       "      <td>355.670013</td>\n",
       "      <td>177000000</td>\n",
       "      <td>352.200012</td>\n",
       "    </tr>\n",
       "    <tr>\n",
       "      <th>1990-01-05 00:00:00-05:00</th>\n",
       "      <td>355.670013</td>\n",
       "      <td>355.670013</td>\n",
       "      <td>351.350006</td>\n",
       "      <td>352.200012</td>\n",
       "      <td>158530000</td>\n",
       "      <td>353.790009</td>\n",
       "    </tr>\n",
       "    <tr>\n",
       "      <th>1990-01-08 00:00:00-05:00</th>\n",
       "      <td>352.200012</td>\n",
       "      <td>354.239990</td>\n",
       "      <td>350.540009</td>\n",
       "      <td>353.790009</td>\n",
       "      <td>140110000</td>\n",
       "      <td>349.619995</td>\n",
       "    </tr>\n",
       "    <tr>\n",
       "      <th>...</th>\n",
       "      <td>...</td>\n",
       "      <td>...</td>\n",
       "      <td>...</td>\n",
       "      <td>...</td>\n",
       "      <td>...</td>\n",
       "      <td>...</td>\n",
       "    </tr>\n",
       "    <tr>\n",
       "      <th>2023-08-04 00:00:00-04:00</th>\n",
       "      <td>4513.959961</td>\n",
       "      <td>4540.339844</td>\n",
       "      <td>4474.549805</td>\n",
       "      <td>4478.029785</td>\n",
       "      <td>4143310000</td>\n",
       "      <td>4518.439941</td>\n",
       "    </tr>\n",
       "    <tr>\n",
       "      <th>2023-08-07 00:00:00-04:00</th>\n",
       "      <td>4491.580078</td>\n",
       "      <td>4519.839844</td>\n",
       "      <td>4491.149902</td>\n",
       "      <td>4518.439941</td>\n",
       "      <td>3493920000</td>\n",
       "      <td>4499.379883</td>\n",
       "    </tr>\n",
       "    <tr>\n",
       "      <th>2023-08-08 00:00:00-04:00</th>\n",
       "      <td>4498.029785</td>\n",
       "      <td>4503.310059</td>\n",
       "      <td>4464.390137</td>\n",
       "      <td>4499.379883</td>\n",
       "      <td>3884910000</td>\n",
       "      <td>4467.709961</td>\n",
       "    </tr>\n",
       "    <tr>\n",
       "      <th>2023-08-09 00:00:00-04:00</th>\n",
       "      <td>4501.569824</td>\n",
       "      <td>4502.439941</td>\n",
       "      <td>4461.330078</td>\n",
       "      <td>4467.709961</td>\n",
       "      <td>3803100000</td>\n",
       "      <td>4515.609863</td>\n",
       "    </tr>\n",
       "    <tr>\n",
       "      <th>2023-08-10 00:00:00-04:00</th>\n",
       "      <td>4487.160156</td>\n",
       "      <td>4515.870117</td>\n",
       "      <td>4487.160156</td>\n",
       "      <td>4515.609863</td>\n",
       "      <td>161259521</td>\n",
       "      <td>NaN</td>\n",
       "    </tr>\n",
       "  </tbody>\n",
       "</table>\n",
       "<p>8467 rows × 6 columns</p>\n",
       "</div>"
      ],
      "text/plain": [
       "                                  Open         High          Low        Close  \\\n",
       "Date                                                                            \n",
       "1990-01-02 00:00:00-05:00   353.399994   359.690002   351.980011   359.690002   \n",
       "1990-01-03 00:00:00-05:00   359.690002   360.589996   357.890015   358.760010   \n",
       "1990-01-04 00:00:00-05:00   358.760010   358.760010   352.890015   355.670013   \n",
       "1990-01-05 00:00:00-05:00   355.670013   355.670013   351.350006   352.200012   \n",
       "1990-01-08 00:00:00-05:00   352.200012   354.239990   350.540009   353.790009   \n",
       "...                                ...          ...          ...          ...   \n",
       "2023-08-04 00:00:00-04:00  4513.959961  4540.339844  4474.549805  4478.029785   \n",
       "2023-08-07 00:00:00-04:00  4491.580078  4519.839844  4491.149902  4518.439941   \n",
       "2023-08-08 00:00:00-04:00  4498.029785  4503.310059  4464.390137  4499.379883   \n",
       "2023-08-09 00:00:00-04:00  4501.569824  4502.439941  4461.330078  4467.709961   \n",
       "2023-08-10 00:00:00-04:00  4487.160156  4515.870117  4487.160156  4515.609863   \n",
       "\n",
       "                               Volume     Tomorrow  \n",
       "Date                                                \n",
       "1990-01-02 00:00:00-05:00   162070000   358.760010  \n",
       "1990-01-03 00:00:00-05:00   192330000   355.670013  \n",
       "1990-01-04 00:00:00-05:00   177000000   352.200012  \n",
       "1990-01-05 00:00:00-05:00   158530000   353.790009  \n",
       "1990-01-08 00:00:00-05:00   140110000   349.619995  \n",
       "...                               ...          ...  \n",
       "2023-08-04 00:00:00-04:00  4143310000  4518.439941  \n",
       "2023-08-07 00:00:00-04:00  3493920000  4499.379883  \n",
       "2023-08-08 00:00:00-04:00  3884910000  4467.709961  \n",
       "2023-08-09 00:00:00-04:00  3803100000  4515.609863  \n",
       "2023-08-10 00:00:00-04:00   161259521          NaN  \n",
       "\n",
       "[8467 rows x 6 columns]"
      ]
     },
     "execution_count": 11,
     "metadata": {},
     "output_type": "execute_result"
    }
   ],
   "source": [
    "# create column called tomorrow\n",
    "# the new column going to be tomorrow's price\n",
    "# use panda's shift method\n",
    "# use the close column and shift all the price back one day\n",
    "\n",
    "df[\"Tomorrow\"] = df[\"Close\"].shift(-1)\n",
    "\n",
    "# show the dataframe\n",
    "df"
   ]
  },
  {
   "cell_type": "markdown",
   "metadata": {
    "slideshow": {
     "slide_type": "subslide"
    }
   },
   "source": [
    "#### Setting up the target for machine learning"
   ]
  },
  {
   "cell_type": "code",
   "execution_count": 12,
   "metadata": {
    "slideshow": {
     "slide_type": "subslide"
    }
   },
   "outputs": [
    {
     "data": {
      "text/html": [
       "<div>\n",
       "<style scoped>\n",
       "    .dataframe tbody tr th:only-of-type {\n",
       "        vertical-align: middle;\n",
       "    }\n",
       "\n",
       "    .dataframe tbody tr th {\n",
       "        vertical-align: top;\n",
       "    }\n",
       "\n",
       "    .dataframe thead th {\n",
       "        text-align: right;\n",
       "    }\n",
       "</style>\n",
       "<table border=\"1\" class=\"dataframe\">\n",
       "  <thead>\n",
       "    <tr style=\"text-align: right;\">\n",
       "      <th></th>\n",
       "      <th>Open</th>\n",
       "      <th>High</th>\n",
       "      <th>Low</th>\n",
       "      <th>Close</th>\n",
       "      <th>Volume</th>\n",
       "      <th>Tomorrow</th>\n",
       "      <th>Target</th>\n",
       "    </tr>\n",
       "    <tr>\n",
       "      <th>Date</th>\n",
       "      <th></th>\n",
       "      <th></th>\n",
       "      <th></th>\n",
       "      <th></th>\n",
       "      <th></th>\n",
       "      <th></th>\n",
       "      <th></th>\n",
       "    </tr>\n",
       "  </thead>\n",
       "  <tbody>\n",
       "    <tr>\n",
       "      <th>1990-01-02 00:00:00-05:00</th>\n",
       "      <td>353.399994</td>\n",
       "      <td>359.690002</td>\n",
       "      <td>351.980011</td>\n",
       "      <td>359.690002</td>\n",
       "      <td>162070000</td>\n",
       "      <td>358.760010</td>\n",
       "      <td>0</td>\n",
       "    </tr>\n",
       "    <tr>\n",
       "      <th>1990-01-03 00:00:00-05:00</th>\n",
       "      <td>359.690002</td>\n",
       "      <td>360.589996</td>\n",
       "      <td>357.890015</td>\n",
       "      <td>358.760010</td>\n",
       "      <td>192330000</td>\n",
       "      <td>355.670013</td>\n",
       "      <td>0</td>\n",
       "    </tr>\n",
       "    <tr>\n",
       "      <th>1990-01-04 00:00:00-05:00</th>\n",
       "      <td>358.760010</td>\n",
       "      <td>358.760010</td>\n",
       "      <td>352.890015</td>\n",
       "      <td>355.670013</td>\n",
       "      <td>177000000</td>\n",
       "      <td>352.200012</td>\n",
       "      <td>0</td>\n",
       "    </tr>\n",
       "    <tr>\n",
       "      <th>1990-01-05 00:00:00-05:00</th>\n",
       "      <td>355.670013</td>\n",
       "      <td>355.670013</td>\n",
       "      <td>351.350006</td>\n",
       "      <td>352.200012</td>\n",
       "      <td>158530000</td>\n",
       "      <td>353.790009</td>\n",
       "      <td>1</td>\n",
       "    </tr>\n",
       "    <tr>\n",
       "      <th>1990-01-08 00:00:00-05:00</th>\n",
       "      <td>352.200012</td>\n",
       "      <td>354.239990</td>\n",
       "      <td>350.540009</td>\n",
       "      <td>353.790009</td>\n",
       "      <td>140110000</td>\n",
       "      <td>349.619995</td>\n",
       "      <td>0</td>\n",
       "    </tr>\n",
       "    <tr>\n",
       "      <th>...</th>\n",
       "      <td>...</td>\n",
       "      <td>...</td>\n",
       "      <td>...</td>\n",
       "      <td>...</td>\n",
       "      <td>...</td>\n",
       "      <td>...</td>\n",
       "      <td>...</td>\n",
       "    </tr>\n",
       "    <tr>\n",
       "      <th>2023-08-04 00:00:00-04:00</th>\n",
       "      <td>4513.959961</td>\n",
       "      <td>4540.339844</td>\n",
       "      <td>4474.549805</td>\n",
       "      <td>4478.029785</td>\n",
       "      <td>4143310000</td>\n",
       "      <td>4518.439941</td>\n",
       "      <td>1</td>\n",
       "    </tr>\n",
       "    <tr>\n",
       "      <th>2023-08-07 00:00:00-04:00</th>\n",
       "      <td>4491.580078</td>\n",
       "      <td>4519.839844</td>\n",
       "      <td>4491.149902</td>\n",
       "      <td>4518.439941</td>\n",
       "      <td>3493920000</td>\n",
       "      <td>4499.379883</td>\n",
       "      <td>0</td>\n",
       "    </tr>\n",
       "    <tr>\n",
       "      <th>2023-08-08 00:00:00-04:00</th>\n",
       "      <td>4498.029785</td>\n",
       "      <td>4503.310059</td>\n",
       "      <td>4464.390137</td>\n",
       "      <td>4499.379883</td>\n",
       "      <td>3884910000</td>\n",
       "      <td>4467.709961</td>\n",
       "      <td>0</td>\n",
       "    </tr>\n",
       "    <tr>\n",
       "      <th>2023-08-09 00:00:00-04:00</th>\n",
       "      <td>4501.569824</td>\n",
       "      <td>4502.439941</td>\n",
       "      <td>4461.330078</td>\n",
       "      <td>4467.709961</td>\n",
       "      <td>3803100000</td>\n",
       "      <td>4515.609863</td>\n",
       "      <td>1</td>\n",
       "    </tr>\n",
       "    <tr>\n",
       "      <th>2023-08-10 00:00:00-04:00</th>\n",
       "      <td>4487.160156</td>\n",
       "      <td>4515.870117</td>\n",
       "      <td>4487.160156</td>\n",
       "      <td>4515.609863</td>\n",
       "      <td>161259521</td>\n",
       "      <td>NaN</td>\n",
       "      <td>0</td>\n",
       "    </tr>\n",
       "  </tbody>\n",
       "</table>\n",
       "<p>8467 rows × 7 columns</p>\n",
       "</div>"
      ],
      "text/plain": [
       "                                  Open         High          Low        Close  \\\n",
       "Date                                                                            \n",
       "1990-01-02 00:00:00-05:00   353.399994   359.690002   351.980011   359.690002   \n",
       "1990-01-03 00:00:00-05:00   359.690002   360.589996   357.890015   358.760010   \n",
       "1990-01-04 00:00:00-05:00   358.760010   358.760010   352.890015   355.670013   \n",
       "1990-01-05 00:00:00-05:00   355.670013   355.670013   351.350006   352.200012   \n",
       "1990-01-08 00:00:00-05:00   352.200012   354.239990   350.540009   353.790009   \n",
       "...                                ...          ...          ...          ...   \n",
       "2023-08-04 00:00:00-04:00  4513.959961  4540.339844  4474.549805  4478.029785   \n",
       "2023-08-07 00:00:00-04:00  4491.580078  4519.839844  4491.149902  4518.439941   \n",
       "2023-08-08 00:00:00-04:00  4498.029785  4503.310059  4464.390137  4499.379883   \n",
       "2023-08-09 00:00:00-04:00  4501.569824  4502.439941  4461.330078  4467.709961   \n",
       "2023-08-10 00:00:00-04:00  4487.160156  4515.870117  4487.160156  4515.609863   \n",
       "\n",
       "                               Volume     Tomorrow  Target  \n",
       "Date                                                        \n",
       "1990-01-02 00:00:00-05:00   162070000   358.760010       0  \n",
       "1990-01-03 00:00:00-05:00   192330000   355.670013       0  \n",
       "1990-01-04 00:00:00-05:00   177000000   352.200012       0  \n",
       "1990-01-05 00:00:00-05:00   158530000   353.790009       1  \n",
       "1990-01-08 00:00:00-05:00   140110000   349.619995       0  \n",
       "...                               ...          ...     ...  \n",
       "2023-08-04 00:00:00-04:00  4143310000  4518.439941       1  \n",
       "2023-08-07 00:00:00-04:00  3493920000  4499.379883       0  \n",
       "2023-08-08 00:00:00-04:00  3884910000  4467.709961       0  \n",
       "2023-08-09 00:00:00-04:00  3803100000  4515.609863       1  \n",
       "2023-08-10 00:00:00-04:00   161259521          NaN       0  \n",
       "\n",
       "[8467 rows x 7 columns]"
      ]
     },
     "execution_count": 12,
     "metadata": {},
     "output_type": "execute_result"
    }
   ],
   "source": [
    "# set up the target, this is what I am trying to predict using machine learning\n",
    "# based on tomorrow's price set up the target price\n",
    "# the target: is tomorrow's price grater than tody's price\n",
    "\n",
    "df[\"Target\"] = (df[\"Tomorrow\"] > df[\"Close\"]).astype(int)\n",
    "\n",
    "fig.savefig('x6.png')\n",
    "\n",
    "# show the dataframe\n",
    "df"
   ]
  },
  {
   "cell_type": "markdown",
   "metadata": {
    "slideshow": {
     "slide_type": "subslide"
    }
   },
   "source": [
    "#### Check duplicates after data preparation"
   ]
  },
  {
   "cell_type": "code",
   "execution_count": 13,
   "metadata": {
    "slideshow": {
     "slide_type": "subslide"
    }
   },
   "outputs": [
    {
     "data": {
      "text/plain": [
       "False    8467\n",
       "Name: count, dtype: int64"
      ]
     },
     "execution_count": 13,
     "metadata": {},
     "output_type": "execute_result"
    }
   ],
   "source": [
    "# use duplicated function\n",
    "sp500_dup = df.duplicated()\n",
    "\n",
    "# check the result\n",
    "sp500_dup.value_counts()"
   ]
  },
  {
   "cell_type": "code",
   "execution_count": 15,
   "metadata": {
    "slideshow": {
     "slide_type": "subslide"
    }
   },
   "outputs": [
    {
     "data": {
      "text/html": [
       "<div>\n",
       "<style scoped>\n",
       "    .dataframe tbody tr th:only-of-type {\n",
       "        vertical-align: middle;\n",
       "    }\n",
       "\n",
       "    .dataframe tbody tr th {\n",
       "        vertical-align: top;\n",
       "    }\n",
       "\n",
       "    .dataframe thead th {\n",
       "        text-align: right;\n",
       "    }\n",
       "</style>\n",
       "<table border=\"1\" class=\"dataframe\">\n",
       "  <thead>\n",
       "    <tr style=\"text-align: right;\">\n",
       "      <th></th>\n",
       "      <th>Open</th>\n",
       "      <th>High</th>\n",
       "      <th>Low</th>\n",
       "      <th>Close</th>\n",
       "      <th>Volume</th>\n",
       "      <th>Tomorrow</th>\n",
       "      <th>Target</th>\n",
       "    </tr>\n",
       "  </thead>\n",
       "  <tbody>\n",
       "    <tr>\n",
       "      <th>count</th>\n",
       "      <td>8467.000000</td>\n",
       "      <td>8467.000000</td>\n",
       "      <td>8467.000000</td>\n",
       "      <td>8467.000000</td>\n",
       "      <td>8.467000e+03</td>\n",
       "      <td>8466.000000</td>\n",
       "      <td>8467.000000</td>\n",
       "    </tr>\n",
       "    <tr>\n",
       "      <th>mean</th>\n",
       "      <td>1550.424882</td>\n",
       "      <td>1559.663873</td>\n",
       "      <td>1540.555379</td>\n",
       "      <td>1550.746800</td>\n",
       "      <td>2.442800e+09</td>\n",
       "      <td>1550.887488</td>\n",
       "      <td>0.534310</td>\n",
       "    </tr>\n",
       "    <tr>\n",
       "      <th>std</th>\n",
       "      <td>1050.759655</td>\n",
       "      <td>1056.542330</td>\n",
       "      <td>1044.597035</td>\n",
       "      <td>1050.917036</td>\n",
       "      <td>1.852428e+09</td>\n",
       "      <td>1050.899367</td>\n",
       "      <td>0.498851</td>\n",
       "    </tr>\n",
       "    <tr>\n",
       "      <th>min</th>\n",
       "      <td>295.450012</td>\n",
       "      <td>301.450012</td>\n",
       "      <td>294.510010</td>\n",
       "      <td>295.459991</td>\n",
       "      <td>1.499000e+07</td>\n",
       "      <td>295.459991</td>\n",
       "      <td>0.000000</td>\n",
       "    </tr>\n",
       "    <tr>\n",
       "      <th>25%</th>\n",
       "      <td>889.915009</td>\n",
       "      <td>899.015015</td>\n",
       "      <td>878.970001</td>\n",
       "      <td>890.194977</td>\n",
       "      <td>6.259850e+08</td>\n",
       "      <td>890.259979</td>\n",
       "      <td>0.000000</td>\n",
       "    </tr>\n",
       "    <tr>\n",
       "      <th>50%</th>\n",
       "      <td>1262.060059</td>\n",
       "      <td>1270.000000</td>\n",
       "      <td>1254.239990</td>\n",
       "      <td>1262.069946</td>\n",
       "      <td>2.424700e+09</td>\n",
       "      <td>1262.079956</td>\n",
       "      <td>1.000000</td>\n",
       "    </tr>\n",
       "    <tr>\n",
       "      <th>75%</th>\n",
       "      <td>2013.054993</td>\n",
       "      <td>2021.799988</td>\n",
       "      <td>1997.304993</td>\n",
       "      <td>2012.234985</td>\n",
       "      <td>3.823775e+09</td>\n",
       "      <td>2012.302490</td>\n",
       "      <td>1.000000</td>\n",
       "    </tr>\n",
       "    <tr>\n",
       "      <th>max</th>\n",
       "      <td>4804.509766</td>\n",
       "      <td>4818.620117</td>\n",
       "      <td>4780.040039</td>\n",
       "      <td>4796.560059</td>\n",
       "      <td>1.145623e+10</td>\n",
       "      <td>4796.560059</td>\n",
       "      <td>1.000000</td>\n",
       "    </tr>\n",
       "  </tbody>\n",
       "</table>\n",
       "</div>"
      ],
      "text/plain": [
       "              Open         High          Low        Close        Volume  \\\n",
       "count  8467.000000  8467.000000  8467.000000  8467.000000  8.467000e+03   \n",
       "mean   1550.424882  1559.663873  1540.555379  1550.746800  2.442800e+09   \n",
       "std    1050.759655  1056.542330  1044.597035  1050.917036  1.852428e+09   \n",
       "min     295.450012   301.450012   294.510010   295.459991  1.499000e+07   \n",
       "25%     889.915009   899.015015   878.970001   890.194977  6.259850e+08   \n",
       "50%    1262.060059  1270.000000  1254.239990  1262.069946  2.424700e+09   \n",
       "75%    2013.054993  2021.799988  1997.304993  2012.234985  3.823775e+09   \n",
       "max    4804.509766  4818.620117  4780.040039  4796.560059  1.145623e+10   \n",
       "\n",
       "          Tomorrow       Target  \n",
       "count  8466.000000  8467.000000  \n",
       "mean   1550.887488     0.534310  \n",
       "std    1050.899367     0.498851  \n",
       "min     295.459991     0.000000  \n",
       "25%     890.259979     0.000000  \n",
       "50%    1262.079956     1.000000  \n",
       "75%    2012.302490     1.000000  \n",
       "max    4796.560059     1.000000  "
      ]
     },
     "execution_count": 15,
     "metadata": {},
     "output_type": "execute_result"
    }
   ],
   "source": [
    "# Brief Description of our dataset\n",
    "fig.savefig('y2.png')\n",
    "\n",
    "df.describe()\n",
    "\n"
   ]
  },
  {
   "cell_type": "markdown",
   "metadata": {
    "slideshow": {
     "slide_type": "subslide"
    }
   },
   "source": [
    "#### Distribution of the dataset using histogram"
   ]
  },
  {
   "cell_type": "code",
   "execution_count": null,
   "metadata": {
    "slideshow": {
     "slide_type": "subslide"
    }
   },
   "outputs": [],
   "source": [
    "selected_columns = ['Open', 'High', 'Low', 'Close', 'Volume']\n",
    "selected_data = df[selected_columns]\n",
    "\n",
    "# Plot histograms using hist method\n",
    "histogram = selected_data.hist(layout=(2, 3), figsize=(10, 6))\n",
    "\n",
    "# Set titles and labels for each subplot\n",
    "for i, column in enumerate(selected_columns):\n",
    "    row = i // 3\n",
    "    col = i % 3\n",
    "    histogram[row, col].set_title(column)\n",
    "    histogram[row, col].set_xlabel(column)"
   ]
  },
  {
   "cell_type": "code",
   "execution_count": 13,
   "metadata": {
    "slideshow": {
     "slide_type": "subslide"
    }
   },
   "outputs": [
    {
     "data": {
      "image/png": "[encoded data removed]",
      "text/plain": [
       "<Figure size 720x432 with 6 Axes>"
      ]
     },
     "metadata": {
      "needs_background": "light"
     },
     "output_type": "display_data"
    }
   ],
   "source": [
    "# Adjust layout and save the plot\n",
    "plt.tight_layout()\n",
    "plt.savefig('histogram.png')# saving image so we can use in ppt\n",
    "plt.show()"
   ]
  },
  {
   "cell_type": "markdown",
   "metadata": {
    "slideshow": {
     "slide_type": "subslide"
    }
   },
   "source": [
    "Based on the distribution plot,we need to scale the dataset, before modeling."
   ]
  },
  {
   "cell_type": "markdown",
   "metadata": {
    "slideshow": {
     "slide_type": "subslide"
    }
   },
   "source": [
    "#### Boxplot:"
   ]
  },
  {
   "cell_type": "code",
   "execution_count": null,
   "metadata": {
    "slideshow": {
     "slide_type": "subslide"
    }
   },
   "outputs": [],
   "source": [
    "num_column = ['Open', 'High', 'Low', 'Close', 'Volume']\n",
    "\n",
    "# set figure size\n",
    "fig = plt.figure(figsize=(10, 10))\n",
    "i = 1\n",
    "for f in num_column :\n",
    "    plt.subplot(3, 3, i)\n",
    "    plt.boxplot(df[f], whis=1.5) # Increase the size of the box using 'whis' parameter\n",
    "    plt.title(f)\n",
    "    i += 1"
   ]
  },
  {
   "cell_type": "code",
   "execution_count": 14,
   "metadata": {
    "slideshow": {
     "slide_type": "subslide"
    }
   },
   "outputs": [
    {
     "data": {
      "image/png": "[encoded data removed]",
      "text/plain": [
       "<Figure size 720x720 with 5 Axes>"
      ]
     },
     "metadata": {
      "needs_background": "light"
     },
     "output_type": "display_data"
    }
   ],
   "source": [
    "fig.savefig('i1.png') # saving image so we can use in ppt\n",
    "plt.show()"
   ]
  },
  {
   "cell_type": "markdown",
   "metadata": {
    "slideshow": {
     "slide_type": "subslide"
    }
   },
   "source": [
    "Volume column has outliers that we will need to scale later before model training."
   ]
  },
  {
   "cell_type": "markdown",
   "metadata": {
    "slideshow": {
     "slide_type": "subslide"
    }
   },
   "source": [
    "####  Let's look at each column individually"
   ]
  },
  {
   "cell_type": "markdown",
   "metadata": {
    "slideshow": {
     "slide_type": "subslide"
    }
   },
   "source": [
    "##### Open:"
   ]
  },
  {
   "cell_type": "code",
   "execution_count": 15,
   "metadata": {
    "slideshow": {
     "slide_type": "subslide"
    }
   },
   "outputs": [
    {
     "data": {
      "image/png": "[encoded data removed]",
      "text/plain": [
       "<Figure size 432x288 with 1 Axes>"
      ]
     },
     "metadata": {
      "needs_background": "light"
     },
     "output_type": "display_data"
    }
   ],
   "source": [
    "sns.boxplot(df.Open)\n",
    "fig.savefig('m1.png') # saving image so we can use in ppt"
   ]
  },
  {
   "cell_type": "code",
   "execution_count": 368,
   "metadata": {
    "slideshow": {
     "slide_type": "subslide"
    }
   },
   "outputs": [
    {
     "data": {
      "image/png": "[encoded data removed]",
      "text/plain": [
       "<Figure size 432x288 with 1 Axes>"
      ]
     },
     "metadata": {
      "needs_background": "light"
     },
     "output_type": "display_data"
    }
   ],
   "source": [
    "sns.boxplot(df.High)\n",
    "fig.savefig('b1.png') # saving image so we can use in ppt"
   ]
  },
  {
   "cell_type": "code",
   "execution_count": 16,
   "metadata": {
    "slideshow": {
     "slide_type": "subslide"
    }
   },
   "outputs": [
    {
     "data": {
      "image/png": "[encoded data removed]",
      "text/plain": [
       "<Figure size 432x288 with 1 Axes>"
      ]
     },
     "metadata": {
      "needs_background": "light"
     },
     "output_type": "display_data"
    }
   ],
   "source": [
    "sns.boxplot(df.Low)\n",
    "fig.savefig('s1.png') # saving image so we can use in ppt"
   ]
  },
  {
   "cell_type": "code",
   "execution_count": 370,
   "metadata": {
    "slideshow": {
     "slide_type": "subslide"
    }
   },
   "outputs": [
    {
     "data": {
      "image/png": "[encoded data removed]",
      "text/plain": [
       "<Figure size 432x288 with 1 Axes>"
      ]
     },
     "metadata": {
      "needs_background": "light"
     },
     "output_type": "display_data"
    }
   ],
   "source": [
    "sns.boxplot(df.Close)\n",
    "fig.savefig('k1.png') # saving image so we can use in ppt"
   ]
  },
  {
   "cell_type": "code",
   "execution_count": 17,
   "metadata": {
    "slideshow": {
     "slide_type": "subslide"
    }
   },
   "outputs": [
    {
     "data": {
      "image/png": "[encoded data removed]",
      "text/plain": [
       "<Figure size 432x288 with 1 Axes>"
      ]
     },
     "metadata": {
      "needs_background": "light"
     },
     "output_type": "display_data"
    }
   ],
   "source": [
    "sns.boxplot(df.Volume)\n",
    "fig.savefig('v1.png') # saving image so we can use in ppt"
   ]
  },
  {
   "cell_type": "markdown",
   "metadata": {
    "slideshow": {
     "slide_type": "subslide"
    }
   },
   "source": [
    "Volume column shows that there are outliers, and we need to address this later in the data preparation before modeling. "
   ]
  },
  {
   "cell_type": "code",
   "execution_count": null,
   "metadata": {
    "slideshow": {
     "slide_type": "subslide"
    }
   },
   "outputs": [],
   "source": [
    "# Plotting close price data\n",
    "plt.style.use('ggplot')\n",
    "plt.figure(figsize=(10, 4))\n",
    "plt.grid(True)\n",
    "plt.xlabel('Date', fontsize=14)\n",
    "plt.ylabel('Close', fontsize=14)\n",
    "df['Close'].plot(color='blue')\n",
    "plt.locator_params(axis='x', nbins=10)  # Adjust the number of bins to control x-axis tick frequency\n",
    "plt.xticks(fontsize=10)\n",
    "plt.yticks(fontsize=10)\n",
    "plt.title('S&P500 Closing Price', fontsize=18)\n",
    "fig.savefig('i9.png'"
   ]
  },
  {
   "cell_type": "code",
   "execution_count": 23,
   "metadata": {
    "slideshow": {
     "slide_type": "subslide"
    }
   },
   "outputs": [
    {
     "name": "stderr",
     "output_type": "stream",
     "text": [
      "<ipython-input-23-8276ab602138>:8: UserWarning: 'set_params()' not defined for locator of type <class 'pandas.plotting._matplotlib.converter.PandasAutoDateLocator'>\n",
      "  plt.locator_params(axis='x', nbins=10)  # Adjust the number of bins to control x-axis tick frequency\n"
     ]
    },
    {
     "data": {
      "image/png": "[encoded data removed]",
      "text/plain": [
       "<Figure size 720x288 with 1 Axes>"
      ]
     },
     "metadata": {},
     "output_type": "display_data"
    }
   ],
   "source": [
    "plt.show()"
   ]
  },
  {
   "cell_type": "code",
   "execution_count": null,
   "metadata": {
    "slideshow": {
     "slide_type": "subslide"
    }
   },
   "outputs": [],
   "source": [
    "# Plot close price count\n",
    "plt.figure(figsize=(10, 4)) \n",
    "sns.histplot(df['Close'], kde=True, color='blue')\n",
    "plt.xlabel('Close', fontsize=20)\n",
    "plt.xticks(fontsize = 15)\n",
    "plt.ylabel('Count', fontsize=20)\n",
    "plt.yticks(fontsize  = 15)\n",
    "plt.title('Histogram of Close Prices', fontsize=15)\n",
    "fig.savefig('e8.png')"
   ]
  },
  {
   "cell_type": "code",
   "execution_count": 373,
   "metadata": {
    "slideshow": {
     "slide_type": "subslide"
    }
   },
   "outputs": [
    {
     "data": {
      "image/png": "[encoded data removed]",
      "text/plain": [
       "<Figure size 720x288 with 1 Axes>"
      ]
     },
     "metadata": {},
     "output_type": "display_data"
    }
   ],
   "source": [
    "plt.show()"
   ]
  },
  {
   "cell_type": "markdown",
   "metadata": {
    "slideshow": {
     "slide_type": "skip"
    }
   },
   "source": [
    "This histogram plot shows the distribution of the 'Close' prices, where the x-axis represents the 'Close' price range and the y-axis represents the frequency (count) of occurrences within each price range.And this plot provides a smooth estimate of the probability density function for the 'Close' prices.And can help us understand the central tendency, spread, and potential outliers in the 'Close' prices distribution."
   ]
  },
  {
   "cell_type": "markdown",
   "metadata": {
    "slideshow": {
     "slide_type": "slide"
    }
   },
   "source": [
    "## Machine Learning Models \n",
    "#### Training an initial machine learning model"
   ]
  },
  {
   "cell_type": "markdown",
   "metadata": {
    "slideshow": {
     "slide_type": "skip"
    }
   },
   "source": [
    "With the dataset now prepared, I am poised to initiate training for the machine learning model. To embark on this journey, I've opted to employ the RandomForestClassifier as my primary choice. This preference is rooted in several compelling reasons. First and foremost, the RandomForestClassifier operates through the training of multiple distinct decision trees, each characterized by randomized parameters. The subsequent amalgamation of outcomes from these trees engenders a mitigation of overfitting tendencies. Although overfitting remains a potential concern, its manifestation is notably subdued in comparison to alternative model architectures.\n",
    "\n",
    "Additionally, the RandomForestClassifier boasts a commendable pace of execution, rendering it an efficient candidate for my purposes. Furthermore, its adeptness in capturing non-linear trends within the data renders it particularly suited for my venture. Take, for instance, the relationship between the opening price and the target variable, this connection isn't confined to linear correlation. The RandomForestClassifier's capacity to discern and account for such intricate non-linear dependencies aligns seamlessly with the multifaceted nature of stock price prediction, where non-linearity often pervades the underlying relationships."
   ]
  },
  {
   "cell_type": "code",
   "execution_count": 46,
   "metadata": {
    "slideshow": {
     "slide_type": "skip"
    }
   },
   "outputs": [
    {
     "data": {
      "text/html": [
       "<div>\n",
       "<style scoped>\n",
       "    .dataframe tbody tr th:only-of-type {\n",
       "        vertical-align: middle;\n",
       "    }\n",
       "\n",
       "    .dataframe tbody tr th {\n",
       "        vertical-align: top;\n",
       "    }\n",
       "\n",
       "    .dataframe thead th {\n",
       "        text-align: right;\n",
       "    }\n",
       "</style>\n",
       "<table border=\"1\" class=\"dataframe\">\n",
       "  <thead>\n",
       "    <tr style=\"text-align: right;\">\n",
       "      <th></th>\n",
       "      <th>Open</th>\n",
       "      <th>High</th>\n",
       "      <th>Low</th>\n",
       "      <th>Close</th>\n",
       "      <th>Volume</th>\n",
       "      <th>Tomorrow</th>\n",
       "      <th>Target</th>\n",
       "    </tr>\n",
       "    <tr>\n",
       "      <th>Date</th>\n",
       "      <th></th>\n",
       "      <th></th>\n",
       "      <th></th>\n",
       "      <th></th>\n",
       "      <th></th>\n",
       "      <th></th>\n",
       "      <th></th>\n",
       "    </tr>\n",
       "  </thead>\n",
       "  <tbody>\n",
       "    <tr>\n",
       "      <th>1990-01-02 00:00:00-05:00</th>\n",
       "      <td>353.399994</td>\n",
       "      <td>359.690002</td>\n",
       "      <td>351.980011</td>\n",
       "      <td>359.690002</td>\n",
       "      <td>162070000</td>\n",
       "      <td>358.760010</td>\n",
       "      <td>0</td>\n",
       "    </tr>\n",
       "    <tr>\n",
       "      <th>1990-01-03 00:00:00-05:00</th>\n",
       "      <td>359.690002</td>\n",
       "      <td>360.589996</td>\n",
       "      <td>357.890015</td>\n",
       "      <td>358.760010</td>\n",
       "      <td>192330000</td>\n",
       "      <td>355.670013</td>\n",
       "      <td>0</td>\n",
       "    </tr>\n",
       "    <tr>\n",
       "      <th>1990-01-04 00:00:00-05:00</th>\n",
       "      <td>358.760010</td>\n",
       "      <td>358.760010</td>\n",
       "      <td>352.890015</td>\n",
       "      <td>355.670013</td>\n",
       "      <td>177000000</td>\n",
       "      <td>352.200012</td>\n",
       "      <td>0</td>\n",
       "    </tr>\n",
       "    <tr>\n",
       "      <th>1990-01-05 00:00:00-05:00</th>\n",
       "      <td>355.670013</td>\n",
       "      <td>355.670013</td>\n",
       "      <td>351.350006</td>\n",
       "      <td>352.200012</td>\n",
       "      <td>158530000</td>\n",
       "      <td>353.790009</td>\n",
       "      <td>1</td>\n",
       "    </tr>\n",
       "    <tr>\n",
       "      <th>1990-01-08 00:00:00-05:00</th>\n",
       "      <td>352.200012</td>\n",
       "      <td>354.239990</td>\n",
       "      <td>350.540009</td>\n",
       "      <td>353.790009</td>\n",
       "      <td>140110000</td>\n",
       "      <td>349.619995</td>\n",
       "      <td>0</td>\n",
       "    </tr>\n",
       "    <tr>\n",
       "      <th>...</th>\n",
       "      <td>...</td>\n",
       "      <td>...</td>\n",
       "      <td>...</td>\n",
       "      <td>...</td>\n",
       "      <td>...</td>\n",
       "      <td>...</td>\n",
       "      <td>...</td>\n",
       "    </tr>\n",
       "    <tr>\n",
       "      <th>2023-08-04 00:00:00-04:00</th>\n",
       "      <td>4513.959961</td>\n",
       "      <td>4540.339844</td>\n",
       "      <td>4474.549805</td>\n",
       "      <td>4478.029785</td>\n",
       "      <td>4143310000</td>\n",
       "      <td>4518.439941</td>\n",
       "      <td>1</td>\n",
       "    </tr>\n",
       "    <tr>\n",
       "      <th>2023-08-07 00:00:00-04:00</th>\n",
       "      <td>4491.580078</td>\n",
       "      <td>4519.839844</td>\n",
       "      <td>4491.149902</td>\n",
       "      <td>4518.439941</td>\n",
       "      <td>3493920000</td>\n",
       "      <td>4499.379883</td>\n",
       "      <td>0</td>\n",
       "    </tr>\n",
       "    <tr>\n",
       "      <th>2023-08-08 00:00:00-04:00</th>\n",
       "      <td>4498.029785</td>\n",
       "      <td>4503.310059</td>\n",
       "      <td>4464.390137</td>\n",
       "      <td>4499.379883</td>\n",
       "      <td>3884910000</td>\n",
       "      <td>4467.709961</td>\n",
       "      <td>0</td>\n",
       "    </tr>\n",
       "    <tr>\n",
       "      <th>2023-08-09 00:00:00-04:00</th>\n",
       "      <td>4501.569824</td>\n",
       "      <td>4502.439941</td>\n",
       "      <td>4461.330078</td>\n",
       "      <td>4467.709961</td>\n",
       "      <td>3803100000</td>\n",
       "      <td>4515.609863</td>\n",
       "      <td>1</td>\n",
       "    </tr>\n",
       "    <tr>\n",
       "      <th>2023-08-10 00:00:00-04:00</th>\n",
       "      <td>4487.160156</td>\n",
       "      <td>4515.870117</td>\n",
       "      <td>4487.160156</td>\n",
       "      <td>4515.609863</td>\n",
       "      <td>161259521</td>\n",
       "      <td>NaN</td>\n",
       "      <td>0</td>\n",
       "    </tr>\n",
       "  </tbody>\n",
       "</table>\n",
       "<p>8467 rows × 7 columns</p>\n",
       "</div>"
      ],
      "text/plain": [
       "                                  Open         High          Low        Close  \\\n",
       "Date                                                                            \n",
       "1990-01-02 00:00:00-05:00   353.399994   359.690002   351.980011   359.690002   \n",
       "1990-01-03 00:00:00-05:00   359.690002   360.589996   357.890015   358.760010   \n",
       "1990-01-04 00:00:00-05:00   358.760010   358.760010   352.890015   355.670013   \n",
       "1990-01-05 00:00:00-05:00   355.670013   355.670013   351.350006   352.200012   \n",
       "1990-01-08 00:00:00-05:00   352.200012   354.239990   350.540009   353.790009   \n",
       "...                                ...          ...          ...          ...   \n",
       "2023-08-04 00:00:00-04:00  4513.959961  4540.339844  4474.549805  4478.029785   \n",
       "2023-08-07 00:00:00-04:00  4491.580078  4519.839844  4491.149902  4518.439941   \n",
       "2023-08-08 00:00:00-04:00  4498.029785  4503.310059  4464.390137  4499.379883   \n",
       "2023-08-09 00:00:00-04:00  4501.569824  4502.439941  4461.330078  4467.709961   \n",
       "2023-08-10 00:00:00-04:00  4487.160156  4515.870117  4487.160156  4515.609863   \n",
       "\n",
       "                               Volume     Tomorrow  Target  \n",
       "Date                                                        \n",
       "1990-01-02 00:00:00-05:00   162070000   358.760010       0  \n",
       "1990-01-03 00:00:00-05:00   192330000   355.670013       0  \n",
       "1990-01-04 00:00:00-05:00   177000000   352.200012       0  \n",
       "1990-01-05 00:00:00-05:00   158530000   353.790009       1  \n",
       "1990-01-08 00:00:00-05:00   140110000   349.619995       0  \n",
       "...                               ...          ...     ...  \n",
       "2023-08-04 00:00:00-04:00  4143310000  4518.439941       1  \n",
       "2023-08-07 00:00:00-04:00  3493920000  4499.379883       0  \n",
       "2023-08-08 00:00:00-04:00  3884910000  4467.709961       0  \n",
       "2023-08-09 00:00:00-04:00  3803100000  4515.609863       1  \n",
       "2023-08-10 00:00:00-04:00   161259521          NaN       0  \n",
       "\n",
       "[8467 rows x 7 columns]"
      ]
     },
     "execution_count": 46,
     "metadata": {},
     "output_type": "execute_result"
    }
   ],
   "source": [
    "df"
   ]
  },
  {
   "cell_type": "code",
   "execution_count": 17,
   "metadata": {
    "slideshow": {
     "slide_type": "subslide"
    }
   },
   "outputs": [
    {
     "data": {
      "text/plain": [
       "Target\n",
       "1    4524\n",
       "0    3943\n",
       "Name: count, dtype: int64"
      ]
     },
     "execution_count": 17,
     "metadata": {},
     "output_type": "execute_result"
    }
   ],
   "source": [
    "# count value for the target column\n",
    "df.Target.value_counts()"
   ]
  },
  {
   "cell_type": "markdown",
   "metadata": {
    "slideshow": {
     "slide_type": "subslide"
    }
   },
   "source": [
    "There are 3943 data points belonging to 0 and 4524 data points belonging to 1."
   ]
  },
  {
   "cell_type": "code",
   "execution_count": 19,
   "metadata": {
    "slideshow": {
     "slide_type": "subslide"
    }
   },
   "outputs": [
    {
     "data": {
      "image/png": "[encoded data removed]",
      "text/plain": [
       "<Figure size 360x360 with 1 Axes>"
      ]
     },
     "metadata": {
      "needs_background": "light"
     },
     "output_type": "display_data"
    }
   ],
   "source": [
    "plt.figure(figsize=(5,5))\n",
    "sns.countplot(x='Target', data=df, palette='hls')\n",
    "plt.show()\n",
    "fig.savefig('z10.png')"
   ]
  },
  {
   "cell_type": "markdown",
   "metadata": {
    "slideshow": {
     "slide_type": "subslide"
    }
   },
   "source": [
    "#### Calculate the null error rate\n"
   ]
  },
  {
   "cell_type": "markdown",
   "metadata": {
    "slideshow": {
     "slide_type": "subslide"
    }
   },
   "source": [
    "The null error rate, often referred to as the baseline error rate, serves as a benchmark or reference point for assessing the performance of a classification models. In the case of a regression problem (predicting a continuous value), the null error rate could be the mean or median of the target variable. For a classification problem (predicting a class), the null error rate is typically the proportion of the majority class in the dataset."
   ]
  },
  {
   "cell_type": "code",
   "execution_count": 20,
   "metadata": {
    "slideshow": {
     "slide_type": "subslide"
    }
   },
   "outputs": [
    {
     "data": {
      "text/plain": [
       "0.46569032715247427"
      ]
     },
     "execution_count": 20,
     "metadata": {},
     "output_type": "execute_result"
    }
   ],
   "source": [
    "#Null error rate\n",
    "NRE = df.Target.value_counts()[1]/(df.Target.value_counts()[0] + df.Target.value_counts()[1])\n",
    "Error_Rate = 1 - NRE\n",
    "Error_Rate"
   ]
  },
  {
   "cell_type": "markdown",
   "metadata": {
    "slideshow": {
     "slide_type": "subslide"
    }
   },
   "source": [
    "In this case, with a null error rate of 46.6%, it implies that if I make predictions by simply assigning every instance to the majority class (likely the most frequent class in my dataset), I would expect to be incorrect approximately 46.6% of the time."
   ]
  },
  {
   "cell_type": "markdown",
   "metadata": {
    "slideshow": {
     "slide_type": "subslide"
    }
   },
   "source": [
    "- Let's  split the data into training and testing, and I am going to scale the data so they are all in the same range using the MinMaxScaler."
   ]
  },
  {
   "cell_type": "code",
   "execution_count": 22,
   "metadata": {
    "slideshow": {
     "slide_type": "subslide"
    }
   },
   "outputs": [],
   "source": [
    "#Prepare data for classification process\n",
    "# # Split the data into train and test sets\n",
    "# use all of the row's except the last 100 rows\n",
    "# and use the last 100 row's in the test set\n",
    "\n",
    "train=df.iloc[:-100]\n",
    "test = df.iloc[-100:]\n",
    "\n",
    "# Define the predictor columns and target column\n",
    "predictors = [\"Close\",\"Volume\",\"Open\",\"High\",\"Low\"]\n",
    "target = \"Target\" \n",
    "\n",
    "# Initialize the MinMaxScaler\n",
    "scaler = MinMaxScaler()\n",
    "# Fit and transform the training data\n",
    "train_scaled = scaler.fit_transform(train[predictors])\n",
    "\n",
    "# Transform the test data using the scaler fitted on training data\n",
    "test_scaled = scaler.transform(test[predictors])"
   ]
  },
  {
   "cell_type": "code",
   "execution_count": 23,
   "metadata": {
    "slideshow": {
     "slide_type": "subslide"
    }
   },
   "outputs": [],
   "source": [
    "# Collect all kinds of scores\n",
    "Accuracy = []\n",
    "Precision = []\n",
    "Recall = []\n",
    "F1_score = []\n",
    "models = ['DecisionTree','KNN','SVM','RandomForest','LogisticRegression',\n",
    "'XGBtClassifier','VotingClassifier']"
   ]
  },
  {
   "cell_type": "markdown",
   "metadata": {
    "slideshow": {
     "slide_type": "subslide"
    }
   },
   "source": [
    "### 1. RandomForest Classifier"
   ]
  },
  {
   "cell_type": "markdown",
   "metadata": {
    "slideshow": {
     "slide_type": "skip"
    }
   },
   "source": [
    "Within this model, an increased count of trees serves to diminish the model's variability. The parameter 'n_estimators' delineates the quantity of trees within the forest, and the default value of 100 proves adept in its performance within this context. My pursuit involves experimentation with varying 'n_estimators,' guided by recommendations found in literatures. Elevating the count of trees enhances the model's data comprehension capabilities. However, it's crucial to manage the trade-off with 'max_depth.' To mitigate the potential overfitting risk associated with a higher 'max_depth,' I adhere to a value of 10. This choice aligns notably well, particularly in scenarios where feature dimensions are constrained."
   ]
  },
  {
   "cell_type": "code",
   "execution_count": 24,
   "metadata": {
    "slideshow": {
     "slide_type": "subslide"
    }
   },
   "outputs": [
    {
     "data": {
      "text/plain": [
       "0.7165214823564152"
      ]
     },
     "execution_count": 24,
     "metadata": {},
     "output_type": "execute_result"
    }
   ],
   "source": [
    "# now initalize the model\n",
    "# use n_estimators: the number of decision trees we want to train, the higher the number the better the accuracy\n",
    "# min_samples_split :help us protect against over-fitting\n",
    "# set random_state:if we run the same model twice, the random numbers generated will be in a predictble sequence\n",
    "#model_1 = RandomForestClassifier(n_estimators=50,  random_state=42)\n",
    "#model_1 = RandomForestClassifier(n_estimators=200,class_weight='balanced',  random_state=42)\n",
    "#model_1 = RandomForestClassifier(n_estimators=64,class_weight='balanced',  random_state=42)\n",
    "#model_1 = RandomForestClassifier(n_estimators=100,class_weight='balanced', max_depth=16,  random_state=42)\n",
    "\n",
    "model_1= RandomForestClassifier(n_estimators = 100,min_samples_split=15,\n",
    "class_weight='balanced',max_depth=10,random_state =42)\n",
    "\n",
    "# let's train the model using the predictor column inorder to predict the target\n",
    "# use mode.fit method\n",
    "# let's train the model using the predictor column inorder to predict the target\n",
    "# use mode.fit method\n",
    "model.fit(train[predictors],train[\"Target\"])\n"
   ]
  },
  {
   "cell_type": "code",
   "execution_count": null,
   "metadata": {
    "slideshow": {
     "slide_type": "subslide"
    }
   },
   "outputs": [],
   "source": [
    "#Print metrics\n",
    "# generate prediction using the model with predict method\n",
    "y_train_pred=model_1.predict(train[predictors])\n",
    "print(classification_report(train[\"Target\"], y_train_pred))\n",
    "print(confusion_matrix(train[\"Target\"], y_train_pred))\n",
    "\n",
    "p = precision_score(train[\"Target\"], y_train_pred)\n",
    "f = f1_score(train[\"Target\"], y_train_pred)\n",
    "a = accuracy_score(train[\"Target\"], y_train_pred)\n",
    "rc=recall_score(train[\"Target\"], y_train_pred)"
   ]
  },
  {
   "cell_type": "code",
   "execution_count": 26,
   "metadata": {
    "slideshow": {
     "slide_type": "subslide"
    }
   },
   "outputs": [
    {
     "name": "stdout",
     "output_type": "stream",
     "text": [
      "              precision    recall  f1-score   support\n",
      "\n",
      "           0       0.73      0.61      0.67      3131\n",
      "           1       0.71      0.81      0.75      3642\n",
      "\n",
      "    accuracy                           0.72      6773\n",
      "   macro avg       0.72      0.71      0.71      6773\n",
      "weighted avg       0.72      0.72      0.71      6773\n",
      "\n",
      "[[1919 1212]\n",
      " [ 708 2934]]\n",
      "Precision: 0.7076700434153401\n",
      "Recall: 0.8056013179571664\n",
      "F1 score: 0.7534668721109399\n",
      "Accuracy: 0.7165214823564152\n"
     ]
    }
   ],
   "source": [
    "# print the result\n",
    "print(\"Precision:\", p)\n",
    "print(\"Recall:\",rc)\n",
    "print(\"F1 score:\", f) \n",
    "print(\"Accuracy:\", a)"
   ]
  },
  {
   "cell_type": "markdown",
   "metadata": {
    "slideshow": {
     "slide_type": "subslide"
    }
   },
   "source": [
    "#### Let's measure how accurate the model is on the test data"
   ]
  },
  {
   "cell_type": "markdown",
   "metadata": {
    "slideshow": {
     "slide_type": "subslide"
    }
   },
   "source": [
    "- This holds significant importance within the realm of machine learning. It's crucial for us to evaluate whether our model aligns with our intended outcomes. Specifically, the precision score comes into play. It gauges the accuracy of our predictions when we anticipated the market to rise (designated as 1). Essentially, it quantifies how often our predictions of market growth were accurate. "
   ]
  },
  {
   "cell_type": "markdown",
   "metadata": {
    "slideshow": {
     "slide_type": "subslide"
    }
   },
   "source": [
    "This metric proves particularly effective in this context, given our presumption that we aim to purchase stocks and retain them until their value appreciates before selling. Therefore, it's imperative that the stock price ascends upon purchase. Depending on our objectives, we can modify the choice of error metrics to assess performance. For this project, I will be employing precision, accuracy, and the F1 score for evaluation."
   ]
  },
  {
   "cell_type": "markdown",
   "metadata": {
    "slideshow": {
     "slide_type": "subslide"
    }
   },
   "source": [
    "#### Model Prediction and  Evalution"
   ]
  },
  {
   "cell_type": "code",
   "execution_count": null,
   "metadata": {
    "slideshow": {
     "slide_type": "subslide"
    }
   },
   "outputs": [],
   "source": [
    "# generate prediction using the model with predict method\n",
    "y_preds = model_1.predict(test[predictors])\n",
    "\n",
    "print(classification_report(test[\"Target\"],y_preds))\n",
    "print(confusion_matrix(test[\"Target\"],y_preds))\n",
    "\n",
    "p = precision_score(test[\"Target\"],y_preds)\n",
    "f = f1_score(test[\"Target\"],y_preds)\n",
    "a = accuracy_score(test[\"Target\"],y_preds)\n",
    "rc=recall_score(test[\"Target\"],y_preds)\n",
    "# Calculate the null error rate (proportion of the majority class)\n",
    "null_error_rate = 1 - y_test.mean()"
   ]
  },
  {
   "cell_type": "code",
   "execution_count": 35,
   "metadata": {
    "slideshow": {
     "slide_type": "subslide"
    }
   },
   "outputs": [
    {
     "name": "stdout",
     "output_type": "stream",
     "text": [
      "              precision    recall  f1-score   support\n",
      "\n",
      "           0       0.48      0.39      0.43       812\n",
      "           1       0.52      0.61      0.56       882\n",
      "\n",
      "    accuracy                           0.51      1694\n",
      "   macro avg       0.50      0.50      0.50      1694\n",
      "weighted avg       0.50      0.51      0.50      1694\n",
      "\n",
      "[[318 494]\n",
      " [344 538]]\n",
      "Precision: 0.5213178294573644\n",
      "Recall: 0.6099773242630385\n",
      "F1 score: 0.562173458725183\n",
      "Accuracy: 0.5053128689492326\n",
      "Null Error Rate: 0.48\n"
     ]
    }
   ],
   "source": [
    "print(\"Precision:\", p)\n",
    "print(\"Recall:\",rc)\n",
    "print(\"F1 score:\", f) \n",
    "print(\"Accuracy:\", a)\n",
    "print(f\"Null Error Rate: {null_error_rate:.2f}\")"
   ]
  },
  {
   "cell_type": "markdown",
   "metadata": {
    "slideshow": {
     "slide_type": "subslide"
    }
   },
   "source": [
    "When we indicated that the stock price increased, it occurred merely 52% of the instances."
   ]
  },
  {
   "cell_type": "markdown",
   "metadata": {
    "slideshow": {
     "slide_type": "subslide"
    }
   },
   "source": [
    " ### 2.  DecisionTree Classifier\n",
    "- max_depth: the maximum depth of the tree\n",
    "- min_samples_split: the minimum number of samples required to split an internal node"
   ]
  },
  {
   "cell_type": "code",
   "execution_count": 28,
   "metadata": {
    "slideshow": {
     "slide_type": "subslide"
    }
   },
   "outputs": [
    {
     "data": {
      "text/html": [
       "<style>#sk-container-id-1 {color: black;}#sk-container-id-1 pre{padding: 0;}#sk-container-id-1 div.sk-toggleable {background-color: white;}#sk-container-id-1 label.sk-toggleable__label {cursor: pointer;display: block;width: 100%;margin-bottom: 0;padding: 0.3em;box-sizing: border-box;text-align: center;}#sk-container-id-1 label.sk-toggleable__label-arrow:before {content: \"▸\";float: left;margin-right: 0.25em;color: #696969;}#sk-container-id-1 label.sk-toggleable__label-arrow:hover:before {color: black;}#sk-container-id-1 div.sk-estimator:hover label.sk-toggleable__label-arrow:before {color: black;}#sk-container-id-1 div.sk-toggleable__content {max-height: 0;max-width: 0;overflow: hidden;text-align: left;background-color: #f0f8ff;}#sk-container-id-1 div.sk-toggleable__content pre {margin: 0.2em;color: black;border-radius: 0.25em;background-color: #f0f8ff;}#sk-container-id-1 input.sk-toggleable__control:checked~div.sk-toggleable__content {max-height: 200px;max-width: 100%;overflow: auto;}#sk-container-id-1 input.sk-toggleable__control:checked~label.sk-toggleable__label-arrow:before {content: \"▾\";}#sk-container-id-1 div.sk-estimator input.sk-toggleable__control:checked~label.sk-toggleable__label {background-color: #d4ebff;}#sk-container-id-1 div.sk-label input.sk-toggleable__control:checked~label.sk-toggleable__label {background-color: #d4ebff;}#sk-container-id-1 input.sk-hidden--visually {border: 0;clip: rect(1px 1px 1px 1px);clip: rect(1px, 1px, 1px, 1px);height: 1px;margin: -1px;overflow: hidden;padding: 0;position: absolute;width: 1px;}#sk-container-id-1 div.sk-estimator {font-family: monospace;background-color: #f0f8ff;border: 1px dotted black;border-radius: 0.25em;box-sizing: border-box;margin-bottom: 0.5em;}#sk-container-id-1 div.sk-estimator:hover {background-color: #d4ebff;}#sk-container-id-1 div.sk-parallel-item::after {content: \"\";width: 100%;border-bottom: 1px solid gray;flex-grow: 1;}#sk-container-id-1 div.sk-label:hover label.sk-toggleable__label {background-color: #d4ebff;}#sk-container-id-1 div.sk-serial::before {content: \"\";position: absolute;border-left: 1px solid gray;box-sizing: border-box;top: 0;bottom: 0;left: 50%;z-index: 0;}#sk-container-id-1 div.sk-serial {display: flex;flex-direction: column;align-items: center;background-color: white;padding-right: 0.2em;padding-left: 0.2em;position: relative;}#sk-container-id-1 div.sk-item {position: relative;z-index: 1;}#sk-container-id-1 div.sk-parallel {display: flex;align-items: stretch;justify-content: center;background-color: white;position: relative;}#sk-container-id-1 div.sk-item::before, #sk-container-id-1 div.sk-parallel-item::before {content: \"\";position: absolute;border-left: 1px solid gray;box-sizing: border-box;top: 0;bottom: 0;left: 50%;z-index: -1;}#sk-container-id-1 div.sk-parallel-item {display: flex;flex-direction: column;z-index: 1;position: relative;background-color: white;}#sk-container-id-1 div.sk-parallel-item:first-child::after {align-self: flex-end;width: 50%;}#sk-container-id-1 div.sk-parallel-item:last-child::after {align-self: flex-start;width: 50%;}#sk-container-id-1 div.sk-parallel-item:only-child::after {width: 0;}#sk-container-id-1 div.sk-dashed-wrapped {border: 1px dashed gray;margin: 0 0.4em 0.5em 0.4em;box-sizing: border-box;padding-bottom: 0.4em;background-color: white;}#sk-container-id-1 div.sk-label label {font-family: monospace;font-weight: bold;display: inline-block;line-height: 1.2em;}#sk-container-id-1 div.sk-label-container {text-align: center;}#sk-container-id-1 div.sk-container {/* jupyter's `normalize.less` sets `[hidden] { display: none; }` but bootstrap.min.css set `[hidden] { display: none !important; }` so we also need the `!important` here to be able to override the default hidden behavior on the sphinx rendered scikit-learn.org. See: https://github.com/scikit-learn/scikit-learn/issues/21755 */display: inline-block !important;position: relative;}#sk-container-id-1 div.sk-text-repr-fallback {display: none;}</style><div id=\"sk-container-id-1\" class=\"sk-top-container\"><div class=\"sk-text-repr-fallback\"><pre>DecisionTreeClassifier(max_depth=12, min_samples_split=10)</pre><b>In a Jupyter environment, please rerun this cell to show the HTML representation or trust the notebook. <br />On GitHub, the HTML representation is unable to render, please try loading this page with nbviewer.org.</b></div><div class=\"sk-container\" hidden><div class=\"sk-item\"><div class=\"sk-estimator sk-toggleable\"><input class=\"sk-toggleable__control sk-hidden--visually\" id=\"sk-estimator-id-1\" type=\"checkbox\" checked><label for=\"sk-estimator-id-1\" class=\"sk-toggleable__label sk-toggleable__label-arrow\">DecisionTreeClassifier</label><div class=\"sk-toggleable__content\"><pre>DecisionTreeClassifier(max_depth=12, min_samples_split=10)</pre></div></div></div></div></div>"
      ],
      "text/plain": [
       "DecisionTreeClassifier(max_depth=12, min_samples_split=10)"
      ]
     },
     "execution_count": 28,
     "metadata": {},
     "output_type": "execute_result"
    }
   ],
   "source": [
    "# train the model\n",
    "model_2 =DecisionTreeClassifier(max_depth=12, min_samples_split=10)\n",
    "model_2.fit(train[predictors],train[\"Target\"])"
   ]
  },
  {
   "cell_type": "code",
   "execution_count": null,
   "metadata": {
    "slideshow": {
     "slide_type": "subslide"
    }
   },
   "outputs": [],
   "source": [
    "model_2.score(train[predictors],train[\"Target\"])\n",
    "\n",
    "#Print metrics\n",
    "y_train_pred_1 = model_2.predict(train[predictors])\n",
    "\n",
    "print(classification_report(train[\"Target\"], y_train_pred_1))\n",
    "print(confusion_matrix(train[\"Target\"], y_train_pred_1))\n",
    "\n",
    "p = precision_score(train[\"Target\"], y_train_pred_1)\n",
    "f = f1_score(train[\"Target\"], y_train_pred_1)\n",
    "a = accuracy_score(train[\"Target\"], y_train_pred_1)\n",
    "rc=recall_score(train[\"Target\"], y_train_pred_1)"
   ]
  },
  {
   "cell_type": "code",
   "execution_count": 36,
   "metadata": {
    "slideshow": {
     "slide_type": "subslide"
    }
   },
   "outputs": [
    {
     "name": "stdout",
     "output_type": "stream",
     "text": [
      "              precision    recall  f1-score   support\n",
      "\n",
      "           0       0.71      0.31      0.43      3131\n",
      "           1       0.60      0.89      0.72      3642\n",
      "\n",
      "    accuracy                           0.62      6773\n",
      "   macro avg       0.66      0.60      0.58      6773\n",
      "weighted avg       0.65      0.62      0.59      6773\n",
      "\n",
      "[[ 970 2161]\n",
      " [ 389 3253]]\n",
      "Precision: 0.6008496490579978\n",
      "Recall: 0.8931905546403075\n",
      "F1 score: 0.7184187279151943\n",
      "Accuracy: 0.6235050937546139\n"
     ]
    }
   ],
   "source": [
    "print(\"Precision:\", p)\n",
    "print(\"Recall:\",rc)\n",
    "print(\"F1 score:\", f) \n",
    "print(\"Accuracy:\", a)"
   ]
  },
  {
   "cell_type": "markdown",
   "metadata": {
    "slideshow": {
     "slide_type": "subslide"
    }
   },
   "source": [
    "Here, using max depth of 12 for model 2, a test accuracy of 62% is achieved. Class 1 got F1 score which is 72% while Class 0 got an F1 score of 43%."
   ]
  },
  {
   "cell_type": "markdown",
   "metadata": {
    "slideshow": {
     "slide_type": "subslide"
    }
   },
   "source": [
    "#### Model Prediction and Evalution"
   ]
  },
  {
   "cell_type": "code",
   "execution_count": null,
   "metadata": {
    "slideshow": {
     "slide_type": "subslide"
    }
   },
   "outputs": [],
   "source": [
    "# generate prediction using the model with predict method\n",
    "y_preds_1 = model_2.predict(test[predictors])\n",
    "\n",
    "print(classification_report(test[\"Target\"],y_preds_1))\n",
    "print(confusion_matrix(test[\"Target\"],y_preds_1))\n",
    "\n",
    "p = precision_score(test[\"Target\"],y_preds_1)\n",
    "f = f1_score(test[\"Target\"],y_preds_1)\n",
    "a = accuracy_score(test[\"Target\"],y_preds_1)\n",
    "rc=recall_score(test[\"Target\"],y_preds_1)"
   ]
  },
  {
   "cell_type": "code",
   "execution_count": 33,
   "metadata": {
    "slideshow": {
     "slide_type": "subslide"
    }
   },
   "outputs": [
    {
     "name": "stdout",
     "output_type": "stream",
     "text": [
      "              precision    recall  f1-score   support\n",
      "\n",
      "           0       0.46      0.20      0.28       812\n",
      "           1       0.52      0.79      0.63       882\n",
      "\n",
      "    accuracy                           0.51      1694\n",
      "   macro avg       0.49      0.49      0.45      1694\n",
      "weighted avg       0.49      0.51      0.46      1694\n",
      "\n",
      "[[159 653]\n",
      " [184 698]]\n",
      "Precision: 0.5166543301258327\n",
      "Recall: 0.7913832199546486\n",
      "F1 score: 0.6251679355127632\n",
      "Accuracy: 0.5059031877213696\n"
     ]
    }
   ],
   "source": [
    "print(\"Precision:\", p)\n",
    "print(\"Recall:\",rc)\n",
    "print(\"F1 score:\", f) \n",
    "print(\"Accuracy:\", a)"
   ]
  },
  {
   "cell_type": "markdown",
   "metadata": {
    "slideshow": {
     "slide_type": "subslide"
    }
   },
   "source": [
    "When we said the stock price go up, it only went up by 51.6% of the time."
   ]
  },
  {
   "cell_type": "markdown",
   "metadata": {
    "slideshow": {
     "slide_type": "subslide"
    }
   },
   "source": [
    "### 3. SVM"
   ]
  },
  {
   "cell_type": "markdown",
   "metadata": {
    "slideshow": {
     "slide_type": "subslide"
    }
   },
   "source": [
    " Recognizing the SVM's reliance on hyperplane selection for classification, I discerned the potential for enhancing the algorithm's adaptability to elevate its classification prowess. As anticipated, the linear kernel manifested the least favorable performance. Subsequently, I iteratively explored kernels like sigmoid before delving into the polynomial kernel. An interesting observation emerged wherein logistic functions, being a subset of sigmoid functions, yielded comparable outcomes akin to those of logistic regression and the sigmoid kernel. This guided my trajectory toward adopting the polynomial function as the kernel of choice."
   ]
  },
  {
   "cell_type": "markdown",
   "metadata": {
    "slideshow": {
     "slide_type": "skip"
    }
   },
   "source": [
    "The integration of the probability parameter materialized from my endeavors to troubleshoot ensemble models. This adjustment became pivotal for voting classifiers, which demand class probability estimation from all participating classifiers,an attribute not innately present in the default SVC settings. Manipulating these settings proved essential to ensuring the seamless operation of the ensemble model."
   ]
  },
  {
   "cell_type": "code",
   "execution_count": 52,
   "metadata": {
    "slideshow": {
     "slide_type": "subslide"
    }
   },
   "outputs": [
    {
     "data": {
      "text/html": [
       "<style>#sk-container-id-5 {color: black;}#sk-container-id-5 pre{padding: 0;}#sk-container-id-5 div.sk-toggleable {background-color: white;}#sk-container-id-5 label.sk-toggleable__label {cursor: pointer;display: block;width: 100%;margin-bottom: 0;padding: 0.3em;box-sizing: border-box;text-align: center;}#sk-container-id-5 label.sk-toggleable__label-arrow:before {content: \"▸\";float: left;margin-right: 0.25em;color: #696969;}#sk-container-id-5 label.sk-toggleable__label-arrow:hover:before {color: black;}#sk-container-id-5 div.sk-estimator:hover label.sk-toggleable__label-arrow:before {color: black;}#sk-container-id-5 div.sk-toggleable__content {max-height: 0;max-width: 0;overflow: hidden;text-align: left;background-color: #f0f8ff;}#sk-container-id-5 div.sk-toggleable__content pre {margin: 0.2em;color: black;border-radius: 0.25em;background-color: #f0f8ff;}#sk-container-id-5 input.sk-toggleable__control:checked~div.sk-toggleable__content {max-height: 200px;max-width: 100%;overflow: auto;}#sk-container-id-5 input.sk-toggleable__control:checked~label.sk-toggleable__label-arrow:before {content: \"▾\";}#sk-container-id-5 div.sk-estimator input.sk-toggleable__control:checked~label.sk-toggleable__label {background-color: #d4ebff;}#sk-container-id-5 div.sk-label input.sk-toggleable__control:checked~label.sk-toggleable__label {background-color: #d4ebff;}#sk-container-id-5 input.sk-hidden--visually {border: 0;clip: rect(1px 1px 1px 1px);clip: rect(1px, 1px, 1px, 1px);height: 1px;margin: -1px;overflow: hidden;padding: 0;position: absolute;width: 1px;}#sk-container-id-5 div.sk-estimator {font-family: monospace;background-color: #f0f8ff;border: 1px dotted black;border-radius: 0.25em;box-sizing: border-box;margin-bottom: 0.5em;}#sk-container-id-5 div.sk-estimator:hover {background-color: #d4ebff;}#sk-container-id-5 div.sk-parallel-item::after {content: \"\";width: 100%;border-bottom: 1px solid gray;flex-grow: 1;}#sk-container-id-5 div.sk-label:hover label.sk-toggleable__label {background-color: #d4ebff;}#sk-container-id-5 div.sk-serial::before {content: \"\";position: absolute;border-left: 1px solid gray;box-sizing: border-box;top: 0;bottom: 0;left: 50%;z-index: 0;}#sk-container-id-5 div.sk-serial {display: flex;flex-direction: column;align-items: center;background-color: white;padding-right: 0.2em;padding-left: 0.2em;position: relative;}#sk-container-id-5 div.sk-item {position: relative;z-index: 1;}#sk-container-id-5 div.sk-parallel {display: flex;align-items: stretch;justify-content: center;background-color: white;position: relative;}#sk-container-id-5 div.sk-item::before, #sk-container-id-5 div.sk-parallel-item::before {content: \"\";position: absolute;border-left: 1px solid gray;box-sizing: border-box;top: 0;bottom: 0;left: 50%;z-index: -1;}#sk-container-id-5 div.sk-parallel-item {display: flex;flex-direction: column;z-index: 1;position: relative;background-color: white;}#sk-container-id-5 div.sk-parallel-item:first-child::after {align-self: flex-end;width: 50%;}#sk-container-id-5 div.sk-parallel-item:last-child::after {align-self: flex-start;width: 50%;}#sk-container-id-5 div.sk-parallel-item:only-child::after {width: 0;}#sk-container-id-5 div.sk-dashed-wrapped {border: 1px dashed gray;margin: 0 0.4em 0.5em 0.4em;box-sizing: border-box;padding-bottom: 0.4em;background-color: white;}#sk-container-id-5 div.sk-label label {font-family: monospace;font-weight: bold;display: inline-block;line-height: 1.2em;}#sk-container-id-5 div.sk-label-container {text-align: center;}#sk-container-id-5 div.sk-container {/* jupyter's `normalize.less` sets `[hidden] { display: none; }` but bootstrap.min.css set `[hidden] { display: none !important; }` so we also need the `!important` here to be able to override the default hidden behavior on the sphinx rendered scikit-learn.org. See: https://github.com/scikit-learn/scikit-learn/issues/21755 */display: inline-block !important;position: relative;}#sk-container-id-5 div.sk-text-repr-fallback {display: none;}</style><div id=\"sk-container-id-5\" class=\"sk-top-container\"><div class=\"sk-text-repr-fallback\"><pre>SVC(kernel=&#x27;poly&#x27;, probability=True)</pre><b>In a Jupyter environment, please rerun this cell to show the HTML representation or trust the notebook. <br />On GitHub, the HTML representation is unable to render, please try loading this page with nbviewer.org.</b></div><div class=\"sk-container\" hidden><div class=\"sk-item\"><div class=\"sk-estimator sk-toggleable\"><input class=\"sk-toggleable__control sk-hidden--visually\" id=\"sk-estimator-id-5\" type=\"checkbox\" checked><label for=\"sk-estimator-id-5\" class=\"sk-toggleable__label sk-toggleable__label-arrow\">SVC</label><div class=\"sk-toggleable__content\"><pre>SVC(kernel=&#x27;poly&#x27;, probability=True)</pre></div></div></div></div></div>"
      ],
      "text/plain": [
       "SVC(kernel='poly', probability=True)"
      ]
     },
     "execution_count": 52,
     "metadata": {},
     "output_type": "execute_result"
    }
   ],
   "source": [
    "#Create a svm Classifier\n",
    "#svm = SVC(kernel='sigmoid', probability = True)\n",
    "#svm = SVC(kernel='rbf', probability = True)\n",
    "svm = SVC(kernel='poly', probability = True)\n",
    "svm.fit(train[predictors],train[\"Target\"])"
   ]
  },
  {
   "cell_type": "code",
   "execution_count": null,
   "metadata": {
    "slideshow": {
     "slide_type": "subslide"
    }
   },
   "outputs": [],
   "source": [
    "# train the model\n",
    "svm.score(train[predictors],train[\"Target\"])\n",
    "\n",
    "#Print metrics\n",
    "svm_preds = svm.predict(train[predictors])\n",
    "\n",
    "print(classification_report(train[\"Target\"],svm_preds))\n",
    "print(confusion_matrix(train[\"Target\"], svm_preds))\n",
    "\n",
    "p = precision_score(train[\"Target\"], svm_preds)\n",
    "f = f1_score(train[\"Target\"], svm_preds)\n",
    "a = accuracy_score(train[\"Target\"], svm_preds)\n",
    "rc=recall_score(train[\"Target\"], svm_preds)"
   ]
  },
  {
   "cell_type": "code",
   "execution_count": 35,
   "metadata": {
    "slideshow": {
     "slide_type": "subslide"
    }
   },
   "outputs": [
    {
     "name": "stdout",
     "output_type": "stream",
     "text": [
      "              precision    recall  f1-score   support\n",
      "\n",
      "           0       0.64      0.01      0.01      3158\n",
      "           1       0.53      1.00      0.70      3614\n",
      "\n",
      "    accuracy                           0.53      6772\n",
      "   macro avg       0.59      0.50      0.35      6772\n",
      "weighted avg       0.58      0.53      0.38      6772\n",
      "\n",
      "[[  16 3142]\n",
      " [   9 3605]]\n",
      "Precision: 0.5343115458722395\n",
      "Recall: 0.9975096845600443\n",
      "F1 score: 0.6958787761799053\n",
      "Accuracy: 0.5347017129356173\n"
     ]
    }
   ],
   "source": [
    "print(\"Precision:\", p)\n",
    "print(\"Recall:\",rc)\n",
    "print(\"F1 score:\", f) \n",
    "print(\"Accuracy:\", a)"
   ]
  },
  {
   "cell_type": "markdown",
   "metadata": {
    "slideshow": {
     "slide_type": "subslide"
    }
   },
   "source": [
    "Support Vector Machines (SVM) are recognized for their relatively robust nature in handling outliers when compared to certain other machine learning algorithms. In this context, I have achieved an improved outcome that aligns favorably with my initial expectations."
   ]
  },
  {
   "cell_type": "markdown",
   "metadata": {
    "slideshow": {
     "slide_type": "subslide"
    }
   },
   "source": [
    "#### Model Prediction and Evalution"
   ]
  },
  {
   "cell_type": "code",
   "execution_count": null,
   "metadata": {
    "slideshow": {
     "slide_type": "subslide"
    }
   },
   "outputs": [],
   "source": [
    "# generate prediction using the model with predict method\n",
    "# calculate prediction using the actuall target and the predicted target\n",
    "#Print metrics\n",
    "y_preds_svm= svm.predict(test[predictors])\n",
    "\n",
    "print(classification_report(test[\"Target\"],y_preds_svm))\n",
    "print(confusion_matrix(test[\"Target\"], svm_preds))\n",
    "\n",
    "p = precision_score(test[\"Target\"],y_preds_svm)\n",
    "f = f1_score(test[\"Target\"],y_preds_svm)\n",
    "a = accuracy_score(test[\"Target\"],y_preds_svm)\n",
    "rc=recall_score(test[\"Target\"],y_preds_svm)"
   ]
  },
  {
   "cell_type": "code",
   "execution_count": 36,
   "metadata": {
    "slideshow": {
     "slide_type": "subslide"
    }
   },
   "outputs": [
    {
     "name": "stdout",
     "output_type": "stream",
     "text": [
      "              precision    recall  f1-score   support\n",
      "\n",
      "           0       0.67      0.01      0.01       784\n",
      "           1       0.54      1.00      0.70       909\n",
      "\n",
      "    accuracy                           0.54      1693\n",
      "   macro avg       0.60      0.50      0.35      1693\n",
      "weighted avg       0.60      0.54      0.38      1693\n",
      "\n",
      "[[  4 780]\n",
      " [  2 907]]\n",
      "Precision: 0.5376407824540604\n",
      "Recall: 0.9977997799779978\n",
      "F1 score: 0.6987673343605548\n",
      "Accuracy: 0.538098050797401\n"
     ]
    }
   ],
   "source": [
    "print(\"Precision:\", p)\n",
    "print(\"Recall:\",rc)\n",
    "print(\"F1 score:\", f) \n",
    "print(\"Accuracy:\", a)"
   ]
  },
  {
   "cell_type": "markdown",
   "metadata": {
    "slideshow": {
     "slide_type": "subslide"
    }
   },
   "source": [
    "When we predicted an increase in the stock price, it occurred only 54% of the time."
   ]
  },
  {
   "cell_type": "markdown",
   "metadata": {
    "slideshow": {
     "slide_type": "subslide"
    }
   },
   "source": [
    "### 4.KNN"
   ]
  },
  {
   "cell_type": "markdown",
   "metadata": {
    "slideshow": {
     "slide_type": "skip"
    }
   },
   "source": [
    "- Given KNN's reliance on parameter K, it's essential to recognize that selecting a smaller K value amplifies the influence of noise on results, while a larger K value escalates computational demands. My approach commences with K=3 and systematically traverses various K values, often gravitating towards the square root of the sample size (n) for the models. The algorithm's inherent computational efficiency empowers me to directly employ grid search to pinpoint optimal parameter values."
   ]
  },
  {
   "cell_type": "code",
   "execution_count": 37,
   "metadata": {
    "slideshow": {
     "slide_type": "subslide"
    }
   },
   "outputs": [
    {
     "name": "stdout",
     "output_type": "stream",
     "text": [
      "GridSearchCV(estimator=KNeighborsClassifier(),\n",
      "             param_grid={'n_neighbors': [3, 5, 10, 13, 19, 29, 45, 78, 99]})\n",
      "Best Score:  0.5202271798198042\n",
      "Best parameters:  {'n_neighbors': 5}\n"
     ]
    }
   ],
   "source": [
    "#defining grids\n",
    "#train sample size\n",
    "n_neighbor = [3,5,10,13,19,29, 45, 78, 99]\n",
    "\n",
    "# create and fit  model, testing each parameters\n",
    "knn_grid = GridSearchCV(estimator=KNeighborsClassifier(), param_grid=dict(n_neighbors=n_neighbor))\n",
    "knn_grid.fit(train[predictors],train[\"Target\"])\n",
    "print(knn_grid)\n",
    "# summarize the results of the grid search\n",
    "print('Best Score: ',knn_grid.best_score_)\n",
    "print('Best parameters: ',knn_grid.best_params_)"
   ]
  },
  {
   "cell_type": "markdown",
   "metadata": {
    "slideshow": {
     "slide_type": "subslide"
    }
   },
   "source": [
    "- Based on testing, the accuracy of the model decreases since a large K value may reduce overfit. On the other hand, it raised the risk of overfitting. Although the best k selected by grid search is when k=5, I still determine to use k=10. Because this gave a relatively balanced result. What's more, it reduced the risk of making the model too sensitive."
   ]
  },
  {
   "cell_type": "code",
   "execution_count": 37,
   "metadata": {
    "slideshow": {
     "slide_type": "subslide"
    }
   },
   "outputs": [
    {
     "data": {
      "text/html": [
       "<style>#sk-container-id-2 {color: black;}#sk-container-id-2 pre{padding: 0;}#sk-container-id-2 div.sk-toggleable {background-color: white;}#sk-container-id-2 label.sk-toggleable__label {cursor: pointer;display: block;width: 100%;margin-bottom: 0;padding: 0.3em;box-sizing: border-box;text-align: center;}#sk-container-id-2 label.sk-toggleable__label-arrow:before {content: \"▸\";float: left;margin-right: 0.25em;color: #696969;}#sk-container-id-2 label.sk-toggleable__label-arrow:hover:before {color: black;}#sk-container-id-2 div.sk-estimator:hover label.sk-toggleable__label-arrow:before {color: black;}#sk-container-id-2 div.sk-toggleable__content {max-height: 0;max-width: 0;overflow: hidden;text-align: left;background-color: #f0f8ff;}#sk-container-id-2 div.sk-toggleable__content pre {margin: 0.2em;color: black;border-radius: 0.25em;background-color: #f0f8ff;}#sk-container-id-2 input.sk-toggleable__control:checked~div.sk-toggleable__content {max-height: 200px;max-width: 100%;overflow: auto;}#sk-container-id-2 input.sk-toggleable__control:checked~label.sk-toggleable__label-arrow:before {content: \"▾\";}#sk-container-id-2 div.sk-estimator input.sk-toggleable__control:checked~label.sk-toggleable__label {background-color: #d4ebff;}#sk-container-id-2 div.sk-label input.sk-toggleable__control:checked~label.sk-toggleable__label {background-color: #d4ebff;}#sk-container-id-2 input.sk-hidden--visually {border: 0;clip: rect(1px 1px 1px 1px);clip: rect(1px, 1px, 1px, 1px);height: 1px;margin: -1px;overflow: hidden;padding: 0;position: absolute;width: 1px;}#sk-container-id-2 div.sk-estimator {font-family: monospace;background-color: #f0f8ff;border: 1px dotted black;border-radius: 0.25em;box-sizing: border-box;margin-bottom: 0.5em;}#sk-container-id-2 div.sk-estimator:hover {background-color: #d4ebff;}#sk-container-id-2 div.sk-parallel-item::after {content: \"\";width: 100%;border-bottom: 1px solid gray;flex-grow: 1;}#sk-container-id-2 div.sk-label:hover label.sk-toggleable__label {background-color: #d4ebff;}#sk-container-id-2 div.sk-serial::before {content: \"\";position: absolute;border-left: 1px solid gray;box-sizing: border-box;top: 0;bottom: 0;left: 50%;z-index: 0;}#sk-container-id-2 div.sk-serial {display: flex;flex-direction: column;align-items: center;background-color: white;padding-right: 0.2em;padding-left: 0.2em;position: relative;}#sk-container-id-2 div.sk-item {position: relative;z-index: 1;}#sk-container-id-2 div.sk-parallel {display: flex;align-items: stretch;justify-content: center;background-color: white;position: relative;}#sk-container-id-2 div.sk-item::before, #sk-container-id-2 div.sk-parallel-item::before {content: \"\";position: absolute;border-left: 1px solid gray;box-sizing: border-box;top: 0;bottom: 0;left: 50%;z-index: -1;}#sk-container-id-2 div.sk-parallel-item {display: flex;flex-direction: column;z-index: 1;position: relative;background-color: white;}#sk-container-id-2 div.sk-parallel-item:first-child::after {align-self: flex-end;width: 50%;}#sk-container-id-2 div.sk-parallel-item:last-child::after {align-self: flex-start;width: 50%;}#sk-container-id-2 div.sk-parallel-item:only-child::after {width: 0;}#sk-container-id-2 div.sk-dashed-wrapped {border: 1px dashed gray;margin: 0 0.4em 0.5em 0.4em;box-sizing: border-box;padding-bottom: 0.4em;background-color: white;}#sk-container-id-2 div.sk-label label {font-family: monospace;font-weight: bold;display: inline-block;line-height: 1.2em;}#sk-container-id-2 div.sk-label-container {text-align: center;}#sk-container-id-2 div.sk-container {/* jupyter's `normalize.less` sets `[hidden] { display: none; }` but bootstrap.min.css set `[hidden] { display: none !important; }` so we also need the `!important` here to be able to override the default hidden behavior on the sphinx rendered scikit-learn.org. See: https://github.com/scikit-learn/scikit-learn/issues/21755 */display: inline-block !important;position: relative;}#sk-container-id-2 div.sk-text-repr-fallback {display: none;}</style><div id=\"sk-container-id-2\" class=\"sk-top-container\"><div class=\"sk-text-repr-fallback\"><pre>KNeighborsClassifier(n_neighbors=10)</pre><b>In a Jupyter environment, please rerun this cell to show the HTML representation or trust the notebook. <br />On GitHub, the HTML representation is unable to render, please try loading this page with nbviewer.org.</b></div><div class=\"sk-container\" hidden><div class=\"sk-item\"><div class=\"sk-estimator sk-toggleable\"><input class=\"sk-toggleable__control sk-hidden--visually\" id=\"sk-estimator-id-2\" type=\"checkbox\" checked><label for=\"sk-estimator-id-2\" class=\"sk-toggleable__label sk-toggleable__label-arrow\">KNeighborsClassifier</label><div class=\"sk-toggleable__content\"><pre>KNeighborsClassifier(n_neighbors=10)</pre></div></div></div></div></div>"
      ],
      "text/plain": [
       "KNeighborsClassifier(n_neighbors=10)"
      ]
     },
     "execution_count": 37,
     "metadata": {},
     "output_type": "execute_result"
    }
   ],
   "source": [
    "#set k=3\n",
    "# try knn = KNeighborsClassifier(n_neighbors=5)\n",
    "# try knn = KNeighborsClassifier(n_neighbors=99)\n",
    "#set the best K from Gid search\n",
    "\n",
    "knn = KNeighborsClassifier(n_neighbors=10)\n",
    "knn.fit(train[predictors],train[\"Target\"])"
   ]
  },
  {
   "cell_type": "code",
   "execution_count": null,
   "metadata": {
    "slideshow": {
     "slide_type": "subslide"
    }
   },
   "outputs": [],
   "source": [
    "# train the model\n",
    "knn.score(train[predictors],train[\"Target\"])\n",
    "\n",
    "#Print metrics\n",
    "y_knn_preds = knn.predict(train[predictors])\n",
    "\n",
    "print(classification_report(train[\"Target\"], y_knn_preds))\n",
    "print(confusion_matrix(train[\"Target\"], y_knn_preds))\n",
    "\n",
    "p = precision_score(train[\"Target\"], y_knn_preds)\n",
    "f = f1_score(train[\"Target\"], y_knn_preds)\n",
    "a = metrics.accuracy_score(train[\"Target\"], y_knn_preds)\n",
    "rc=recall_score(train[\"Target\"], y_knn_preds)"
   ]
  },
  {
   "cell_type": "code",
   "execution_count": 39,
   "metadata": {
    "slideshow": {
     "slide_type": "subslide"
    }
   },
   "outputs": [
    {
     "name": "stdout",
     "output_type": "stream",
     "text": [
      "              precision    recall  f1-score   support\n",
      "\n",
      "           0       0.60      0.69      0.64      3131\n",
      "           1       0.69      0.60      0.64      3642\n",
      "\n",
      "    accuracy                           0.64      6773\n",
      "   macro avg       0.64      0.64      0.64      6773\n",
      "weighted avg       0.65      0.64      0.64      6773\n",
      "\n",
      "[[2148  983]\n",
      " [1444 2198]]\n",
      "Precision: 0.6909776799748507\n",
      "Recall: 0.6035145524437122\n",
      "F1 score: 0.6442913674336801\n",
      "Accuracy: 0.641665436291156\n"
     ]
    }
   ],
   "source": [
    "print(\"Precision:\", p)\n",
    "print(\"Recall:\",rc)\n",
    "print(\"F1 score:\", f) \n",
    "print(\"Accuracy:\", a)"
   ]
  },
  {
   "cell_type": "markdown",
   "metadata": {
    "slideshow": {
     "slide_type": "subslide"
    }
   },
   "source": [
    "#### Model Prediction and Evalution "
   ]
  },
  {
   "cell_type": "code",
   "execution_count": null,
   "metadata": {
    "slideshow": {
     "slide_type": "subslide"
    }
   },
   "outputs": [],
   "source": [
    "# generate prediction using the model with predict method\n",
    "# calculate prediction using the actuall target and the predicted target\n",
    "#Print metrics\n",
    "preds_knn= knn.predict(test[predictors])\n",
    "\n",
    "print(classification_report(test[\"Target\"],preds_knn))\n",
    "print(confusion_matrix(test[\"Target\"],preds_knn))\n",
    "\n",
    "p = precision_score(test[\"Target\"],preds_knn)\n",
    "f = f1_score(test[\"Target\"],preds_knn)\n",
    "a = accuracy_score(test[\"Target\"],preds_knn)\n",
    "rc=recall_score(test[\"Target\"],preds_knn)"
   ]
  },
  {
   "cell_type": "code",
   "execution_count": 41,
   "metadata": {
    "slideshow": {
     "slide_type": "subslide"
    }
   },
   "outputs": [
    {
     "name": "stdout",
     "output_type": "stream",
     "text": [
      "              precision    recall  f1-score   support\n",
      "\n",
      "           0       0.47      0.52      0.50       812\n",
      "           1       0.51      0.45      0.48       882\n",
      "\n",
      "    accuracy                           0.49      1694\n",
      "   macro avg       0.49      0.49      0.49      1694\n",
      "weighted avg       0.49      0.49      0.49      1694\n",
      "\n",
      "[[426 386]\n",
      " [481 401]]\n",
      "Precision: 0.5095298602287166\n",
      "Recall: 0.4546485260770975\n",
      "F1 score: 0.48052726183343314\n",
      "Accuracy: 0.4881936245572609\n"
     ]
    }
   ],
   "source": [
    "print(\"Precision:\", p)\n",
    "print(\"Recall:\",rc)\n",
    "print(\"F1 score:\", f) \n",
    "print(\"Accuracy:\", a)"
   ]
  },
  {
   "cell_type": "markdown",
   "metadata": {
    "slideshow": {
     "slide_type": "subslide"
    }
   },
   "source": [
    "Support Vector Machines (SVMs) exhibit stronger resilience to outliers compared to k-Nearest Neighbors (KNN).In this specific case, I observed improved outcome with SVM than KNN."
   ]
  },
  {
   "cell_type": "markdown",
   "metadata": {
    "slideshow": {
     "slide_type": "subslide"
    }
   },
   "source": [
    "### 5. Logistic Regression\n",
    "In the context of S&P 500 prediction, Logistic Regression can be utilized to make binary predictions about whether the S&P 500 index will either rise or fall on a given day."
   ]
  },
  {
   "cell_type": "code",
   "execution_count": 42,
   "metadata": {
    "slideshow": {
     "slide_type": "subslide"
    }
   },
   "outputs": [
    {
     "data": {
      "text/html": [
       "<style>#sk-container-id-3 {color: black;}#sk-container-id-3 pre{padding: 0;}#sk-container-id-3 div.sk-toggleable {background-color: white;}#sk-container-id-3 label.sk-toggleable__label {cursor: pointer;display: block;width: 100%;margin-bottom: 0;padding: 0.3em;box-sizing: border-box;text-align: center;}#sk-container-id-3 label.sk-toggleable__label-arrow:before {content: \"▸\";float: left;margin-right: 0.25em;color: #696969;}#sk-container-id-3 label.sk-toggleable__label-arrow:hover:before {color: black;}#sk-container-id-3 div.sk-estimator:hover label.sk-toggleable__label-arrow:before {color: black;}#sk-container-id-3 div.sk-toggleable__content {max-height: 0;max-width: 0;overflow: hidden;text-align: left;background-color: #f0f8ff;}#sk-container-id-3 div.sk-toggleable__content pre {margin: 0.2em;color: black;border-radius: 0.25em;background-color: #f0f8ff;}#sk-container-id-3 input.sk-toggleable__control:checked~div.sk-toggleable__content {max-height: 200px;max-width: 100%;overflow: auto;}#sk-container-id-3 input.sk-toggleable__control:checked~label.sk-toggleable__label-arrow:before {content: \"▾\";}#sk-container-id-3 div.sk-estimator input.sk-toggleable__control:checked~label.sk-toggleable__label {background-color: #d4ebff;}#sk-container-id-3 div.sk-label input.sk-toggleable__control:checked~label.sk-toggleable__label {background-color: #d4ebff;}#sk-container-id-3 input.sk-hidden--visually {border: 0;clip: rect(1px 1px 1px 1px);clip: rect(1px, 1px, 1px, 1px);height: 1px;margin: -1px;overflow: hidden;padding: 0;position: absolute;width: 1px;}#sk-container-id-3 div.sk-estimator {font-family: monospace;background-color: #f0f8ff;border: 1px dotted black;border-radius: 0.25em;box-sizing: border-box;margin-bottom: 0.5em;}#sk-container-id-3 div.sk-estimator:hover {background-color: #d4ebff;}#sk-container-id-3 div.sk-parallel-item::after {content: \"\";width: 100%;border-bottom: 1px solid gray;flex-grow: 1;}#sk-container-id-3 div.sk-label:hover label.sk-toggleable__label {background-color: #d4ebff;}#sk-container-id-3 div.sk-serial::before {content: \"\";position: absolute;border-left: 1px solid gray;box-sizing: border-box;top: 0;bottom: 0;left: 50%;z-index: 0;}#sk-container-id-3 div.sk-serial {display: flex;flex-direction: column;align-items: center;background-color: white;padding-right: 0.2em;padding-left: 0.2em;position: relative;}#sk-container-id-3 div.sk-item {position: relative;z-index: 1;}#sk-container-id-3 div.sk-parallel {display: flex;align-items: stretch;justify-content: center;background-color: white;position: relative;}#sk-container-id-3 div.sk-item::before, #sk-container-id-3 div.sk-parallel-item::before {content: \"\";position: absolute;border-left: 1px solid gray;box-sizing: border-box;top: 0;bottom: 0;left: 50%;z-index: -1;}#sk-container-id-3 div.sk-parallel-item {display: flex;flex-direction: column;z-index: 1;position: relative;background-color: white;}#sk-container-id-3 div.sk-parallel-item:first-child::after {align-self: flex-end;width: 50%;}#sk-container-id-3 div.sk-parallel-item:last-child::after {align-self: flex-start;width: 50%;}#sk-container-id-3 div.sk-parallel-item:only-child::after {width: 0;}#sk-container-id-3 div.sk-dashed-wrapped {border: 1px dashed gray;margin: 0 0.4em 0.5em 0.4em;box-sizing: border-box;padding-bottom: 0.4em;background-color: white;}#sk-container-id-3 div.sk-label label {font-family: monospace;font-weight: bold;display: inline-block;line-height: 1.2em;}#sk-container-id-3 div.sk-label-container {text-align: center;}#sk-container-id-3 div.sk-container {/* jupyter's `normalize.less` sets `[hidden] { display: none; }` but bootstrap.min.css set `[hidden] { display: none !important; }` so we also need the `!important` here to be able to override the default hidden behavior on the sphinx rendered scikit-learn.org. See: https://github.com/scikit-learn/scikit-learn/issues/21755 */display: inline-block !important;position: relative;}#sk-container-id-3 div.sk-text-repr-fallback {display: none;}</style><div id=\"sk-container-id-3\" class=\"sk-top-container\"><div class=\"sk-text-repr-fallback\"><pre>LogisticRegression(max_iter=1000, solver=&#x27;saga&#x27;)</pre><b>In a Jupyter environment, please rerun this cell to show the HTML representation or trust the notebook. <br />On GitHub, the HTML representation is unable to render, please try loading this page with nbviewer.org.</b></div><div class=\"sk-container\" hidden><div class=\"sk-item\"><div class=\"sk-estimator sk-toggleable\"><input class=\"sk-toggleable__control sk-hidden--visually\" id=\"sk-estimator-id-3\" type=\"checkbox\" checked><label for=\"sk-estimator-id-3\" class=\"sk-toggleable__label sk-toggleable__label-arrow\">LogisticRegression</label><div class=\"sk-toggleable__content\"><pre>LogisticRegression(max_iter=1000, solver=&#x27;saga&#x27;)</pre></div></div></div></div></div>"
      ],
      "text/plain": [
       "LogisticRegression(max_iter=1000, solver='saga')"
      ]
     },
     "execution_count": 42,
     "metadata": {},
     "output_type": "execute_result"
    }
   ],
   "source": [
    "#Start with default setting for logistic regression\n",
    "model_log = LogisticRegression(solver='saga', max_iter=1000)\n",
    "#train the algorithm\n",
    "model_log.fit(train[predictors],train[\"Target\"])"
   ]
  },
  {
   "cell_type": "code",
   "execution_count": null,
   "metadata": {
    "slideshow": {
     "slide_type": "subslide"
    }
   },
   "outputs": [],
   "source": [
    "model_log.score(train[predictors],train[\"Target\"])\n",
    "\n",
    "#Print metrics\n",
    "y_log_preds = model_log.predict(train[predictors])\n",
    "\n",
    "print(classification_report(train[\"Target\"],y_log_preds))\n",
    "print(confusion_matrix(train[\"Target\"], y_log_preds))\n",
    "\n",
    "p = precision_score(train[\"Target\"], y_log_preds)\n",
    "f = f1_score(train[\"Target\"], y_log_preds)\n",
    "a = metrics.accuracy_score(train[\"Target\"], y_log_preds)\n",
    "rc=recall_score(train[\"Target\"], y_log_preds)"
   ]
  },
  {
   "cell_type": "code",
   "execution_count": 44,
   "metadata": {
    "slideshow": {
     "slide_type": "subslide"
    }
   },
   "outputs": [
    {
     "name": "stdout",
     "output_type": "stream",
     "text": [
      "              precision    recall  f1-score   support\n",
      "\n",
      "           0       1.00      0.00      0.00      3131\n",
      "           1       0.54      1.00      0.70      3642\n",
      "\n",
      "    accuracy                           0.54      6773\n",
      "   macro avg       0.77      0.50      0.35      6773\n",
      "weighted avg       0.75      0.54      0.38      6773\n",
      "\n",
      "[[   1 3130]\n",
      " [   0 3642]]\n",
      "Precision: 0.5378027170702895\n",
      "Recall: 1.0\n",
      "F1 score: 0.6994430574227003\n",
      "Accuracy: 0.5378709582164477\n"
     ]
    }
   ],
   "source": [
    "print(\"Precision:\", p)\n",
    "print(\"Recall:\",rc)\n",
    "print(\"F1 score:\", f) \n",
    "print(\"Accuracy:\", a)"
   ]
  },
  {
   "cell_type": "markdown",
   "metadata": {
    "slideshow": {
     "slide_type": "subslide"
    }
   },
   "source": [
    "#### Model Prediction and Evalution"
   ]
  },
  {
   "cell_type": "code",
   "execution_count": null,
   "metadata": {
    "slideshow": {
     "slide_type": "subslide"
    }
   },
   "outputs": [],
   "source": [
    "# generate prediction using the model with predict method\n",
    "# calculate prediction using the actuall target and the predicted target\n",
    "#Print metrics\n",
    "preds_log= model_log.predict(test[[predictors]])\n",
    "\n",
    "print(classification_report(test[\"Target\"],preds_log))\n",
    "print(confusion_matrix(test[\"Target\"],preds_log))\n",
    "\n",
    "p = precision_score(test[\"Target\"],preds_log)\n",
    "f = f1_score(test[\"Target\"],preds_log)\n",
    "a = accuracy_score(test[\"Target\"],preds_log)\n",
    "rc=recall_score(test[\"Target\"],preds_log)"
   ]
  },
  {
   "cell_type": "code",
   "execution_count": 45,
   "metadata": {
    "slideshow": {
     "slide_type": "subslide"
    }
   },
   "outputs": [
    {
     "name": "stdout",
     "output_type": "stream",
     "text": [
      "              precision    recall  f1-score   support\n",
      "\n",
      "           0       0.00      0.00      0.00       812\n",
      "           1       0.52      1.00      0.68       882\n",
      "\n",
      "    accuracy                           0.52      1694\n",
      "   macro avg       0.26      0.50      0.34      1694\n",
      "weighted avg       0.27      0.52      0.36      1694\n",
      "\n",
      "[[  0 812]\n",
      " [  0 882]]\n",
      "Precision: 0.5206611570247934\n",
      "Recall: 1.0\n",
      "F1 score: 0.6847826086956522\n",
      "Accuracy: 0.5206611570247934\n"
     ]
    },
    {
     "name": "stderr",
     "output_type": "stream",
     "text": [
      "C:\\Users\\suraf\\anaconda3\\lib\\site-packages\\sklearn\\metrics\\_classification.py:1469: UndefinedMetricWarning: Precision and F-score are ill-defined and being set to 0.0 in labels with no predicted samples. Use `zero_division` parameter to control this behavior.\n",
      "  _warn_prf(average, modifier, msg_start, len(result))\n",
      "C:\\Users\\suraf\\anaconda3\\lib\\site-packages\\sklearn\\metrics\\_classification.py:1469: UndefinedMetricWarning: Precision and F-score are ill-defined and being set to 0.0 in labels with no predicted samples. Use `zero_division` parameter to control this behavior.\n",
      "  _warn_prf(average, modifier, msg_start, len(result))\n",
      "C:\\Users\\suraf\\anaconda3\\lib\\site-packages\\sklearn\\metrics\\_classification.py:1469: UndefinedMetricWarning: Precision and F-score are ill-defined and being set to 0.0 in labels with no predicted samples. Use `zero_division` parameter to control this behavior.\n",
      "  _warn_prf(average, modifier, msg_start, len(result))\n"
     ]
    }
   ],
   "source": [
    "print(\"Precision:\", p)\n",
    "print(\"Recall:\",rc)\n",
    "print(\"F1 score:\", f) \n",
    "print(\"Accuracy:\", a)"
   ]
  },
  {
   "cell_type": "markdown",
   "metadata": {
    "slideshow": {
     "slide_type": "subslide"
    }
   },
   "source": [
    "Until now, the SVM model out outcomes and  closely mirroring other models. Now, it's time to evaluate the performance of the remaining models."
   ]
  },
  {
   "cell_type": "markdown",
   "metadata": {
    "slideshow": {
     "slide_type": "subslide"
    }
   },
   "source": [
    "### 6. XG BOOST(Extreme Gradient Boosting)"
   ]
  },
  {
   "cell_type": "markdown",
   "metadata": {
    "slideshow": {
     "slide_type": "subslide"
    }
   },
   "source": [
    "XGBoost harnesses the strengths of both random forest and gradient boosting, resulting in a prediction error that is typically lower than that of boosting or random forest alone. When fine-tuning XGBoost hyperparameters, my primary focus is on adjusting the early_stopping_rounds value. Moreover, the default learning rate of 0.1 has proven effective in this scenario."
   ]
  },
  {
   "cell_type": "code",
   "execution_count": 47,
   "metadata": {
    "slideshow": {
     "slide_type": "subslide"
    }
   },
   "outputs": [
    {
     "name": "stdout",
     "output_type": "stream",
     "text": [
      "[10:17:21] WARNING: C:\\buildkite-agent\\builds\\buildkite-windows-cpu-autoscaling-group-i-0fdc6d574b9c0d168-1\\xgboost\\xgboost-ci-windows\\src\\learner.cc:767: \n",
      "Parameters: { \"weighted\" } are not used.\n",
      "\n",
      "[0]\tvalidation_0-logloss:0.69363\n",
      "[1]\tvalidation_0-logloss:0.69381\n",
      "[2]\tvalidation_0-logloss:0.69484\n",
      "[3]\tvalidation_0-logloss:0.69378\n",
      "[4]\tvalidation_0-logloss:0.69446\n",
      "[5]\tvalidation_0-logloss:0.69484\n",
      "[6]\tvalidation_0-logloss:0.69545\n",
      "[7]\tvalidation_0-logloss:0.69575\n",
      "[8]\tvalidation_0-logloss:0.69660\n",
      "[9]\tvalidation_0-logloss:0.69876\n",
      "[10]\tvalidation_0-logloss:0.69872\n",
      "[11]\tvalidation_0-logloss:0.69919\n",
      "[12]\tvalidation_0-logloss:0.69992\n",
      "[13]\tvalidation_0-logloss:0.70024\n",
      "[14]\tvalidation_0-logloss:0.70236\n"
     ]
    },
    {
     "name": "stderr",
     "output_type": "stream",
     "text": [
      "C:\\Users\\suraf\\anaconda3\\lib\\site-packages\\xgboost\\sklearn.py:835: UserWarning: `early_stopping_rounds` in `fit` method is deprecated for better compatibility with scikit-learn, use `early_stopping_rounds` in constructor or`set_params` instead.\n",
      "  warnings.warn(\n"
     ]
    },
    {
     "data": {
      "text/html": [
       "<style>#sk-container-id-4 {color: black;}#sk-container-id-4 pre{padding: 0;}#sk-container-id-4 div.sk-toggleable {background-color: white;}#sk-container-id-4 label.sk-toggleable__label {cursor: pointer;display: block;width: 100%;margin-bottom: 0;padding: 0.3em;box-sizing: border-box;text-align: center;}#sk-container-id-4 label.sk-toggleable__label-arrow:before {content: \"▸\";float: left;margin-right: 0.25em;color: #696969;}#sk-container-id-4 label.sk-toggleable__label-arrow:hover:before {color: black;}#sk-container-id-4 div.sk-estimator:hover label.sk-toggleable__label-arrow:before {color: black;}#sk-container-id-4 div.sk-toggleable__content {max-height: 0;max-width: 0;overflow: hidden;text-align: left;background-color: #f0f8ff;}#sk-container-id-4 div.sk-toggleable__content pre {margin: 0.2em;color: black;border-radius: 0.25em;background-color: #f0f8ff;}#sk-container-id-4 input.sk-toggleable__control:checked~div.sk-toggleable__content {max-height: 200px;max-width: 100%;overflow: auto;}#sk-container-id-4 input.sk-toggleable__control:checked~label.sk-toggleable__label-arrow:before {content: \"▾\";}#sk-container-id-4 div.sk-estimator input.sk-toggleable__control:checked~label.sk-toggleable__label {background-color: #d4ebff;}#sk-container-id-4 div.sk-label input.sk-toggleable__control:checked~label.sk-toggleable__label {background-color: #d4ebff;}#sk-container-id-4 input.sk-hidden--visually {border: 0;clip: rect(1px 1px 1px 1px);clip: rect(1px, 1px, 1px, 1px);height: 1px;margin: -1px;overflow: hidden;padding: 0;position: absolute;width: 1px;}#sk-container-id-4 div.sk-estimator {font-family: monospace;background-color: #f0f8ff;border: 1px dotted black;border-radius: 0.25em;box-sizing: border-box;margin-bottom: 0.5em;}#sk-container-id-4 div.sk-estimator:hover {background-color: #d4ebff;}#sk-container-id-4 div.sk-parallel-item::after {content: \"\";width: 100%;border-bottom: 1px solid gray;flex-grow: 1;}#sk-container-id-4 div.sk-label:hover label.sk-toggleable__label {background-color: #d4ebff;}#sk-container-id-4 div.sk-serial::before {content: \"\";position: absolute;border-left: 1px solid gray;box-sizing: border-box;top: 0;bottom: 0;left: 50%;z-index: 0;}#sk-container-id-4 div.sk-serial {display: flex;flex-direction: column;align-items: center;background-color: white;padding-right: 0.2em;padding-left: 0.2em;position: relative;}#sk-container-id-4 div.sk-item {position: relative;z-index: 1;}#sk-container-id-4 div.sk-parallel {display: flex;align-items: stretch;justify-content: center;background-color: white;position: relative;}#sk-container-id-4 div.sk-item::before, #sk-container-id-4 div.sk-parallel-item::before {content: \"\";position: absolute;border-left: 1px solid gray;box-sizing: border-box;top: 0;bottom: 0;left: 50%;z-index: -1;}#sk-container-id-4 div.sk-parallel-item {display: flex;flex-direction: column;z-index: 1;position: relative;background-color: white;}#sk-container-id-4 div.sk-parallel-item:first-child::after {align-self: flex-end;width: 50%;}#sk-container-id-4 div.sk-parallel-item:last-child::after {align-self: flex-start;width: 50%;}#sk-container-id-4 div.sk-parallel-item:only-child::after {width: 0;}#sk-container-id-4 div.sk-dashed-wrapped {border: 1px dashed gray;margin: 0 0.4em 0.5em 0.4em;box-sizing: border-box;padding-bottom: 0.4em;background-color: white;}#sk-container-id-4 div.sk-label label {font-family: monospace;font-weight: bold;display: inline-block;line-height: 1.2em;}#sk-container-id-4 div.sk-label-container {text-align: center;}#sk-container-id-4 div.sk-container {/* jupyter's `normalize.less` sets `[hidden] { display: none; }` but bootstrap.min.css set `[hidden] { display: none !important; }` so we also need the `!important` here to be able to override the default hidden behavior on the sphinx rendered scikit-learn.org. See: https://github.com/scikit-learn/scikit-learn/issues/21755 */display: inline-block !important;position: relative;}#sk-container-id-4 div.sk-text-repr-fallback {display: none;}</style><div id=\"sk-container-id-4\" class=\"sk-top-container\"><div class=\"sk-text-repr-fallback\"><pre>XGBClassifier(base_score=None, booster=None, callbacks=None,\n",
       "              colsample_bylevel=None, colsample_bynode=None,\n",
       "              colsample_bytree=None, early_stopping_rounds=None,\n",
       "              enable_categorical=False, eval_metric=None, feature_types=None,\n",
       "              gamma=None, gpu_id=None, grow_policy=None, importance_type=None,\n",
       "              interaction_constraints=None, learning_rate=None, max_bin=None,\n",
       "              max_cat_threshold=None, max_cat_to_onehot=None,\n",
       "              max_delta_step=None, max_depth=None, max_leaves=None,\n",
       "              min_child_weight=None, missing=nan, monotone_constraints=None,\n",
       "              n_estimators=100, n_jobs=None, num_parallel_tree=None,\n",
       "              predictor=None, random_state=42, ...)</pre><b>In a Jupyter environment, please rerun this cell to show the HTML representation or trust the notebook. <br />On GitHub, the HTML representation is unable to render, please try loading this page with nbviewer.org.</b></div><div class=\"sk-container\" hidden><div class=\"sk-item\"><div class=\"sk-estimator sk-toggleable\"><input class=\"sk-toggleable__control sk-hidden--visually\" id=\"sk-estimator-id-4\" type=\"checkbox\" checked><label for=\"sk-estimator-id-4\" class=\"sk-toggleable__label sk-toggleable__label-arrow\">XGBClassifier</label><div class=\"sk-toggleable__content\"><pre>XGBClassifier(base_score=None, booster=None, callbacks=None,\n",
       "              colsample_bylevel=None, colsample_bynode=None,\n",
       "              colsample_bytree=None, early_stopping_rounds=None,\n",
       "              enable_categorical=False, eval_metric=None, feature_types=None,\n",
       "              gamma=None, gpu_id=None, grow_policy=None, importance_type=None,\n",
       "              interaction_constraints=None, learning_rate=None, max_bin=None,\n",
       "              max_cat_threshold=None, max_cat_to_onehot=None,\n",
       "              max_delta_step=None, max_depth=None, max_leaves=None,\n",
       "              min_child_weight=None, missing=nan, monotone_constraints=None,\n",
       "              n_estimators=100, n_jobs=None, num_parallel_tree=None,\n",
       "              predictor=None, random_state=42, ...)</pre></div></div></div></div></div>"
      ],
      "text/plain": [
       "XGBClassifier(base_score=None, booster=None, callbacks=None,\n",
       "              colsample_bylevel=None, colsample_bynode=None,\n",
       "              colsample_bytree=None, early_stopping_rounds=None,\n",
       "              enable_categorical=False, eval_metric=None, feature_types=None,\n",
       "              gamma=None, gpu_id=None, grow_policy=None, importance_type=None,\n",
       "              interaction_constraints=None, learning_rate=None, max_bin=None,\n",
       "              max_cat_threshold=None, max_cat_to_onehot=None,\n",
       "              max_delta_step=None, max_depth=None, max_leaves=None,\n",
       "              min_child_weight=None, missing=nan, monotone_constraints=None,\n",
       "              n_estimators=100, n_jobs=None, num_parallel_tree=None,\n",
       "              predictor=None, random_state=42, ...)"
      ]
     },
     "execution_count": 47,
     "metadata": {},
     "output_type": "execute_result"
    }
   ],
   "source": [
    "# define the model\n",
    "xgb_clf = xgb.XGBClassifier(weighted='balanced',random_state=42)\n",
    "#Vary the stopping value for checking difference of parameters.\n",
    "#xgb_clf.fit(X_train,y_train,early_stopping_rounds=5,eval_set=[(X_test, y_test)])\n",
    "#xgb_clf.fit(X_train,y_train,early_stopping_rounds=10,eval_set=[(X_test, y_test)])\n",
    "#xgb_clf.fit(X_train,y_train,early_stopping_rounds=20,eval_set=[(X_test, y_test)])\n",
    "# I set verbose =1 to avoid too many tree building information\n",
    "xgb_clf.fit(train[predictors], train[\"Target\"], early_stopping_rounds=15,verbose = 1, eval_set=[(X_test, y_test)])\n"
   ]
  },
  {
   "cell_type": "code",
   "execution_count": null,
   "metadata": {
    "slideshow": {
     "slide_type": "subslide"
    }
   },
   "outputs": [],
   "source": [
    "# train the model \n",
    "xgb_clf.score(train[predictors], train[\"Target\"])\n",
    "\n",
    "#Print metrics\n",
    "y_preds_xgb = xgb_clf.predict(train[predictors])\n",
    "\n",
    "print(classification_report(train[\"Target\"], y_preds_xgb))\n",
    "print(confusion_matrix(train[\"Target\"], y_preds_xgb))\n",
    "\n",
    "p = precision_score(train[\"Target\"], y_preds_xgb)\n",
    "f = f1_score(v, y_preds_xgb)\n",
    "a = metrics.accuracy_score(train[\"Target\"], y_preds_xgb)\n",
    "rc=recall_score(train[\"Target\"], y_preds_xgb)"
   ]
  },
  {
   "cell_type": "code",
   "execution_count": 49,
   "metadata": {
    "slideshow": {
     "slide_type": "subslide"
    }
   },
   "outputs": [
    {
     "name": "stdout",
     "output_type": "stream",
     "text": [
      "              precision    recall  f1-score   support\n",
      "\n",
      "           0       0.57      0.27      0.36      3131\n",
      "           1       0.57      0.83      0.67      3642\n",
      "\n",
      "    accuracy                           0.57      6773\n",
      "   macro avg       0.57      0.55      0.52      6773\n",
      "weighted avg       0.57      0.57      0.53      6773\n",
      "\n",
      "[[ 833 2298]\n",
      " [ 625 3017]]\n",
      "Precision: 0.5676387582314205\n",
      "Recall: 0.828390993959363\n",
      "F1 score: 0.6736630568270626\n",
      "Accuracy: 0.5684334858998966\n"
     ]
    }
   ],
   "source": [
    "print(\"Precision:\", p)\n",
    "print(\"Recall:\",rc)\n",
    "print(\"F1 score:\", f) \n",
    "print(\"Accuracy:\", a)"
   ]
  },
  {
   "cell_type": "markdown",
   "metadata": {
    "slideshow": {
     "slide_type": "subslide"
    }
   },
   "source": [
    "#### Model Prediction and Evalution "
   ]
  },
  {
   "cell_type": "code",
   "execution_count": null,
   "metadata": {
    "slideshow": {
     "slide_type": "subslide"
    }
   },
   "outputs": [],
   "source": [
    "# generate prediction using the model with predict method\n",
    "# calculate prediction using the actuall target and the predicted target\n",
    "#Print metrics\n",
    "preds_xgb= xgb_clf.predict(test[predictors])\n",
    "\n",
    "print(classification_report(test[\"Target\"],preds_xgb))\n",
    "print(confusion_matrix(test[\"Target\"],preds_xgb))\n",
    "\n",
    "p = precision_score(test[\"Target\"],preds_xgb)\n",
    "f = f1_score(test[\"Target\"],preds_xgb)\n",
    "a = accuracy_score(test[\"Target\"],preds_xgb)\n",
    "rc=recall_score(test[\"Target\"],preds_xgb)"
   ]
  },
  {
   "cell_type": "code",
   "execution_count": 47,
   "metadata": {
    "slideshow": {
     "slide_type": "subslide"
    }
   },
   "outputs": [
    {
     "name": "stdout",
     "output_type": "stream",
     "text": [
      "              precision    recall  f1-score   support\n",
      "\n",
      "           0       0.48      0.11      0.18       784\n",
      "           1       0.54      0.89      0.67       909\n",
      "\n",
      "    accuracy                           0.53      1693\n",
      "   macro avg       0.51      0.50      0.43      1693\n",
      "weighted avg       0.51      0.53      0.45      1693\n",
      "\n",
      "[[ 88 696]\n",
      " [ 96 813]]\n",
      "Precision: 0.5387673956262425\n",
      "Recall: 0.8943894389438944\n",
      "F1 score: 0.6724565756823822\n",
      "Accuracy: 0.5321913762551683\n"
     ]
    }
   ],
   "source": [
    "print(\"Precision:\", p)\n",
    "print(\"Recall:\",rc)\n",
    "print(\"F1 score:\", f) \n",
    "print(\"Accuracy:\", a)"
   ]
  },
  {
   "cell_type": "markdown",
   "metadata": {
    "slideshow": {
     "slide_type": "subslide"
    }
   },
   "source": [
    "The results demonstrated that it outperforms other models across nearly all metrics, while also requiring less time for computation.But, it has comparable accuracy with SVM and logistics regression."
   ]
  },
  {
   "cell_type": "markdown",
   "metadata": {
    "slideshow": {
     "slide_type": "subslide"
    }
   },
   "source": [
    "#### Feature importance with XGBoost."
   ]
  },
  {
   "cell_type": "markdown",
   "metadata": {
    "slideshow": {
     "slide_type": "subslide"
    }
   },
   "source": [
    "- One of the many benefits of using XGBoost is that it can automatically provide estimates of feature importance from a trained\n",
    "predictive model."
   ]
  },
  {
   "cell_type": "code",
   "execution_count": 389,
   "metadata": {
    "slideshow": {
     "slide_type": "subslide"
    }
   },
   "outputs": [
    {
     "data": {
      "image/png": "[encoded data removed]",
      "text/plain": [
       "<Figure size 432x288 with 1 Axes>"
      ]
     },
     "metadata": {},
     "output_type": "display_data"
    }
   ],
   "source": [
    "# calculates the importance of each feature in the training data\n",
    "xgb.plot_importance(xgb_clf)\n",
    "plt.show()\n",
    "fig.savefig('w20.png')\n"
   ]
  },
  {
   "cell_type": "markdown",
   "metadata": {
    "slideshow": {
     "slide_type": "subslide"
    }
   },
   "source": [
    "### 7. Ensemble Model\n",
    "\n",
    "The ensemble approach involves assembling four individual models into an array known as 'estimators,' which serves as the foundation for constructing a voting classifier. This voting classifier takes a pair of inputs: the first input being the array of estimators that encompasses the four models. The fundamental principle behind a voting ensemble is to aggregate predictions generated by classification models through summation or by averaging predictions from regression models. Additionally, it provides us with the flexibility to adjust parameters for the SVM model."
   ]
  },
  {
   "cell_type": "markdown",
   "metadata": {
    "slideshow": {
     "slide_type": "subslide"
    }
   },
   "source": [
    "In the initial phase, I configured the voting parameter to 'hard,' guiding the classifier to make straightforward predictions. However, through research, I came to realize that utilizing 'soft' voting often yields superior performance compared to hard voting. This is attributed to the heightened significance placed on highly confident votes. The key distinction lies in the approach: 'soft' voting involves summing the predicted probabilities for each label. To simplify, while 'hard' voting predicts the majority label, 'soft' voting predicts the label associated with the highest predicted probability."
   ]
  },
  {
   "cell_type": "markdown",
   "metadata": {
    "slideshow": {
     "slide_type": "subslide"
    }
   },
   "source": [
    "Upon implementing 'soft' voting for the model, I observed a modest enhancement in its performance.\n",
    "\n",
    "With the refined ensemble model in place, I will proceed to train it using the training data and subsequently evaluate its performance on the testing data."
   ]
  },
  {
   "cell_type": "code",
   "execution_count": 53,
   "metadata": {
    "slideshow": {
     "slide_type": "subslide"
    }
   },
   "outputs": [
    {
     "data": {
      "text/html": [
       "<style>#sk-container-id-6 {color: black;}#sk-container-id-6 pre{padding: 0;}#sk-container-id-6 div.sk-toggleable {background-color: white;}#sk-container-id-6 label.sk-toggleable__label {cursor: pointer;display: block;width: 100%;margin-bottom: 0;padding: 0.3em;box-sizing: border-box;text-align: center;}#sk-container-id-6 label.sk-toggleable__label-arrow:before {content: \"▸\";float: left;margin-right: 0.25em;color: #696969;}#sk-container-id-6 label.sk-toggleable__label-arrow:hover:before {color: black;}#sk-container-id-6 div.sk-estimator:hover label.sk-toggleable__label-arrow:before {color: black;}#sk-container-id-6 div.sk-toggleable__content {max-height: 0;max-width: 0;overflow: hidden;text-align: left;background-color: #f0f8ff;}#sk-container-id-6 div.sk-toggleable__content pre {margin: 0.2em;color: black;border-radius: 0.25em;background-color: #f0f8ff;}#sk-container-id-6 input.sk-toggleable__control:checked~div.sk-toggleable__content {max-height: 200px;max-width: 100%;overflow: auto;}#sk-container-id-6 input.sk-toggleable__control:checked~label.sk-toggleable__label-arrow:before {content: \"▾\";}#sk-container-id-6 div.sk-estimator input.sk-toggleable__control:checked~label.sk-toggleable__label {background-color: #d4ebff;}#sk-container-id-6 div.sk-label input.sk-toggleable__control:checked~label.sk-toggleable__label {background-color: #d4ebff;}#sk-container-id-6 input.sk-hidden--visually {border: 0;clip: rect(1px 1px 1px 1px);clip: rect(1px, 1px, 1px, 1px);height: 1px;margin: -1px;overflow: hidden;padding: 0;position: absolute;width: 1px;}#sk-container-id-6 div.sk-estimator {font-family: monospace;background-color: #f0f8ff;border: 1px dotted black;border-radius: 0.25em;box-sizing: border-box;margin-bottom: 0.5em;}#sk-container-id-6 div.sk-estimator:hover {background-color: #d4ebff;}#sk-container-id-6 div.sk-parallel-item::after {content: \"\";width: 100%;border-bottom: 1px solid gray;flex-grow: 1;}#sk-container-id-6 div.sk-label:hover label.sk-toggleable__label {background-color: #d4ebff;}#sk-container-id-6 div.sk-serial::before {content: \"\";position: absolute;border-left: 1px solid gray;box-sizing: border-box;top: 0;bottom: 0;left: 50%;z-index: 0;}#sk-container-id-6 div.sk-serial {display: flex;flex-direction: column;align-items: center;background-color: white;padding-right: 0.2em;padding-left: 0.2em;position: relative;}#sk-container-id-6 div.sk-item {position: relative;z-index: 1;}#sk-container-id-6 div.sk-parallel {display: flex;align-items: stretch;justify-content: center;background-color: white;position: relative;}#sk-container-id-6 div.sk-item::before, #sk-container-id-6 div.sk-parallel-item::before {content: \"\";position: absolute;border-left: 1px solid gray;box-sizing: border-box;top: 0;bottom: 0;left: 50%;z-index: -1;}#sk-container-id-6 div.sk-parallel-item {display: flex;flex-direction: column;z-index: 1;position: relative;background-color: white;}#sk-container-id-6 div.sk-parallel-item:first-child::after {align-self: flex-end;width: 50%;}#sk-container-id-6 div.sk-parallel-item:last-child::after {align-self: flex-start;width: 50%;}#sk-container-id-6 div.sk-parallel-item:only-child::after {width: 0;}#sk-container-id-6 div.sk-dashed-wrapped {border: 1px dashed gray;margin: 0 0.4em 0.5em 0.4em;box-sizing: border-box;padding-bottom: 0.4em;background-color: white;}#sk-container-id-6 div.sk-label label {font-family: monospace;font-weight: bold;display: inline-block;line-height: 1.2em;}#sk-container-id-6 div.sk-label-container {text-align: center;}#sk-container-id-6 div.sk-container {/* jupyter's `normalize.less` sets `[hidden] { display: none; }` but bootstrap.min.css set `[hidden] { display: none !important; }` so we also need the `!important` here to be able to override the default hidden behavior on the sphinx rendered scikit-learn.org. See: https://github.com/scikit-learn/scikit-learn/issues/21755 */display: inline-block !important;position: relative;}#sk-container-id-6 div.sk-text-repr-fallback {display: none;}</style><div id=\"sk-container-id-6\" class=\"sk-top-container\"><div class=\"sk-text-repr-fallback\"><pre>VotingClassifier(estimators=[(&#x27;KNN&#x27;, KNeighborsClassifier(n_neighbors=10)),\n",
       "                             (&#x27; DecisionTree&#x27;,\n",
       "                              DecisionTreeClassifier(max_depth=12,\n",
       "                                                     min_samples_split=10)),\n",
       "                             (&#x27;Regression Model&#x27;,\n",
       "                              LogisticRegression(max_iter=1000, solver=&#x27;saga&#x27;)),\n",
       "                             (&#x27;SVM&#x27;, SVC(kernel=&#x27;poly&#x27;, probability=True))],\n",
       "                 voting=&#x27;soft&#x27;)</pre><b>In a Jupyter environment, please rerun this cell to show the HTML representation or trust the notebook. <br />On GitHub, the HTML representation is unable to render, please try loading this page with nbviewer.org.</b></div><div class=\"sk-container\" hidden><div class=\"sk-item sk-dashed-wrapped\"><div class=\"sk-label-container\"><div class=\"sk-label sk-toggleable\"><input class=\"sk-toggleable__control sk-hidden--visually\" id=\"sk-estimator-id-6\" type=\"checkbox\" ><label for=\"sk-estimator-id-6\" class=\"sk-toggleable__label sk-toggleable__label-arrow\">VotingClassifier</label><div class=\"sk-toggleable__content\"><pre>VotingClassifier(estimators=[(&#x27;KNN&#x27;, KNeighborsClassifier(n_neighbors=10)),\n",
       "                             (&#x27; DecisionTree&#x27;,\n",
       "                              DecisionTreeClassifier(max_depth=12,\n",
       "                                                     min_samples_split=10)),\n",
       "                             (&#x27;Regression Model&#x27;,\n",
       "                              LogisticRegression(max_iter=1000, solver=&#x27;saga&#x27;)),\n",
       "                             (&#x27;SVM&#x27;, SVC(kernel=&#x27;poly&#x27;, probability=True))],\n",
       "                 voting=&#x27;soft&#x27;)</pre></div></div></div><div class=\"sk-parallel\"><div class=\"sk-parallel-item\"><div class=\"sk-item\"><div class=\"sk-label-container\"><div class=\"sk-label sk-toggleable\"><label>KNN</label></div></div><div class=\"sk-serial\"><div class=\"sk-item\"><div class=\"sk-estimator sk-toggleable\"><input class=\"sk-toggleable__control sk-hidden--visually\" id=\"sk-estimator-id-7\" type=\"checkbox\" ><label for=\"sk-estimator-id-7\" class=\"sk-toggleable__label sk-toggleable__label-arrow\">KNeighborsClassifier</label><div class=\"sk-toggleable__content\"><pre>KNeighborsClassifier(n_neighbors=10)</pre></div></div></div></div></div></div><div class=\"sk-parallel-item\"><div class=\"sk-item\"><div class=\"sk-label-container\"><div class=\"sk-label sk-toggleable\"><label> DecisionTree</label></div></div><div class=\"sk-serial\"><div class=\"sk-item\"><div class=\"sk-estimator sk-toggleable\"><input class=\"sk-toggleable__control sk-hidden--visually\" id=\"sk-estimator-id-8\" type=\"checkbox\" ><label for=\"sk-estimator-id-8\" class=\"sk-toggleable__label sk-toggleable__label-arrow\">DecisionTreeClassifier</label><div class=\"sk-toggleable__content\"><pre>DecisionTreeClassifier(max_depth=12, min_samples_split=10)</pre></div></div></div></div></div></div><div class=\"sk-parallel-item\"><div class=\"sk-item\"><div class=\"sk-label-container\"><div class=\"sk-label sk-toggleable\"><label>Regression Model</label></div></div><div class=\"sk-serial\"><div class=\"sk-item\"><div class=\"sk-estimator sk-toggleable\"><input class=\"sk-toggleable__control sk-hidden--visually\" id=\"sk-estimator-id-9\" type=\"checkbox\" ><label for=\"sk-estimator-id-9\" class=\"sk-toggleable__label sk-toggleable__label-arrow\">LogisticRegression</label><div class=\"sk-toggleable__content\"><pre>LogisticRegression(max_iter=1000, solver=&#x27;saga&#x27;)</pre></div></div></div></div></div></div><div class=\"sk-parallel-item\"><div class=\"sk-item\"><div class=\"sk-label-container\"><div class=\"sk-label sk-toggleable\"><label>SVM</label></div></div><div class=\"sk-serial\"><div class=\"sk-item\"><div class=\"sk-estimator sk-toggleable\"><input class=\"sk-toggleable__control sk-hidden--visually\" id=\"sk-estimator-id-10\" type=\"checkbox\" ><label for=\"sk-estimator-id-10\" class=\"sk-toggleable__label sk-toggleable__label-arrow\">SVC</label><div class=\"sk-toggleable__content\"><pre>SVC(kernel=&#x27;poly&#x27;, probability=True)</pre></div></div></div></div></div></div></div></div></div></div>"
      ],
      "text/plain": [
       "VotingClassifier(estimators=[('KNN', KNeighborsClassifier(n_neighbors=10)),\n",
       "                             (' DecisionTree',\n",
       "                              DecisionTreeClassifier(max_depth=12,\n",
       "                                                     min_samples_split=10)),\n",
       "                             ('Regression Model',\n",
       "                              LogisticRegression(max_iter=1000, solver='saga')),\n",
       "                             ('SVM', SVC(kernel='poly', probability=True))],\n",
       "                 voting='soft')"
      ]
     },
     "execution_count": 53,
     "metadata": {},
     "output_type": "execute_result"
    }
   ],
   "source": [
    "#create a dictionary of our models\n",
    "estimators=[('KNN', knn),(' DecisionTree', model_2),('Regression Model', model_log), ('SVM', svm), ]\n",
    "#create our voting classifier, inputting our models\n",
    "ensemble = VotingClassifier(estimators, voting='soft')\n",
    "#fit model to training data\n",
    "ensemble.fit(train[predictors, train[\"Target\"])"
   ]
  },
  {
   "cell_type": "code",
   "execution_count": null,
   "metadata": {
    "slideshow": {
     "slide_type": "subslide"
    }
   },
   "outputs": [],
   "source": [
    "# train the model\n",
    "ensemble.score(train[predictor], train[\"Target\"])\n",
    "\n",
    "#Print metrics\n",
    "ensemble_preds = ensemble.predict(train[predictor])\n",
    "\n",
    "print(classification_report(train[\"Target\"], ensemble_preds))\n",
    "print(confusion_matrix(train[\"Target\"], ensemble_preds))\n",
    "\n",
    "p = precision_score(train[\"Target\"],ensemble_preds)\n",
    "f = f1_score(train[\"Target\"], ensemble_preds)\n",
    "a = accuracy_score(train[\"Target\"], ensemble_preds)\n",
    "rc=recall_score(train[\"Target\"], ensemble_preds)"
   ]
  },
  {
   "cell_type": "code",
   "execution_count": 54,
   "metadata": {
    "slideshow": {
     "slide_type": "subslide"
    }
   },
   "outputs": [
    {
     "name": "stdout",
     "output_type": "stream",
     "text": [
      "              precision    recall  f1-score   support\n",
      "\n",
      "           0       0.78      0.41      0.54      3131\n",
      "           1       0.64      0.90      0.75      3642\n",
      "\n",
      "    accuracy                           0.67      6773\n",
      "   macro avg       0.71      0.65      0.64      6773\n",
      "weighted avg       0.70      0.67      0.65      6773\n",
      "\n",
      "[[1283 1848]\n",
      " [ 370 3272]]\n",
      "Precision: 0.6390625\n",
      "Recall: 0.8984074684239429\n",
      "F1 score: 0.746861447158183\n",
      "Accuracy: 0.6725232540971504\n"
     ]
    }
   ],
   "source": [
    "print(\"Precision:\", p)\n",
    "print(\"Recall:\",rc)\n",
    "print(\"F1 score:\", f) \n",
    "print(\"Accuracy:\", a)\n"
   ]
  },
  {
   "cell_type": "code",
   "execution_count": 55,
   "metadata": {
    "slideshow": {
     "slide_type": "subslide"
    }
   },
   "outputs": [
    {
     "data": {
      "text/plain": [
       "0.5059031877213696"
      ]
     },
     "execution_count": 55,
     "metadata": {},
     "output_type": "execute_result"
    }
   ],
   "source": [
    "#test our model on the test data\n",
    "ensemble.score(test[predictors], test[\"Target\"])"
   ]
  },
  {
   "cell_type": "markdown",
   "metadata": {
    "slideshow": {
     "slide_type": "subslide"
    }
   },
   "source": [
    "#### Model Prediction and Evalution"
   ]
  },
  {
   "cell_type": "code",
   "execution_count": null,
   "metadata": {
    "slideshow": {
     "slide_type": "subslide"
    }
   },
   "outputs": [],
   "source": [
    "# generate prediction using the model with predict method\n",
    "# calculate prediction using the actuall target and the predicted target\n",
    "#Print metrics\n",
    "preds_ensemble= ensemble.predict(test[predictor])\n",
    "\n",
    "print(classification_report(test[\"Target\"], preds_ensemble))\n",
    "print(confusion_matrix(test[Target], preds_ensemble))\n",
    "\n",
    "p = precision_score(test[\"Target\"], preds_ensemble)\n",
    "f = f1_score(test[\"Target\"], preds_ensemble)\n",
    "a = accuracy_score(test[\"Target\"], preds_ensemble)\n",
    "rc=recall_score(test[\"Target\"], preds_ensemble)"
   ]
  },
  {
   "cell_type": "code",
   "execution_count": 56,
   "metadata": {
    "slideshow": {
     "slide_type": "subslide"
    }
   },
   "outputs": [
    {
     "name": "stdout",
     "output_type": "stream",
     "text": [
      "              precision    recall  f1-score   support\n",
      "\n",
      "           0       0.47      0.24      0.31       812\n",
      "           1       0.52      0.76      0.61       882\n",
      "\n",
      "    accuracy                           0.51      1694\n",
      "   macro avg       0.49      0.50      0.46      1694\n",
      "weighted avg       0.49      0.51      0.47      1694\n",
      "\n",
      "[[191 621]\n",
      " [216 666]]\n",
      "Precision: 0.5174825174825175\n",
      "Recall: 0.7551020408163265\n",
      "F1 score: 0.6141078838174274\n",
      "Accuracy: 0.5059031877213696\n"
     ]
    }
   ],
   "source": [
    "print(\"Precision:\", p)\n",
    "print(\"Recall:\",rc)\n",
    "print(\"F1 score:\", f) \n",
    "print(\"Accuracy:\", a)"
   ]
  },
  {
   "cell_type": "markdown",
   "metadata": {
    "slideshow": {
     "slide_type": "subslide"
    }
   },
   "source": [
    "According to this outcome, the ensemble model demonstrates relatively comparable performance when contrasted with the others."
   ]
  },
  {
   "cell_type": "markdown",
   "metadata": {
    "slideshow": {
     "slide_type": "slide"
    }
   },
   "source": [
    "### Building a Back Testing System\n",
    "\n",
    "My subsequent objective involves establishing a more robust testing methodology for the algorithms, enabling us to accurately gauge the performance over extended time periods. Presently, this testing has been limited to 20 percent of the data. However, as we aspire to create a comprehensive stock price model for real-world application, it becomes imperative to evaluate the algorithms across multiple years of historical data."
   ]
  },
  {
   "cell_type": "markdown",
   "metadata": {
    "slideshow": {
     "slide_type": "subslide"
    }
   },
   "source": [
    "To facilitate this, I will undertake a backtesting approach. I'll employ data from the initial 10 years to generate predictions for the subsequent year and I will use one the model which is Random Forest. This process will be iteratively repeated, progressively predicting values for successive years. Such an approach provides predictions across a multitude of years, enhancing the model's reliability and increase our confidence in its efficacy.\n",
    "\n",
    "Post backtesting, my focus will shift towards evaluating the accuracy of my predictions."
   ]
  },
  {
   "cell_type": "code",
   "execution_count": 49,
   "metadata": {
    "slideshow": {
     "slide_type": "subslide"
    }
   },
   "outputs": [],
   "source": [
    "# create a prediction function\n",
    "\n",
    "def predict(train,test,predictors,model_1):\n",
    "    model_1.fit(train[predictors],train[\"Target\"])\n",
    "    preds=model_1.predict(test[predictors])\n",
    "    preds=pd.Series(preds,index=test.index,name=\"predictions\")\n",
    "    combined=pd.concat([test[\"Target\"],preds],axis=1)\n",
    "    return combined"
   ]
  },
  {
   "cell_type": "markdown",
   "metadata": {
    "slideshow": {
     "slide_type": "subslide"
    }
   },
   "source": [
    "#### Backtest to check how good our model is:\n",
    "It rap up everything we did in one function."
   ]
  },
  {
   "cell_type": "code",
   "execution_count": 50,
   "metadata": {
    "slideshow": {
     "slide_type": "subslide"
    }
   },
   "outputs": [],
   "source": [
    "# create backtest function\n",
    "# Every traiding year has nearly 250 days\n",
    "# strt:we want to have certain amount of data to train our model\n",
    "# train the model with 10 year's of data\n",
    "# we will be training a model for about a year then going to the next year\n",
    "# each dataframe is a prediction for a single year\n",
    "# loop the data year by year\n",
    "\n",
    "def backtest(df,model_1,predictors,start=2500,step=250):\n",
    "    all_predictions =[]\n",
    "    \n",
    "    for i in range(start,df.shape[0],step):\n",
    "        train=df.iloc[0:i].copy()\n",
    "        test=df.iloc[i:(i+step)].copy()\n",
    "        predictions=predict(train,test,predictors,model_1)\n",
    "        all_predictions.append(predictions)\n",
    "    return pd.concat(all_predictions) # concat all the predictions together"
   ]
  },
  {
   "cell_type": "code",
   "execution_count": 51,
   "metadata": {
    "scrolled": true,
    "slideshow": {
     "slide_type": "subslide"
    }
   },
   "outputs": [],
   "source": [
    "# start the backtest\n",
    "predictions=backtest(df,model_1,predictors)  "
   ]
  },
  {
   "cell_type": "code",
   "execution_count": 56,
   "metadata": {
    "slideshow": {
     "slide_type": "subslide"
    }
   },
   "outputs": [
    {
     "name": "stdout",
     "output_type": "stream",
     "text": [
      "predictions\n",
      "0    3424\n",
      "1    2542\n",
      "Name: count, dtype: int64\n"
     ]
    }
   ],
   "source": [
    "# see how many day's we predicted the market go up vs down\n",
    "# use value_count: count how many times each type of predictions was made\n",
    "\n",
    "prediction_counts = predictions[\"predictions\"].value_counts()\n",
    "\n",
    "# Print the counts\n",
    "print(prediction_counts)"
   ]
  },
  {
   "cell_type": "markdown",
   "metadata": {
    "slideshow": {
     "slide_type": "subslide"
    }
   },
   "source": [
    "We can see, we predicted the market go down about 3424 days and go up about 2542 days."
   ]
  },
  {
   "cell_type": "code",
   "execution_count": 55,
   "metadata": {
    "slideshow": {
     "slide_type": "subslide"
    }
   },
   "outputs": [
    {
     "data": {
      "text/plain": [
       "0.536191974822974"
      ]
     },
     "execution_count": 55,
     "metadata": {},
     "output_type": "execute_result"
    }
   ],
   "source": [
    "# now let's check the precision score\n",
    "precision_score(predictions[\"Target\"],predictions[\"predictions\"])"
   ]
  },
  {
   "cell_type": "markdown",
   "metadata": {
    "slideshow": {
     "slide_type": "subslide"
    }
   },
   "source": [
    "Over the span of those rows, encompassing approximately six thousand trading days, the accuracy stood at around 53.6%. Whenever we predicted a market upswing, it materialized 53.6% of the time."
   ]
  },
  {
   "cell_type": "code",
   "execution_count": 54,
   "metadata": {
    "slideshow": {
     "slide_type": "subslide"
    }
   },
   "outputs": [
    {
     "data": {
      "text/plain": [
       "Target\n",
       "1    0.533859\n",
       "0    0.466141\n",
       "Name: count, dtype: float64"
      ]
     },
     "execution_count": 54,
     "metadata": {},
     "output_type": "execute_result"
    }
   ],
   "source": [
    "# check the percentage of days where the market actually went up\n",
    "# use value count of the target divided by the number of rows total\n",
    "predictions[\"Target\"].value_counts()/predictions.shape[0]"
   ]
  },
  {
   "cell_type": "markdown",
   "metadata": {
    "slideshow": {
     "slide_type": "subslide"
    }
   },
   "source": [
    "\n",
    "Thus, within the observed timeframe, the S&P 500 experienced an ascent on 53.3% of the days we examined, while registering a decline on 46.6% of the days."
   ]
  },
  {
   "cell_type": "markdown",
   "metadata": {
    "slideshow": {
     "slide_type": "slide"
    }
   },
   "source": [
    "### Adding Additional Predictors \n",
    "-\n",
    "In order to enhance the model's accuracy, let's incorporate additional features. My approach involves varying the prediction horizons for the algorithm and examining the rolling means. This entails calculating the mean closing price for specific time spans, such as the last 2 days, the last trading week, the past 60 days, the last year, and even the last four years. Subsequently, I will establish the ratio between today's closing price and the closing price during these designated periods. The inclusion of an extended rolling period might prove particularly advantageous for the learning process.\n",
    "\n",
    "For this endeavor, I will solely employ the Random Forest model."
   ]
  },
  {
   "cell_type": "code",
   "execution_count": 60,
   "metadata": {
    "slideshow": {
     "slide_type": "subslide"
    }
   },
   "outputs": [],
   "source": [
    "# create varity of rolling averages\n",
    "# rolling_averages: rolling averages of the \"Close\" prices.\n",
    "# Close_Ratio:  ratio of the current day's closing price to the rolling average of closing prices for the given horizon\n",
    "# trend:sum of the \"Target\" column values for the past horizon days, with a shift of 1 day(cumulative sum of the \"Target\" column over the specified horizon)\n",
    "# trend: does not include the current day\n",
    "horizons = [2,5,60,250,1000]\n",
    "new_predictors =[]\n",
    "\n",
    "for horizon in horizons: # loop through horizons\n",
    "    rolling_averages = df.rolling(horizon).mean()\n",
    "    \n",
    "    ratio_column = f\"Close_Ratio_{horizon}\"\n",
    "    df[ratio_column]=df[\"Close\"]/rolling_averages[\"Close\"]\n",
    "    \n",
    "    trend_column = f\"Trend_{horizon}\"\n",
    "    df[trend_column]=df.shift(1).rolling(horizon).sum()[\"Target\"]\n",
    "    \n",
    "    new_predictors +=[ratio_column,trend_column]"
   ]
  },
  {
   "cell_type": "code",
   "execution_count": 61,
   "metadata": {
    "slideshow": {
     "slide_type": "subslide"
    }
   },
   "outputs": [
    {
     "data": {
      "text/html": [
       "<div>\n",
       "<style scoped>\n",
       "    .dataframe tbody tr th:only-of-type {\n",
       "        vertical-align: middle;\n",
       "    }\n",
       "\n",
       "    .dataframe tbody tr th {\n",
       "        vertical-align: top;\n",
       "    }\n",
       "\n",
       "    .dataframe thead th {\n",
       "        text-align: right;\n",
       "    }\n",
       "</style>\n",
       "<table border=\"1\" class=\"dataframe\">\n",
       "  <thead>\n",
       "    <tr style=\"text-align: right;\">\n",
       "      <th></th>\n",
       "      <th>Open</th>\n",
       "      <th>High</th>\n",
       "      <th>Low</th>\n",
       "      <th>Close</th>\n",
       "      <th>Volume</th>\n",
       "      <th>Tomorrow</th>\n",
       "      <th>Target</th>\n",
       "      <th>Close_Ratio_2</th>\n",
       "      <th>Trend_2</th>\n",
       "      <th>Close_Ratio_5</th>\n",
       "      <th>Trend_5</th>\n",
       "      <th>Close_Ratio_60</th>\n",
       "      <th>Trend_60</th>\n",
       "      <th>Close_Ratio_250</th>\n",
       "      <th>Trend_250</th>\n",
       "      <th>Close_Ratio_1000</th>\n",
       "      <th>Trend_1000</th>\n",
       "    </tr>\n",
       "    <tr>\n",
       "      <th>Date</th>\n",
       "      <th></th>\n",
       "      <th></th>\n",
       "      <th></th>\n",
       "      <th></th>\n",
       "      <th></th>\n",
       "      <th></th>\n",
       "      <th></th>\n",
       "      <th></th>\n",
       "      <th></th>\n",
       "      <th></th>\n",
       "      <th></th>\n",
       "      <th></th>\n",
       "      <th></th>\n",
       "      <th></th>\n",
       "      <th></th>\n",
       "      <th></th>\n",
       "      <th></th>\n",
       "    </tr>\n",
       "  </thead>\n",
       "  <tbody>\n",
       "    <tr>\n",
       "      <th>1990-01-02 00:00:00-05:00</th>\n",
       "      <td>353.399994</td>\n",
       "      <td>359.690002</td>\n",
       "      <td>351.980011</td>\n",
       "      <td>359.690002</td>\n",
       "      <td>162070000</td>\n",
       "      <td>358.760010</td>\n",
       "      <td>0</td>\n",
       "      <td>NaN</td>\n",
       "      <td>NaN</td>\n",
       "      <td>NaN</td>\n",
       "      <td>NaN</td>\n",
       "      <td>NaN</td>\n",
       "      <td>NaN</td>\n",
       "      <td>NaN</td>\n",
       "      <td>NaN</td>\n",
       "      <td>NaN</td>\n",
       "      <td>NaN</td>\n",
       "    </tr>\n",
       "    <tr>\n",
       "      <th>1990-01-03 00:00:00-05:00</th>\n",
       "      <td>359.690002</td>\n",
       "      <td>360.589996</td>\n",
       "      <td>357.890015</td>\n",
       "      <td>358.760010</td>\n",
       "      <td>192330000</td>\n",
       "      <td>355.670013</td>\n",
       "      <td>0</td>\n",
       "      <td>0.998706</td>\n",
       "      <td>NaN</td>\n",
       "      <td>NaN</td>\n",
       "      <td>NaN</td>\n",
       "      <td>NaN</td>\n",
       "      <td>NaN</td>\n",
       "      <td>NaN</td>\n",
       "      <td>NaN</td>\n",
       "      <td>NaN</td>\n",
       "      <td>NaN</td>\n",
       "    </tr>\n",
       "    <tr>\n",
       "      <th>1990-01-04 00:00:00-05:00</th>\n",
       "      <td>358.760010</td>\n",
       "      <td>358.760010</td>\n",
       "      <td>352.890015</td>\n",
       "      <td>355.670013</td>\n",
       "      <td>177000000</td>\n",
       "      <td>352.200012</td>\n",
       "      <td>0</td>\n",
       "      <td>0.995675</td>\n",
       "      <td>0.0</td>\n",
       "      <td>NaN</td>\n",
       "      <td>NaN</td>\n",
       "      <td>NaN</td>\n",
       "      <td>NaN</td>\n",
       "      <td>NaN</td>\n",
       "      <td>NaN</td>\n",
       "      <td>NaN</td>\n",
       "      <td>NaN</td>\n",
       "    </tr>\n",
       "    <tr>\n",
       "      <th>1990-01-05 00:00:00-05:00</th>\n",
       "      <td>355.670013</td>\n",
       "      <td>355.670013</td>\n",
       "      <td>351.350006</td>\n",
       "      <td>352.200012</td>\n",
       "      <td>158530000</td>\n",
       "      <td>353.790009</td>\n",
       "      <td>1</td>\n",
       "      <td>0.995098</td>\n",
       "      <td>0.0</td>\n",
       "      <td>NaN</td>\n",
       "      <td>NaN</td>\n",
       "      <td>NaN</td>\n",
       "      <td>NaN</td>\n",
       "      <td>NaN</td>\n",
       "      <td>NaN</td>\n",
       "      <td>NaN</td>\n",
       "      <td>NaN</td>\n",
       "    </tr>\n",
       "    <tr>\n",
       "      <th>1990-01-08 00:00:00-05:00</th>\n",
       "      <td>352.200012</td>\n",
       "      <td>354.239990</td>\n",
       "      <td>350.540009</td>\n",
       "      <td>353.790009</td>\n",
       "      <td>140110000</td>\n",
       "      <td>349.619995</td>\n",
       "      <td>0</td>\n",
       "      <td>1.002252</td>\n",
       "      <td>1.0</td>\n",
       "      <td>0.993731</td>\n",
       "      <td>NaN</td>\n",
       "      <td>NaN</td>\n",
       "      <td>NaN</td>\n",
       "      <td>NaN</td>\n",
       "      <td>NaN</td>\n",
       "      <td>NaN</td>\n",
       "      <td>NaN</td>\n",
       "    </tr>\n",
       "  </tbody>\n",
       "</table>\n",
       "</div>"
      ],
      "text/plain": [
       "                                 Open        High         Low       Close  \\\n",
       "Date                                                                        \n",
       "1990-01-02 00:00:00-05:00  353.399994  359.690002  351.980011  359.690002   \n",
       "1990-01-03 00:00:00-05:00  359.690002  360.589996  357.890015  358.760010   \n",
       "1990-01-04 00:00:00-05:00  358.760010  358.760010  352.890015  355.670013   \n",
       "1990-01-05 00:00:00-05:00  355.670013  355.670013  351.350006  352.200012   \n",
       "1990-01-08 00:00:00-05:00  352.200012  354.239990  350.540009  353.790009   \n",
       "\n",
       "                              Volume    Tomorrow  Target  Close_Ratio_2  \\\n",
       "Date                                                                      \n",
       "1990-01-02 00:00:00-05:00  162070000  358.760010       0            NaN   \n",
       "1990-01-03 00:00:00-05:00  192330000  355.670013       0       0.998706   \n",
       "1990-01-04 00:00:00-05:00  177000000  352.200012       0       0.995675   \n",
       "1990-01-05 00:00:00-05:00  158530000  353.790009       1       0.995098   \n",
       "1990-01-08 00:00:00-05:00  140110000  349.619995       0       1.002252   \n",
       "\n",
       "                           Trend_2  Close_Ratio_5  Trend_5  Close_Ratio_60  \\\n",
       "Date                                                                         \n",
       "1990-01-02 00:00:00-05:00      NaN            NaN      NaN             NaN   \n",
       "1990-01-03 00:00:00-05:00      NaN            NaN      NaN             NaN   \n",
       "1990-01-04 00:00:00-05:00      0.0            NaN      NaN             NaN   \n",
       "1990-01-05 00:00:00-05:00      0.0            NaN      NaN             NaN   \n",
       "1990-01-08 00:00:00-05:00      1.0       0.993731      NaN             NaN   \n",
       "\n",
       "                           Trend_60  Close_Ratio_250  Trend_250  \\\n",
       "Date                                                              \n",
       "1990-01-02 00:00:00-05:00       NaN              NaN        NaN   \n",
       "1990-01-03 00:00:00-05:00       NaN              NaN        NaN   \n",
       "1990-01-04 00:00:00-05:00       NaN              NaN        NaN   \n",
       "1990-01-05 00:00:00-05:00       NaN              NaN        NaN   \n",
       "1990-01-08 00:00:00-05:00       NaN              NaN        NaN   \n",
       "\n",
       "                           Close_Ratio_1000  Trend_1000  \n",
       "Date                                                     \n",
       "1990-01-02 00:00:00-05:00               NaN         NaN  \n",
       "1990-01-03 00:00:00-05:00               NaN         NaN  \n",
       "1990-01-04 00:00:00-05:00               NaN         NaN  \n",
       "1990-01-05 00:00:00-05:00               NaN         NaN  \n",
       "1990-01-08 00:00:00-05:00               NaN         NaN  "
      ]
     },
     "execution_count": 61,
     "metadata": {},
     "output_type": "execute_result"
    }
   ],
   "source": [
    "df.head(5)"
   ]
  },
  {
   "cell_type": "markdown",
   "metadata": {
    "slideshow": {
     "slide_type": "subslide"
    }
   },
   "source": [
    "The dataframe has NaN values because when pandas can not find enough days or rows prior to the current row, it actually compute the rolling average and return NaN."
   ]
  },
  {
   "cell_type": "code",
   "execution_count": 62,
   "metadata": {
    "scrolled": true,
    "slideshow": {
     "slide_type": "subslide"
    }
   },
   "outputs": [
    {
     "data": {
      "text/html": [
       "<div>\n",
       "<style scoped>\n",
       "    .dataframe tbody tr th:only-of-type {\n",
       "        vertical-align: middle;\n",
       "    }\n",
       "\n",
       "    .dataframe tbody tr th {\n",
       "        vertical-align: top;\n",
       "    }\n",
       "\n",
       "    .dataframe thead th {\n",
       "        text-align: right;\n",
       "    }\n",
       "</style>\n",
       "<table border=\"1\" class=\"dataframe\">\n",
       "  <thead>\n",
       "    <tr style=\"text-align: right;\">\n",
       "      <th></th>\n",
       "      <th>Open</th>\n",
       "      <th>High</th>\n",
       "      <th>Low</th>\n",
       "      <th>Close</th>\n",
       "      <th>Volume</th>\n",
       "      <th>Tomorrow</th>\n",
       "      <th>Target</th>\n",
       "      <th>Close_Ratio_2</th>\n",
       "      <th>Trend_2</th>\n",
       "      <th>Close_Ratio_5</th>\n",
       "      <th>Trend_5</th>\n",
       "      <th>Close_Ratio_60</th>\n",
       "      <th>Trend_60</th>\n",
       "      <th>Close_Ratio_250</th>\n",
       "      <th>Trend_250</th>\n",
       "      <th>Close_Ratio_1000</th>\n",
       "      <th>Trend_1000</th>\n",
       "    </tr>\n",
       "    <tr>\n",
       "      <th>Date</th>\n",
       "      <th></th>\n",
       "      <th></th>\n",
       "      <th></th>\n",
       "      <th></th>\n",
       "      <th></th>\n",
       "      <th></th>\n",
       "      <th></th>\n",
       "      <th></th>\n",
       "      <th></th>\n",
       "      <th></th>\n",
       "      <th></th>\n",
       "      <th></th>\n",
       "      <th></th>\n",
       "      <th></th>\n",
       "      <th></th>\n",
       "      <th></th>\n",
       "      <th></th>\n",
       "    </tr>\n",
       "  </thead>\n",
       "  <tbody>\n",
       "    <tr>\n",
       "      <th>1993-12-14 00:00:00-05:00</th>\n",
       "      <td>465.730011</td>\n",
       "      <td>466.119995</td>\n",
       "      <td>462.459991</td>\n",
       "      <td>463.059998</td>\n",
       "      <td>275050000</td>\n",
       "      <td>461.839996</td>\n",
       "      <td>0</td>\n",
       "      <td>0.997157</td>\n",
       "      <td>1.0</td>\n",
       "      <td>0.996617</td>\n",
       "      <td>1.0</td>\n",
       "      <td>1.000283</td>\n",
       "      <td>32.0</td>\n",
       "      <td>1.028047</td>\n",
       "      <td>127.0</td>\n",
       "      <td>1.176082</td>\n",
       "      <td>512.0</td>\n",
       "    </tr>\n",
       "    <tr>\n",
       "      <th>1993-12-15 00:00:00-05:00</th>\n",
       "      <td>463.059998</td>\n",
       "      <td>463.690002</td>\n",
       "      <td>461.839996</td>\n",
       "      <td>461.839996</td>\n",
       "      <td>331770000</td>\n",
       "      <td>463.339996</td>\n",
       "      <td>1</td>\n",
       "      <td>0.998681</td>\n",
       "      <td>0.0</td>\n",
       "      <td>0.995899</td>\n",
       "      <td>1.0</td>\n",
       "      <td>0.997329</td>\n",
       "      <td>32.0</td>\n",
       "      <td>1.025151</td>\n",
       "      <td>126.0</td>\n",
       "      <td>1.172676</td>\n",
       "      <td>512.0</td>\n",
       "    </tr>\n",
       "    <tr>\n",
       "      <th>1993-12-16 00:00:00-05:00</th>\n",
       "      <td>461.859985</td>\n",
       "      <td>463.980011</td>\n",
       "      <td>461.859985</td>\n",
       "      <td>463.339996</td>\n",
       "      <td>284620000</td>\n",
       "      <td>466.380005</td>\n",
       "      <td>1</td>\n",
       "      <td>1.001621</td>\n",
       "      <td>1.0</td>\n",
       "      <td>0.999495</td>\n",
       "      <td>2.0</td>\n",
       "      <td>1.000311</td>\n",
       "      <td>32.0</td>\n",
       "      <td>1.028274</td>\n",
       "      <td>127.0</td>\n",
       "      <td>1.176163</td>\n",
       "      <td>513.0</td>\n",
       "    </tr>\n",
       "    <tr>\n",
       "      <th>1993-12-17 00:00:00-05:00</th>\n",
       "      <td>463.339996</td>\n",
       "      <td>466.380005</td>\n",
       "      <td>463.339996</td>\n",
       "      <td>466.380005</td>\n",
       "      <td>363750000</td>\n",
       "      <td>465.850006</td>\n",
       "      <td>0</td>\n",
       "      <td>1.003270</td>\n",
       "      <td>2.0</td>\n",
       "      <td>1.004991</td>\n",
       "      <td>3.0</td>\n",
       "      <td>1.006561</td>\n",
       "      <td>32.0</td>\n",
       "      <td>1.034781</td>\n",
       "      <td>128.0</td>\n",
       "      <td>1.183537</td>\n",
       "      <td>514.0</td>\n",
       "    </tr>\n",
       "    <tr>\n",
       "      <th>1993-12-20 00:00:00-05:00</th>\n",
       "      <td>466.380005</td>\n",
       "      <td>466.899994</td>\n",
       "      <td>465.529999</td>\n",
       "      <td>465.850006</td>\n",
       "      <td>255900000</td>\n",
       "      <td>465.299988</td>\n",
       "      <td>0</td>\n",
       "      <td>0.999431</td>\n",
       "      <td>1.0</td>\n",
       "      <td>1.003784</td>\n",
       "      <td>2.0</td>\n",
       "      <td>1.005120</td>\n",
       "      <td>32.0</td>\n",
       "      <td>1.033359</td>\n",
       "      <td>128.0</td>\n",
       "      <td>1.181856</td>\n",
       "      <td>513.0</td>\n",
       "    </tr>\n",
       "  </tbody>\n",
       "</table>\n",
       "</div>"
      ],
      "text/plain": [
       "                                 Open        High         Low       Close  \\\n",
       "Date                                                                        \n",
       "1993-12-14 00:00:00-05:00  465.730011  466.119995  462.459991  463.059998   \n",
       "1993-12-15 00:00:00-05:00  463.059998  463.690002  461.839996  461.839996   \n",
       "1993-12-16 00:00:00-05:00  461.859985  463.980011  461.859985  463.339996   \n",
       "1993-12-17 00:00:00-05:00  463.339996  466.380005  463.339996  466.380005   \n",
       "1993-12-20 00:00:00-05:00  466.380005  466.899994  465.529999  465.850006   \n",
       "\n",
       "                              Volume    Tomorrow  Target  Close_Ratio_2  \\\n",
       "Date                                                                      \n",
       "1993-12-14 00:00:00-05:00  275050000  461.839996       0       0.997157   \n",
       "1993-12-15 00:00:00-05:00  331770000  463.339996       1       0.998681   \n",
       "1993-12-16 00:00:00-05:00  284620000  466.380005       1       1.001621   \n",
       "1993-12-17 00:00:00-05:00  363750000  465.850006       0       1.003270   \n",
       "1993-12-20 00:00:00-05:00  255900000  465.299988       0       0.999431   \n",
       "\n",
       "                           Trend_2  Close_Ratio_5  Trend_5  Close_Ratio_60  \\\n",
       "Date                                                                         \n",
       "1993-12-14 00:00:00-05:00      1.0       0.996617      1.0        1.000283   \n",
       "1993-12-15 00:00:00-05:00      0.0       0.995899      1.0        0.997329   \n",
       "1993-12-16 00:00:00-05:00      1.0       0.999495      2.0        1.000311   \n",
       "1993-12-17 00:00:00-05:00      2.0       1.004991      3.0        1.006561   \n",
       "1993-12-20 00:00:00-05:00      1.0       1.003784      2.0        1.005120   \n",
       "\n",
       "                           Trend_60  Close_Ratio_250  Trend_250  \\\n",
       "Date                                                              \n",
       "1993-12-14 00:00:00-05:00      32.0         1.028047      127.0   \n",
       "1993-12-15 00:00:00-05:00      32.0         1.025151      126.0   \n",
       "1993-12-16 00:00:00-05:00      32.0         1.028274      127.0   \n",
       "1993-12-17 00:00:00-05:00      32.0         1.034781      128.0   \n",
       "1993-12-20 00:00:00-05:00      32.0         1.033359      128.0   \n",
       "\n",
       "                           Close_Ratio_1000  Trend_1000  \n",
       "Date                                                     \n",
       "1993-12-14 00:00:00-05:00          1.176082       512.0  \n",
       "1993-12-15 00:00:00-05:00          1.172676       512.0  \n",
       "1993-12-16 00:00:00-05:00          1.176163       513.0  \n",
       "1993-12-17 00:00:00-05:00          1.183537       514.0  \n",
       "1993-12-20 00:00:00-05:00          1.181856       513.0  "
      ]
     },
     "execution_count": 62,
     "metadata": {},
     "output_type": "execute_result"
    }
   ],
   "source": [
    "# remove the missing values in the dataframe\n",
    "df_new= df.dropna()\n",
    "df_new.head(5)"
   ]
  },
  {
   "cell_type": "code",
   "execution_count": 63,
   "metadata": {
    "slideshow": {
     "slide_type": "subslide"
    }
   },
   "outputs": [
    {
     "data": {
      "text/plain": [
       "(7466, 17)"
      ]
     },
     "execution_count": 63,
     "metadata": {},
     "output_type": "execute_result"
    }
   ],
   "source": [
    "# check shepe of the new dataframe\n",
    "df_new.shape"
   ]
  },
  {
   "cell_type": "code",
   "execution_count": 61,
   "metadata": {
    "slideshow": {
     "slide_type": "subslide"
    }
   },
   "outputs": [
    {
     "data": {
      "image/png": "[encoded data removed]",
      "text/plain": [
       "<Figure size 1080x1080 with 25 Axes>"
      ]
     },
     "metadata": {
      "needs_background": "light"
     },
     "output_type": "display_data"
    }
   ],
   "source": [
    "# Plot the distribution of new_features\n",
    "selected_columns = ['Close_Ratio_2','Trend_2','Close_Ratio_5','Trend_5','Close_Ratio_60','Trend_60','Close_Ratio_250','Trend_250','Close_Ratio_1000','Trend_1000']\n",
    "selected_data = df_new[selected_columns]\n",
    "# Plot histograms using hist method\n",
    "histogram = selected_data.hist(layout=(5, 5), figsize=(15, 15))\n",
    "plt.savefig('histogram1.png')# saving image so we can use in ppt"
   ]
  },
  {
   "cell_type": "code",
   "execution_count": 62,
   "metadata": {
    "slideshow": {
     "slide_type": "skip"
    }
   },
   "outputs": [
    {
     "data": {
      "text/plain": [
       "0.46269256530475555"
      ]
     },
     "execution_count": 62,
     "metadata": {},
     "output_type": "execute_result"
    }
   ],
   "source": [
    "#Null error rate\n",
    "NRE = df_new.Target.value_counts()[1]/(df_new.Target.value_counts()[0] + df_new.Target.value_counts()[1])\n",
    "Error_Rate = 1 - NRE\n",
    "Error_Rate"
   ]
  },
  {
   "cell_type": "markdown",
   "metadata": {
    "slideshow": {
     "slide_type": "slide"
    }
   },
   "source": [
    "### Improving the Model Performance"
   ]
  },
  {
   "cell_type": "code",
   "execution_count": 63,
   "metadata": {
    "slideshow": {
     "slide_type": "subslide"
    }
   },
   "outputs": [],
   "source": [
    "# update the model slightly and change some of the parameters\n",
    "model=RandomForestClassifier(n_estimators=200,min_samples_split=10,random_state=1)"
   ]
  },
  {
   "cell_type": "code",
   "execution_count": 69,
   "metadata": {
    "slideshow": {
     "slide_type": "subslide"
    }
   },
   "outputs": [],
   "source": [
    "# rewrite the predict function slightly\n",
    "# transform the predicted probabilities (preds) into binary predictions\n",
    "def predict(train,test,predictors,model):\n",
    "    model.fit(train[predictors],train[\"Target\"])\n",
    "    preds=model.predict_proba(test[predictors]) [:,1]\n",
    "    preds[preds >=.6] = 1 # this will reduce the number of trading days\n",
    "    # but increase the chance the price actually go up on those days\n",
    "    preds[preds < .6]= 0\n",
    "    preds=pd.Series(preds,index=test.index,name=\"predictions\")\n",
    "    combined=pd.concat([test[\"Target\"],preds],axis=1)\n",
    "    return combined"
   ]
  },
  {
   "cell_type": "code",
   "execution_count": 70,
   "metadata": {
    "slideshow": {
     "slide_type": "subslide"
    }
   },
   "outputs": [],
   "source": [
    "# run the backtest again\n",
    "predictions=backtest(df_new,model,new_predictors)"
   ]
  },
  {
   "cell_type": "markdown",
   "metadata": {
    "slideshow": {
     "slide_type": "subslide"
    }
   },
   "source": [
    "Here, I removed the old predictors because those are just absolute numbers. So, it is not super informative to the model if the price today is for example 465 dollar , it doesn't tell me anything whether the price goes up or down tomorrow. The ratios are the most informative part and it showed us  what is the price today compared to the price yesterday and the price last week. That is why I took those columns out."
   ]
  },
  {
   "cell_type": "code",
   "execution_count": 71,
   "metadata": {
    "slideshow": {
     "slide_type": "subslide"
    }
   },
   "outputs": [
    {
     "data": {
      "text/plain": [
       "predictions\n",
       "0.0    4030\n",
       "1.0     935\n",
       "Name: count, dtype: int64"
      ]
     },
     "execution_count": 71,
     "metadata": {},
     "output_type": "execute_result"
    }
   ],
   "source": [
    "# check the value count again\n",
    "predictions[\"predictions\"].value_counts()"
   ]
  },
  {
   "cell_type": "markdown",
   "metadata": {
    "slideshow": {
     "slide_type": "subslide"
    }
   },
   "source": [
    "There were approximately four thousand instances where the prediction indicated a decline in price. The distribution has notably shifted, revealing that only a handful of days were projected for price increase. This shift can be attributed to a change in the threshold: I instructed the model to exhibit greater confidence in its prediction before forecasting an upward price movement. Consequently, our trading or stock purchasing activities have been curtailed, occurring on fewer occasions."
   ]
  },
  {
   "cell_type": "code",
   "execution_count": 72,
   "metadata": {
    "slideshow": {
     "slide_type": "subslide"
    }
   },
   "outputs": [
    {
     "data": {
      "text/plain": [
       "0.5689839572192513"
      ]
     },
     "execution_count": 72,
     "metadata": {},
     "output_type": "execute_result"
    }
   ],
   "source": [
    "precision_score(predictions[\"Target\"],predictions[\"predictions\"])\n"
   ]
  },
  {
   "cell_type": "markdown",
   "metadata": {
    "slideshow": {
     "slide_type": "slide"
    }
   },
   "source": [
    "## Summary and Next Steps with the Model"
   ]
  },
  {
   "cell_type": "markdown",
   "metadata": {
    "slideshow": {
     "slide_type": "subslide"
    }
   },
   "source": [
    "Ultimately, I arrived at the conclusion that the ensemble model yields result comparable to those of the other models. Drawing on the outcomes outlined above, the model enriched with new features demonstrates a 57% precision in predicting upward shifts in stock prices during purchase instances. This achievement stands commendable, especially given the context of relying solely on time-series data and historical index prices. Notably, due to computational limitations, neural networks, particularly recurrent ones like Long-Short Term Memory (LSTM) networks tailored for time-series data, were omitted from consideration in this project.\n",
    "\n",
    "Considering the research question at hand, there remains substantial room for advancement. Expanding the dataset could yield improved predictions by leveraging factors such as Twitter sentiment or economic indicators to enhance the assessment of whether stocks will trend upward or downward. Although this project is not exhaustive, it serves as a foundational analysis for future endeavors. The array of machine learning models crafted throughout this journey, some of which were novel to me, significantly contributes to potential future work. Overall, this project has been enlightening, providing insights into various model workings, even though the predictive accuracy regarding stock trends proved less satisfactory.\n",
    "\n",
    "Additionally, time limitations prevented the exploration of alternative methods of feature engineering, such as incorporating classic stock market indicators. To enhance the model, I recommended to integrate exchanges operating overnight. While the S&P 500 trades only during US market hours, other global indices commence trading before the US market opens. Exploring correlations between these indices and the S&P 500 could potentially yield valuable insights.\n",
    "\n",
    "Finally, this marks the culmination of the first phase of the project. The forthcoming second stage will be  exploring the avenues for improvement. It is crucial to acknowledge, however, that predicting financial markets, including stock prices like the S&P 500, is a formidable and intricate undertaking. Financial markets are influenced by an extensive array of variables. Thus, consistently achieving high accuracy in stock price predictions remains a challenging task.\n"
   ]
  },
  {
   "cell_type": "markdown",
   "metadata": {
    "slideshow": {
     "slide_type": "slide"
    }
   },
   "source": [
    "## Powerpoint Presentation "
   ]
  },
  {
   "cell_type": "code",
   "execution_count": 401,
   "metadata": {
    "slideshow": {
     "slide_type": "subslide"
    }
   },
   "outputs": [],
   "source": [
    "# Create powerpoint presentation with python\n",
    "path = \"sample.pptx\"\n",
    "#Intitalizing PPt object \n",
    "prs = Presentation() \n",
    "\n",
    "# creating slide 1 \n",
    "zero_slide = prs.slide_layouts[6]\n",
    "slide0 = prs.slides.add_slide(zero_slide)\n",
    " \n",
    "txBox = slide0.shapes.add_textbox( pptx.util.Inches(3.5), pptx.util.Inches(1),\n",
    "                               width=pptx.util.Inches(4), height=pptx.util.Inches(1))\n",
    "tf = txBox.text_frame\n",
    "tf.clear()\n",
    "p = tf.paragraphs[0]\n",
    "run = p.add_run()\n",
    "run.text = 'SP500 Data Analysis'\n",
    "font = run.font\n",
    "font.name = 'Calibri'\n",
    "font.size = Pt(24)\n",
    "font.bold = True\n",
    "font.italic = None \n",
    "p.alignment = PP_ALIGN.CENTER\n",
    "\n",
    "\n",
    "# creating slide 2 \n",
    "blank_slide_layout = prs.slide_layouts[6] \n",
    "slide = prs.slides.add_slide(blank_slide_layout)\n",
    "left = top = Inches(1)\n",
    "pic = slide.shapes.add_picture('histogram.png', pptx.util.Inches(0.25), pptx.util.Inches(1),\n",
    "                               width=pptx.util.Inches(9), height=pptx.util.Inches(5))\n",
    "\n",
    "# creating slide 3\n",
    "second_slide = prs.slide_layouts[6]\n",
    "slide2 = prs.slides.add_slide(second_slide)\n",
    " \n",
    "pic = slide2.shapes.add_picture('x6.png', pptx.util.Inches(1.5), pptx.util.Inches(1),\n",
    "                               width=pptx.util.Inches(7), height=pptx.util.Inches(2))\n",
    "\n",
    "pic = slide2.shapes.add_picture('y2.png', pptx.util.Inches(0.5), pptx.util.Inches(3.5),\n",
    "                               width=pptx.util.Inches(9), height=pptx.util.Inches(3))\n",
    "\n",
    "# creating slide 3\n",
    "third_slide = prs.slide_layouts[6]\n",
    "slide3 = prs.slides.add_slide(third_slide)\n",
    "\n",
    "pic = slide3.shapes.add_picture('i1.png', pptx.util.Inches(0.5), pptx.util.Inches(1),\n",
    "                               width=pptx.util.Inches(9), height=pptx.util.Inches(6))\n",
    "\n",
    "# creating slide 4\n",
    "forth_slide = prs.slide_layouts[6]\n",
    "slide4 = prs.slides.add_slide(forth_slide)\n",
    "\n",
    "pic = slide4.shapes.add_picture('i9.png', pptx.util.Inches(0.5), pptx.util.Inches(1),\n",
    "                               width=pptx.util.Inches(9), height=pptx.util.Inches(5))\n",
    "\n",
    "# creating slide 5\n",
    "fifth_slide = prs.slide_layouts[6]\n",
    "slide5 = prs.slides.add_slide(fifth_slide)\n",
    "\n",
    "pic = slide5.shapes.add_picture('e8.png', pptx.util.Inches(1), pptx.util.Inches(0.5),\n",
    "                               width=pptx.util.Inches(4), height=pptx.util.Inches(2))\n",
    "# creating slide 6\n",
    "sixth_slide = prs.slide_layouts[6]\n",
    "slide6 = prs.slides.add_slide(sixth_slide)\n",
    "pic = slide6.shapes.add_picture('z10.png', pptx.util.Inches(0.5), pptx.util.Inches(3),\n",
    "                               width=pptx.util.Inches(9), height=pptx.util.Inches(4))\n",
    "\n",
    "# creating slide 7\n",
    "seventh_slide = prs.slide_layouts[6]\n",
    "slide6 = prs.slides.add_slide(seventh_slide)\n",
    "pic = slide6.shapes.add_picture('w20.png', pptx.util.Inches(0.5), pptx.util.Inches(3),\n",
    "                               width=pptx.util.Inches(9), height=pptx.util.Inches(4))\n",
    "# creating slide 8\n",
    "eighth_slide = prs.slide_layouts[6]\n",
    "slide6 = prs.slides.add_slide(eighth_slide)\n",
    "pic = slide6.shapes.add_picture('histogram1.png', pptx.util.Inches(0.5), pptx.util.Inches(3),\n",
    "                               width=pptx.util.Inches(9), height=pptx.util.Inches(4))\n",
    "\n",
    "\n",
    "#saving the created slide \n",
    "prs.save('S&P500 stock price.pptx')"
   ]
  },
  {
   "cell_type": "markdown",
   "metadata": {
    "slideshow": {
     "slide_type": "slide"
    }
   },
   "source": [
    "## Reference \n",
    "1. https://www.researchgate.net/figure/High-Frequency-Trading-Domain-source-Aldridge-2013_fig1_358123608\n",
    "2. https://www.kaggle.com/code/samaxtech/predicting-s-p500-index-linearreg-randomforests  \n",
    "3. 4.https://medium.com/@akashsangar2653/eda-and-price-prediction-of-s-p-500-stock-prices-dataset-290535b9a40b\n",
    "5. https://medium.com/shiyan-boxer/s-p-500-stock-price-prediction-using-machine-learning-and-deep-learning-328b1839d1b6\n",
    "6. https://www.kaggle.com/code/yash16jr/s-p500-data-eda-and-prediction-arima-sarimax\n",
    "7. https://medium.com/shiyan-boxer/s-p-500-stock-price-prediction-using-machine-learning-and-deep-learning-328b1839d1b6\n",
    "8. https://www.kaggle.com/datasets/miguelaenlle/massive-stock-news-analysis-db-for-nlpbacktests   \n",
    "9. https://ai.plainenglish.io/using-deep-learning-to-predict-stock-prices-a-step-by-step-guide-with-python-and-the-s-p-500-59b06de25357\n",
    "10. https://medium.com/codex/stocks-news-sentiment-analysis-with-deep-learning-transformers-and-machine-learning-cdcdb827fc06 \n",
    "11. https://medium.com/mlearning-ai/predict-sp500-stock-price-with-python-machine-learning-sentiment-analysis-a296dc276353\n",
    "12. https://ai.plainenglish.io/using-deep-learning-to-predict-stock-prices-a-step-by-step-guide-with-python-and-the-s-p-500-59b06de25357\n",
    "13. http://cs229.stanford.edu/proj2020spr/report/Fuster_Zou.pdf\n",
    "14. https://www.sciencedirect.com/science/article/pii/S2666827022000378"
   ]
  },
  {
   "cell_type": "markdown",
   "metadata": {
    "slideshow": {
     "slide_type": "slide"
    }
   },
   "source": [
    "# Thank You !"
   ]
  }
 ],
 "metadata": {
  "kernelspec": {
   "display_name": "Python 3",
   "language": "python",
   "name": "python3"
  },
  "language_info": {
   "codemirror_mode": {
    "name": "ipython",
    "version": 3
   },
   "file_extension": ".py",
   "mimetype": "text/x-python",
   "name": "python",
   "nbconvert_exporter": "python",
   "pygments_lexer": "ipython3",
   "version": "3.8.5"
  }
 },
 "nbformat": 4,
 "nbformat_minor": 4
}
