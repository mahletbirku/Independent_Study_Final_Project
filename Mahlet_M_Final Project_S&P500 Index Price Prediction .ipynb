{
 "cells": [
  {
   "cell_type": "markdown",
   "metadata": {},
   "source": [
    "# Final Project - S&P500 Index Price Prediction\n",
    "\n",
    "**Submitted by -**: Mahlet Melese"
   ]
  },
  {
   "cell_type": "markdown",
   "metadata": {},
   "source": [
    "## Abstract\n",
    "\n",
    "This project aims to forcast whether the price will rise or fall tomorrow. Some individuals attempt to predict the exact price, but this approach has a significant flaw. While my model might excel at precisely estimating the price, it can still result in financial losses. This is because my primary concern, when engaging in stock trading, isn't achieving accuracy in the precise price, but rather in accurately determining the direction of movement whether the price will increase or decrease. Therefore, my aim is to ascertain whether, on days when the stock price rises, we can accurately anticipate this upward trend. This knowledge enables informed stock purchases, centered around predicting whether the stock will ascend or descend. For this project S&P500 stock dataset was downloaded using Yahoo Finance.Once I have the dataset I can tidied invalid data, dropped the duplicated data, use the insights from EDA and create feature selection on the dataset.\n",
    "\n",
    "\n",
    "In addressing this classification challenge, my efforts encompass the creation of six distinct prediction models. Additionally, an ensemble model, amalgamating Random Forest, Decision Tree,SVM and regression approaches, is devised. Evaluating the models across multiple metrics, including accuracy,precision and others, reveals that the VotingClassifier has comparble performance with other models.Moreove, I conducted backtesting as a crucial step to assess the algorithms' performance over several years of historical data.I introduced supplementary features into the dataset and to explore the algorithms comprehensively, I adjusted the prediction horizons and analyzed rolling means. The model, now enhanced with these new features, exhibits a notable 57% precision in predicting upward movements in stock prices during purchase instances.\n",
    "\n",
    "Additionally, financial markets are inherently noisy and subject to unpredictable events, making accurate prediction a challenging endeavor. Careful feature engineering, robust model evaluation, and continuous monitoring are crucial to building a reliable prediction model in this domain.Plus we need to regularly validate its accuracy against actual market movements and adjust the model as needed to improve its predictive capabilities."
   ]
  },
  {
   "cell_type": "markdown",
   "metadata": {},
   "source": [
    "## Introduction\n",
    "\n",
    "#### The project's domain background:\n",
    "Exploring the dynamic realm of the finance sector unveils the remarkable potential of machine learning. Extensively researched and well-documented, this arena entices us with substantial monetary rewards, motivating us to harness mathematical and statistical models to decode stock movement patterns. This pursuit grants us an advantageous edge, enabling us to anticipate market trends and outpace fellow traders. In the contemporary landscape, a multitude of trading brokers capitalize on high-frequency financial data and cutting-edge electronic trading tools, all underpinned by the principles of machine learning. These high-frequency traders epitomize speed, rapid turnovers, and formidable order-to-trade ratios, progressively supplanting conventional traders (Aldridge I., 2013). Remarkably, the bedrock of buy and sell indicators primarily rests on historical price and volume data, diverging from conventional company valuation methods.\n",
    "\n",
    "In light of my present limitations in comprehensively assessing a company's intrinsic worth and conducting stock valuations, I've discerned the realm of stock price prediction as an exceptionally fitting focus of study. Data acquisition from \"Yahoo! Finance\" underpins this endeavor. The typical structure of historical data for the S&P stock index from \"Yahoo! Finance\" encompasses Date, Open, High, Low, Close, Volume, Dividends, and Stock Splits. However, a close examination reveals that the volume feature is subject to loose recording, rendering it notably unreliable and impractical for rigorous analysis. The S&P500, an index gauging the stock performance of 500 major US-listed corporations, constitutes our focal point. I intend to construct a machine learning model that forecasts the forthcoming S&P500 price index using historical data, and subject this model to backtesting across over two decades of historical data. This extensive timeframe, spanning from 1990 to the present, ensures the project's analysis retains meaningful depth and validity, solidifying our confidence in the predictions it produces.\n",
    "\n",
    "#### Data Sources:\n",
    "\n",
    "To initiate the process, I begin by importing the 'yfinance' package, thereby summoning the 'yfinance' API for the acquisition of daily stock index prices. Subsequently, I proceed to instantiate the ticker class, a pivotal component facilitating the retrieval of historical price data for a specific symbol. For the scope of this project, the symbol of choice is 'GSPC,' synonymous with the S&P 500 index.\n",
    "\n",
    "MY trajectory continues as I invoke the 'history' method, designating the 'period' parameter as 'maximum.' This strategic selection compels the query to encompass data from the inception of the index, ultimately furnishing us with a structured pandas data frame. Each entry within this data frame corresponds to the price on a singular trading day, effectively excluding non-trading days. The columns of this data frame bear significance, denoting the opening price at market commencement, the zenith and nadir of prices throughout the day, the closing price at market closure, and the aggregate volume traded during the day.\n",
    "\n",
    "Central to my endeavor is the utilization of these columns in prognosticating the future directional movement of stock prices – whether they ascend or descend. Notably, the data frame encompasses supplementary columns named 'Dividends' and 'Stock Splits.' It is important to elucidate that these particular columns are not integrated into the analysis. Their pertinence is more pronounced within the context of individual stocks, rather than in the domain of index price forecasting."
   ]
  },
  {
   "cell_type": "markdown",
   "metadata": {},
   "source": [
    "## Data Preparation & Exploratory Data Analysis (EDA):"
   ]
  },
  {
   "cell_type": "markdown",
   "metadata": {},
   "source": [
    "### Import Libraries"
   ]
  },
  {
   "cell_type": "code",
   "execution_count": 356,
   "metadata": {},
   "outputs": [],
   "source": [
    "#Import Dependencies\n",
    "import yfinance as yf\n",
    "import pandas as pd\n",
    "import numpy as np\n",
    "\n",
    "from sklearn.ensemble import RandomForestClassifier\n",
    "from sklearn.tree import DecisionTreeClassifier\n",
    "from sklearn.svm import SVC\n",
    "from sklearn.preprocessing import MinMaxScaler\n",
    "from sklearn.linear_model import LogisticRegression\n",
    "\n",
    "\n",
    "from sklearn.model_selection import train_test_split\n",
    "from sklearn import neighbors, preprocessing, metrics\n",
    "from sklearn.preprocessing import StandardScaler\n",
    "from sklearn.metrics import confusion_matrix,accuracy_score, f1_score, classification_report, precision_score,recall_score\n",
    "import xgboost as xgb\n",
    "\n",
    "# grid search\n",
    "from sklearn.model_selection import GridSearchCV\n",
    "from sklearn.neighbors import KNeighborsClassifier\n",
    "from sklearn.ensemble import VotingClassifier\n",
    "\n",
    "%matplotlib inline\n",
    "import matplotlib.pyplot as plt\n",
    "import seaborn as sns\n",
    "import os\n",
    "import tarfile\n",
    "\n",
    "from pptx import Presentation \n",
    "from pptx.util import Inches\n",
    "from pptx.util import Pt\n",
    "import pptx\n",
    "from pptx.enum.text import PP_ALIGN\n",
    "from io import StringIO\n",
    "\n",
    "#This ingores depreciation warnings, which will make the code more readable\n",
    "import warnings \n",
    "warnings.filterwarnings(\"ignore\", category=FutureWarning)"
   ]
  },
  {
   "cell_type": "markdown",
   "metadata": {},
   "source": [
    "#### Downloading S&P500 index price dataset"
   ]
  },
  {
   "cell_type": "code",
   "execution_count": 358,
   "metadata": {},
   "outputs": [
    {
     "data": {
      "text/html": [
       "<div>\n",
       "<style scoped>\n",
       "    .dataframe tbody tr th:only-of-type {\n",
       "        vertical-align: middle;\n",
       "    }\n",
       "\n",
       "    .dataframe tbody tr th {\n",
       "        vertical-align: top;\n",
       "    }\n",
       "\n",
       "    .dataframe thead th {\n",
       "        text-align: right;\n",
       "    }\n",
       "</style>\n",
       "<table border=\"1\" class=\"dataframe\">\n",
       "  <thead>\n",
       "    <tr style=\"text-align: right;\">\n",
       "      <th></th>\n",
       "      <th>Open</th>\n",
       "      <th>High</th>\n",
       "      <th>Low</th>\n",
       "      <th>Close</th>\n",
       "      <th>Volume</th>\n",
       "      <th>Dividends</th>\n",
       "      <th>Stock Splits</th>\n",
       "    </tr>\n",
       "    <tr>\n",
       "      <th>Date</th>\n",
       "      <th></th>\n",
       "      <th></th>\n",
       "      <th></th>\n",
       "      <th></th>\n",
       "      <th></th>\n",
       "      <th></th>\n",
       "      <th></th>\n",
       "    </tr>\n",
       "  </thead>\n",
       "  <tbody>\n",
       "    <tr>\n",
       "      <th>1927-12-30 00:00:00-05:00</th>\n",
       "      <td>17.660000</td>\n",
       "      <td>17.660000</td>\n",
       "      <td>17.660000</td>\n",
       "      <td>17.660000</td>\n",
       "      <td>0</td>\n",
       "      <td>0.0</td>\n",
       "      <td>0.0</td>\n",
       "    </tr>\n",
       "    <tr>\n",
       "      <th>1928-01-03 00:00:00-05:00</th>\n",
       "      <td>17.760000</td>\n",
       "      <td>17.760000</td>\n",
       "      <td>17.760000</td>\n",
       "      <td>17.760000</td>\n",
       "      <td>0</td>\n",
       "      <td>0.0</td>\n",
       "      <td>0.0</td>\n",
       "    </tr>\n",
       "    <tr>\n",
       "      <th>1928-01-04 00:00:00-05:00</th>\n",
       "      <td>17.719999</td>\n",
       "      <td>17.719999</td>\n",
       "      <td>17.719999</td>\n",
       "      <td>17.719999</td>\n",
       "      <td>0</td>\n",
       "      <td>0.0</td>\n",
       "      <td>0.0</td>\n",
       "    </tr>\n",
       "    <tr>\n",
       "      <th>1928-01-05 00:00:00-05:00</th>\n",
       "      <td>17.549999</td>\n",
       "      <td>17.549999</td>\n",
       "      <td>17.549999</td>\n",
       "      <td>17.549999</td>\n",
       "      <td>0</td>\n",
       "      <td>0.0</td>\n",
       "      <td>0.0</td>\n",
       "    </tr>\n",
       "    <tr>\n",
       "      <th>1928-01-06 00:00:00-05:00</th>\n",
       "      <td>17.660000</td>\n",
       "      <td>17.660000</td>\n",
       "      <td>17.660000</td>\n",
       "      <td>17.660000</td>\n",
       "      <td>0</td>\n",
       "      <td>0.0</td>\n",
       "      <td>0.0</td>\n",
       "    </tr>\n",
       "    <tr>\n",
       "      <th>1928-01-09 00:00:00-05:00</th>\n",
       "      <td>17.500000</td>\n",
       "      <td>17.500000</td>\n",
       "      <td>17.500000</td>\n",
       "      <td>17.500000</td>\n",
       "      <td>0</td>\n",
       "      <td>0.0</td>\n",
       "      <td>0.0</td>\n",
       "    </tr>\n",
       "    <tr>\n",
       "      <th>1928-01-10 00:00:00-05:00</th>\n",
       "      <td>17.370001</td>\n",
       "      <td>17.370001</td>\n",
       "      <td>17.370001</td>\n",
       "      <td>17.370001</td>\n",
       "      <td>0</td>\n",
       "      <td>0.0</td>\n",
       "      <td>0.0</td>\n",
       "    </tr>\n",
       "    <tr>\n",
       "      <th>1928-01-11 00:00:00-05:00</th>\n",
       "      <td>17.350000</td>\n",
       "      <td>17.350000</td>\n",
       "      <td>17.350000</td>\n",
       "      <td>17.350000</td>\n",
       "      <td>0</td>\n",
       "      <td>0.0</td>\n",
       "      <td>0.0</td>\n",
       "    </tr>\n",
       "    <tr>\n",
       "      <th>1928-01-12 00:00:00-05:00</th>\n",
       "      <td>17.469999</td>\n",
       "      <td>17.469999</td>\n",
       "      <td>17.469999</td>\n",
       "      <td>17.469999</td>\n",
       "      <td>0</td>\n",
       "      <td>0.0</td>\n",
       "      <td>0.0</td>\n",
       "    </tr>\n",
       "    <tr>\n",
       "      <th>1928-01-13 00:00:00-05:00</th>\n",
       "      <td>17.580000</td>\n",
       "      <td>17.580000</td>\n",
       "      <td>17.580000</td>\n",
       "      <td>17.580000</td>\n",
       "      <td>0</td>\n",
       "      <td>0.0</td>\n",
       "      <td>0.0</td>\n",
       "    </tr>\n",
       "  </tbody>\n",
       "</table>\n",
       "</div>"
      ],
      "text/plain": [
       "                                Open       High        Low      Close  Volume  \\\n",
       "Date                                                                            \n",
       "1927-12-30 00:00:00-05:00  17.660000  17.660000  17.660000  17.660000       0   \n",
       "1928-01-03 00:00:00-05:00  17.760000  17.760000  17.760000  17.760000       0   \n",
       "1928-01-04 00:00:00-05:00  17.719999  17.719999  17.719999  17.719999       0   \n",
       "1928-01-05 00:00:00-05:00  17.549999  17.549999  17.549999  17.549999       0   \n",
       "1928-01-06 00:00:00-05:00  17.660000  17.660000  17.660000  17.660000       0   \n",
       "1928-01-09 00:00:00-05:00  17.500000  17.500000  17.500000  17.500000       0   \n",
       "1928-01-10 00:00:00-05:00  17.370001  17.370001  17.370001  17.370001       0   \n",
       "1928-01-11 00:00:00-05:00  17.350000  17.350000  17.350000  17.350000       0   \n",
       "1928-01-12 00:00:00-05:00  17.469999  17.469999  17.469999  17.469999       0   \n",
       "1928-01-13 00:00:00-05:00  17.580000  17.580000  17.580000  17.580000       0   \n",
       "\n",
       "                           Dividends  Stock Splits  \n",
       "Date                                                \n",
       "1927-12-30 00:00:00-05:00        0.0           0.0  \n",
       "1928-01-03 00:00:00-05:00        0.0           0.0  \n",
       "1928-01-04 00:00:00-05:00        0.0           0.0  \n",
       "1928-01-05 00:00:00-05:00        0.0           0.0  \n",
       "1928-01-06 00:00:00-05:00        0.0           0.0  \n",
       "1928-01-09 00:00:00-05:00        0.0           0.0  \n",
       "1928-01-10 00:00:00-05:00        0.0           0.0  \n",
       "1928-01-11 00:00:00-05:00        0.0           0.0  \n",
       "1928-01-12 00:00:00-05:00        0.0           0.0  \n",
       "1928-01-13 00:00:00-05:00        0.0           0.0  "
      ]
     },
     "execution_count": 358,
     "metadata": {},
     "output_type": "execute_result"
    }
   ],
   "source": [
    "# Fetch historical data for S&P500 from Yahoo Finance\n",
    "sp500=yf.Ticker(\"^GSPC\")\n",
    "sp500= sp500.history(period=\"max\")\n",
    "\n",
    "fig.savefig('u7.png') # saving image so we can use in ppt\n",
    "\n",
    "# Display the Dataset \n",
    "sp500.head(10)\n",
    "\n",
    "\n",
    "\n"
   ]
  },
  {
   "cell_type": "markdown",
   "metadata": {},
   "source": [
    "This is the first 10 rows of the dataset using the head method.Here, we can have a first look at the features and some of the values that each one takes."
   ]
  },
  {
   "cell_type": "markdown",
   "metadata": {},
   "source": [
    "#### Description for 7 Attribute \n",
    "| Columns| Description |\n",
    "|:------:|-|\n",
    "| INDEX |  Unique ID | \n",
    "| Date | The date of the record | \n",
    "| Open | The opening price of the day (when trading starts| \n",
    "|High| The highest trade price during the day|\n",
    "|Low| The lowest trade price during the day|\n",
    "|Close|The closing price for the day (when trading is finished)|\n",
    "|Volume| The number of shares traded|"
   ]
  },
  {
   "cell_type": "markdown",
   "metadata": {},
   "source": [
    " **Check the dataset shape**\n",
    "\n",
    "Knowing the amount of data we have is very important, because the quality of our analysis is depend on that."
   ]
  },
  {
   "cell_type": "code",
   "execution_count": 175,
   "metadata": {},
   "outputs": [
    {
     "data": {
      "text/plain": [
       "(24014, 7)"
      ]
     },
     "execution_count": 175,
     "metadata": {},
     "output_type": "execute_result"
    }
   ],
   "source": [
    "# check the result\n",
    "sp500.shape"
   ]
  },
  {
   "cell_type": "markdown",
   "metadata": {},
   "source": [
    "#### Check the datetime index\n",
    "\n",
    "The index column enable us to index and slice the dataframe easly."
   ]
  },
  {
   "cell_type": "code",
   "execution_count": 176,
   "metadata": {},
   "outputs": [
    {
     "data": {
      "text/plain": [
       "DatetimeIndex(['1927-12-30 00:00:00-05:00', '1928-01-03 00:00:00-05:00',\n",
       "               '1928-01-04 00:00:00-05:00', '1928-01-05 00:00:00-05:00',\n",
       "               '1928-01-06 00:00:00-05:00', '1928-01-09 00:00:00-05:00',\n",
       "               '1928-01-10 00:00:00-05:00', '1928-01-11 00:00:00-05:00',\n",
       "               '1928-01-12 00:00:00-05:00', '1928-01-13 00:00:00-05:00',\n",
       "               ...\n",
       "               '2023-07-25 00:00:00-04:00', '2023-07-26 00:00:00-04:00',\n",
       "               '2023-07-27 00:00:00-04:00', '2023-07-28 00:00:00-04:00',\n",
       "               '2023-07-31 00:00:00-04:00', '2023-08-01 00:00:00-04:00',\n",
       "               '2023-08-02 00:00:00-04:00', '2023-08-03 00:00:00-04:00',\n",
       "               '2023-08-04 00:00:00-04:00', '2023-08-07 00:00:00-04:00'],\n",
       "              dtype='datetime64[ns, America/New_York]', name='Date', length=24014, freq=None)"
      ]
     },
     "execution_count": 176,
     "metadata": {},
     "output_type": "execute_result"
    }
   ],
   "source": [
    "# check the s&p500 index\n",
    "sp500.index"
   ]
  },
  {
   "cell_type": "markdown",
   "metadata": {},
   "source": [
    " **Check data type of all columns**\n",
    "\n",
    "Pandas.info method helps us to display the data types of all columns as a series."
   ]
  },
  {
   "cell_type": "code",
   "execution_count": 177,
   "metadata": {},
   "outputs": [
    {
     "name": "stdout",
     "output_type": "stream",
     "text": [
      "<class 'pandas.core.frame.DataFrame'>\n",
      "DatetimeIndex: 24014 entries, 1927-12-30 00:00:00-05:00 to 2023-08-07 00:00:00-04:00\n",
      "Data columns (total 7 columns):\n",
      " #   Column        Non-Null Count  Dtype  \n",
      "---  ------        --------------  -----  \n",
      " 0   Open          24014 non-null  float64\n",
      " 1   High          24014 non-null  float64\n",
      " 2   Low           24014 non-null  float64\n",
      " 3   Close         24014 non-null  float64\n",
      " 4   Volume        24014 non-null  int64  \n",
      " 5   Dividends     24014 non-null  float64\n",
      " 6   Stock Splits  24014 non-null  float64\n",
      "dtypes: float64(6), int64(1)\n",
      "memory usage: 1.5 MB\n"
     ]
    }
   ],
   "source": [
    "# Check the data types\n",
    "sp500.info() \n"
   ]
  },
  {
   "cell_type": "markdown",
   "metadata": {},
   "source": [
    "####  Let's check if there is a missing value\n",
    "I checked null values which is a fundamental part of data cleaning."
   ]
  },
  {
   "cell_type": "code",
   "execution_count": 178,
   "metadata": {},
   "outputs": [
    {
     "data": {
      "text/plain": [
       "Open            0\n",
       "High            0\n",
       "Low             0\n",
       "Close           0\n",
       "Volume          0\n",
       "Dividends       0\n",
       "Stock Splits    0\n",
       "dtype: int64"
      ]
     },
     "execution_count": 178,
     "metadata": {},
     "output_type": "execute_result"
    }
   ],
   "source": [
    "# recommended code \n",
    "sp500.isnull().sum()"
   ]
  },
  {
   "cell_type": "markdown",
   "metadata": {},
   "source": [
    "Sanity check, that there are indeed no null values in the dataset"
   ]
  },
  {
   "cell_type": "markdown",
   "metadata": {},
   "source": [
    "#### Check duplicate value in the dataframe"
   ]
  },
  {
   "cell_type": "code",
   "execution_count": 179,
   "metadata": {},
   "outputs": [
    {
     "data": {
      "text/plain": [
       "False    20158\n",
       "True      3856\n",
       "Name: count, dtype: int64"
      ]
     },
     "execution_count": 179,
     "metadata": {},
     "output_type": "execute_result"
    }
   ],
   "source": [
    "# use duplicated function\n",
    "sp500_dup = sp500.duplicated()\n",
    "\n",
    "# check the result\n",
    "sp500_dup.value_counts()"
   ]
  },
  {
   "cell_type": "markdown",
   "metadata": {},
   "source": [
    "#### Plot the closing price aginst the index\n"
   ]
  },
  {
   "cell_type": "code",
   "execution_count": 359,
   "metadata": {},
   "outputs": [
    {
     "data": {
      "image/png": "[encoded data removed]",
      "text/plain": [
       "<Figure size 432x288 with 1 Axes>"
      ]
     },
     "metadata": {
      "needs_background": "light"
     },
     "output_type": "display_data"
    }
   ],
   "source": [
    "# plot closing price vs index\n",
    "\n",
    "sp500.plot.line(y=\"Close\",use_index=True)\n",
    "\n",
    "fig.savefig('w5.png')\n"
   ]
  },
  {
   "cell_type": "markdown",
   "metadata": {},
   "source": [
    "The depicted graph illustrates the historical price movement of the S&P 500 index. Observing this graph, it becomes evident that we might deeply lament our decision to not invest in the index fund at any moment during the recent years."
   ]
  },
  {
   "cell_type": "markdown",
   "metadata": {},
   "source": [
    "### Dataset preparation"
   ]
  },
  {
   "cell_type": "markdown",
   "metadata": {},
   "source": [
    "This data frame contains a significant amount of historical data, which is generally beneficial. However, when dealing with stock market data, an excessive historical range could lead to fundamental shifts in the market by rendering some outdated data irrelevant for future predictions. Therefore, I intend to eliminate all entries before 1990-01-01. Additionally, I will exclude the Dividends and Stock Splits columns from the data frame."
   ]
  },
  {
   "cell_type": "code",
   "execution_count": 360,
   "metadata": {},
   "outputs": [],
   "source": [
    "# remove extra columns\n",
    "del sp500[\"Dividends\"]\n",
    "del sp500[\"Stock Splits\"]"
   ]
  },
  {
   "cell_type": "code",
   "execution_count": 361,
   "metadata": {},
   "outputs": [],
   "source": [
    "# remove data before 1990-01-01\n",
    "# use panda's loc method\n",
    "# only take rows where the index is at least 1990-01-01\n",
    "df = sp500.loc[\"1990-01-01\":].copy()"
   ]
  },
  {
   "cell_type": "code",
   "execution_count": 362,
   "metadata": {},
   "outputs": [
    {
     "data": {
      "text/html": [
       "<div>\n",
       "<style scoped>\n",
       "    .dataframe tbody tr th:only-of-type {\n",
       "        vertical-align: middle;\n",
       "    }\n",
       "\n",
       "    .dataframe tbody tr th {\n",
       "        vertical-align: top;\n",
       "    }\n",
       "\n",
       "    .dataframe thead th {\n",
       "        text-align: right;\n",
       "    }\n",
       "</style>\n",
       "<table border=\"1\" class=\"dataframe\">\n",
       "  <thead>\n",
       "    <tr style=\"text-align: right;\">\n",
       "      <th></th>\n",
       "      <th>Open</th>\n",
       "      <th>High</th>\n",
       "      <th>Low</th>\n",
       "      <th>Close</th>\n",
       "      <th>Volume</th>\n",
       "      <th>Tomorrow</th>\n",
       "    </tr>\n",
       "    <tr>\n",
       "      <th>Date</th>\n",
       "      <th></th>\n",
       "      <th></th>\n",
       "      <th></th>\n",
       "      <th></th>\n",
       "      <th></th>\n",
       "      <th></th>\n",
       "    </tr>\n",
       "  </thead>\n",
       "  <tbody>\n",
       "    <tr>\n",
       "      <th>1990-01-02 00:00:00-05:00</th>\n",
       "      <td>353.399994</td>\n",
       "      <td>359.690002</td>\n",
       "      <td>351.980011</td>\n",
       "      <td>359.690002</td>\n",
       "      <td>162070000</td>\n",
       "      <td>358.760010</td>\n",
       "    </tr>\n",
       "    <tr>\n",
       "      <th>1990-01-03 00:00:00-05:00</th>\n",
       "      <td>359.690002</td>\n",
       "      <td>360.589996</td>\n",
       "      <td>357.890015</td>\n",
       "      <td>358.760010</td>\n",
       "      <td>192330000</td>\n",
       "      <td>355.670013</td>\n",
       "    </tr>\n",
       "    <tr>\n",
       "      <th>1990-01-04 00:00:00-05:00</th>\n",
       "      <td>358.760010</td>\n",
       "      <td>358.760010</td>\n",
       "      <td>352.890015</td>\n",
       "      <td>355.670013</td>\n",
       "      <td>177000000</td>\n",
       "      <td>352.200012</td>\n",
       "    </tr>\n",
       "    <tr>\n",
       "      <th>1990-01-05 00:00:00-05:00</th>\n",
       "      <td>355.670013</td>\n",
       "      <td>355.670013</td>\n",
       "      <td>351.350006</td>\n",
       "      <td>352.200012</td>\n",
       "      <td>158530000</td>\n",
       "      <td>353.790009</td>\n",
       "    </tr>\n",
       "    <tr>\n",
       "      <th>1990-01-08 00:00:00-05:00</th>\n",
       "      <td>352.200012</td>\n",
       "      <td>354.239990</td>\n",
       "      <td>350.540009</td>\n",
       "      <td>353.790009</td>\n",
       "      <td>140110000</td>\n",
       "      <td>349.619995</td>\n",
       "    </tr>\n",
       "    <tr>\n",
       "      <th>...</th>\n",
       "      <td>...</td>\n",
       "      <td>...</td>\n",
       "      <td>...</td>\n",
       "      <td>...</td>\n",
       "      <td>...</td>\n",
       "      <td>...</td>\n",
       "    </tr>\n",
       "    <tr>\n",
       "      <th>2023-08-01 00:00:00-04:00</th>\n",
       "      <td>4578.830078</td>\n",
       "      <td>4584.620117</td>\n",
       "      <td>4567.529785</td>\n",
       "      <td>4576.729980</td>\n",
       "      <td>4042370000</td>\n",
       "      <td>4513.390137</td>\n",
       "    </tr>\n",
       "    <tr>\n",
       "      <th>2023-08-02 00:00:00-04:00</th>\n",
       "      <td>4550.930176</td>\n",
       "      <td>4550.930176</td>\n",
       "      <td>4505.750000</td>\n",
       "      <td>4513.390137</td>\n",
       "      <td>4270710000</td>\n",
       "      <td>4501.890137</td>\n",
       "    </tr>\n",
       "    <tr>\n",
       "      <th>2023-08-03 00:00:00-04:00</th>\n",
       "      <td>4494.270020</td>\n",
       "      <td>4519.490234</td>\n",
       "      <td>4485.540039</td>\n",
       "      <td>4501.890137</td>\n",
       "      <td>4149120000</td>\n",
       "      <td>4478.029785</td>\n",
       "    </tr>\n",
       "    <tr>\n",
       "      <th>2023-08-04 00:00:00-04:00</th>\n",
       "      <td>4513.959961</td>\n",
       "      <td>4540.339844</td>\n",
       "      <td>4474.549805</td>\n",
       "      <td>4478.029785</td>\n",
       "      <td>4143310000</td>\n",
       "      <td>4518.439941</td>\n",
       "    </tr>\n",
       "    <tr>\n",
       "      <th>2023-08-07 00:00:00-04:00</th>\n",
       "      <td>4491.580078</td>\n",
       "      <td>4519.839844</td>\n",
       "      <td>4491.149902</td>\n",
       "      <td>4518.439941</td>\n",
       "      <td>3493920000</td>\n",
       "      <td>NaN</td>\n",
       "    </tr>\n",
       "  </tbody>\n",
       "</table>\n",
       "<p>8464 rows × 6 columns</p>\n",
       "</div>"
      ],
      "text/plain": [
       "                                  Open         High          Low        Close  \\\n",
       "Date                                                                            \n",
       "1990-01-02 00:00:00-05:00   353.399994   359.690002   351.980011   359.690002   \n",
       "1990-01-03 00:00:00-05:00   359.690002   360.589996   357.890015   358.760010   \n",
       "1990-01-04 00:00:00-05:00   358.760010   358.760010   352.890015   355.670013   \n",
       "1990-01-05 00:00:00-05:00   355.670013   355.670013   351.350006   352.200012   \n",
       "1990-01-08 00:00:00-05:00   352.200012   354.239990   350.540009   353.790009   \n",
       "...                                ...          ...          ...          ...   \n",
       "2023-08-01 00:00:00-04:00  4578.830078  4584.620117  4567.529785  4576.729980   \n",
       "2023-08-02 00:00:00-04:00  4550.930176  4550.930176  4505.750000  4513.390137   \n",
       "2023-08-03 00:00:00-04:00  4494.270020  4519.490234  4485.540039  4501.890137   \n",
       "2023-08-04 00:00:00-04:00  4513.959961  4540.339844  4474.549805  4478.029785   \n",
       "2023-08-07 00:00:00-04:00  4491.580078  4519.839844  4491.149902  4518.439941   \n",
       "\n",
       "                               Volume     Tomorrow  \n",
       "Date                                                \n",
       "1990-01-02 00:00:00-05:00   162070000   358.760010  \n",
       "1990-01-03 00:00:00-05:00   192330000   355.670013  \n",
       "1990-01-04 00:00:00-05:00   177000000   352.200012  \n",
       "1990-01-05 00:00:00-05:00   158530000   353.790009  \n",
       "1990-01-08 00:00:00-05:00   140110000   349.619995  \n",
       "...                               ...          ...  \n",
       "2023-08-01 00:00:00-04:00  4042370000  4513.390137  \n",
       "2023-08-02 00:00:00-04:00  4270710000  4501.890137  \n",
       "2023-08-03 00:00:00-04:00  4149120000  4478.029785  \n",
       "2023-08-04 00:00:00-04:00  4143310000  4518.439941  \n",
       "2023-08-07 00:00:00-04:00  3493920000          NaN  \n",
       "\n",
       "[8464 rows x 6 columns]"
      ]
     },
     "execution_count": 362,
     "metadata": {},
     "output_type": "execute_result"
    }
   ],
   "source": [
    "# create column called tomorrow\n",
    "# the new column going to be tomorrow's price\n",
    "# use panda's shift method\n",
    "# use the close column and shift all the price back one day\n",
    "\n",
    "df[\"Tomorrow\"] = df[\"Close\"].shift(-1)\n",
    "\n",
    "# show the dataframe\n",
    "df"
   ]
  },
  {
   "cell_type": "markdown",
   "metadata": {},
   "source": [
    "#### Setting up the target for machine learning"
   ]
  },
  {
   "cell_type": "code",
   "execution_count": 363,
   "metadata": {},
   "outputs": [
    {
     "data": {
      "text/html": [
       "<div>\n",
       "<style scoped>\n",
       "    .dataframe tbody tr th:only-of-type {\n",
       "        vertical-align: middle;\n",
       "    }\n",
       "\n",
       "    .dataframe tbody tr th {\n",
       "        vertical-align: top;\n",
       "    }\n",
       "\n",
       "    .dataframe thead th {\n",
       "        text-align: right;\n",
       "    }\n",
       "</style>\n",
       "<table border=\"1\" class=\"dataframe\">\n",
       "  <thead>\n",
       "    <tr style=\"text-align: right;\">\n",
       "      <th></th>\n",
       "      <th>Open</th>\n",
       "      <th>High</th>\n",
       "      <th>Low</th>\n",
       "      <th>Close</th>\n",
       "      <th>Volume</th>\n",
       "      <th>Tomorrow</th>\n",
       "      <th>Target</th>\n",
       "    </tr>\n",
       "    <tr>\n",
       "      <th>Date</th>\n",
       "      <th></th>\n",
       "      <th></th>\n",
       "      <th></th>\n",
       "      <th></th>\n",
       "      <th></th>\n",
       "      <th></th>\n",
       "      <th></th>\n",
       "    </tr>\n",
       "  </thead>\n",
       "  <tbody>\n",
       "    <tr>\n",
       "      <th>1990-01-02 00:00:00-05:00</th>\n",
       "      <td>353.399994</td>\n",
       "      <td>359.690002</td>\n",
       "      <td>351.980011</td>\n",
       "      <td>359.690002</td>\n",
       "      <td>162070000</td>\n",
       "      <td>358.760010</td>\n",
       "      <td>0</td>\n",
       "    </tr>\n",
       "    <tr>\n",
       "      <th>1990-01-03 00:00:00-05:00</th>\n",
       "      <td>359.690002</td>\n",
       "      <td>360.589996</td>\n",
       "      <td>357.890015</td>\n",
       "      <td>358.760010</td>\n",
       "      <td>192330000</td>\n",
       "      <td>355.670013</td>\n",
       "      <td>0</td>\n",
       "    </tr>\n",
       "    <tr>\n",
       "      <th>1990-01-04 00:00:00-05:00</th>\n",
       "      <td>358.760010</td>\n",
       "      <td>358.760010</td>\n",
       "      <td>352.890015</td>\n",
       "      <td>355.670013</td>\n",
       "      <td>177000000</td>\n",
       "      <td>352.200012</td>\n",
       "      <td>0</td>\n",
       "    </tr>\n",
       "    <tr>\n",
       "      <th>1990-01-05 00:00:00-05:00</th>\n",
       "      <td>355.670013</td>\n",
       "      <td>355.670013</td>\n",
       "      <td>351.350006</td>\n",
       "      <td>352.200012</td>\n",
       "      <td>158530000</td>\n",
       "      <td>353.790009</td>\n",
       "      <td>1</td>\n",
       "    </tr>\n",
       "    <tr>\n",
       "      <th>1990-01-08 00:00:00-05:00</th>\n",
       "      <td>352.200012</td>\n",
       "      <td>354.239990</td>\n",
       "      <td>350.540009</td>\n",
       "      <td>353.790009</td>\n",
       "      <td>140110000</td>\n",
       "      <td>349.619995</td>\n",
       "      <td>0</td>\n",
       "    </tr>\n",
       "    <tr>\n",
       "      <th>...</th>\n",
       "      <td>...</td>\n",
       "      <td>...</td>\n",
       "      <td>...</td>\n",
       "      <td>...</td>\n",
       "      <td>...</td>\n",
       "      <td>...</td>\n",
       "      <td>...</td>\n",
       "    </tr>\n",
       "    <tr>\n",
       "      <th>2023-08-01 00:00:00-04:00</th>\n",
       "      <td>4578.830078</td>\n",
       "      <td>4584.620117</td>\n",
       "      <td>4567.529785</td>\n",
       "      <td>4576.729980</td>\n",
       "      <td>4042370000</td>\n",
       "      <td>4513.390137</td>\n",
       "      <td>0</td>\n",
       "    </tr>\n",
       "    <tr>\n",
       "      <th>2023-08-02 00:00:00-04:00</th>\n",
       "      <td>4550.930176</td>\n",
       "      <td>4550.930176</td>\n",
       "      <td>4505.750000</td>\n",
       "      <td>4513.390137</td>\n",
       "      <td>4270710000</td>\n",
       "      <td>4501.890137</td>\n",
       "      <td>0</td>\n",
       "    </tr>\n",
       "    <tr>\n",
       "      <th>2023-08-03 00:00:00-04:00</th>\n",
       "      <td>4494.270020</td>\n",
       "      <td>4519.490234</td>\n",
       "      <td>4485.540039</td>\n",
       "      <td>4501.890137</td>\n",
       "      <td>4149120000</td>\n",
       "      <td>4478.029785</td>\n",
       "      <td>0</td>\n",
       "    </tr>\n",
       "    <tr>\n",
       "      <th>2023-08-04 00:00:00-04:00</th>\n",
       "      <td>4513.959961</td>\n",
       "      <td>4540.339844</td>\n",
       "      <td>4474.549805</td>\n",
       "      <td>4478.029785</td>\n",
       "      <td>4143310000</td>\n",
       "      <td>4518.439941</td>\n",
       "      <td>1</td>\n",
       "    </tr>\n",
       "    <tr>\n",
       "      <th>2023-08-07 00:00:00-04:00</th>\n",
       "      <td>4491.580078</td>\n",
       "      <td>4519.839844</td>\n",
       "      <td>4491.149902</td>\n",
       "      <td>4518.439941</td>\n",
       "      <td>3493920000</td>\n",
       "      <td>NaN</td>\n",
       "      <td>0</td>\n",
       "    </tr>\n",
       "  </tbody>\n",
       "</table>\n",
       "<p>8464 rows × 7 columns</p>\n",
       "</div>"
      ],
      "text/plain": [
       "                                  Open         High          Low        Close  \\\n",
       "Date                                                                            \n",
       "1990-01-02 00:00:00-05:00   353.399994   359.690002   351.980011   359.690002   \n",
       "1990-01-03 00:00:00-05:00   359.690002   360.589996   357.890015   358.760010   \n",
       "1990-01-04 00:00:00-05:00   358.760010   358.760010   352.890015   355.670013   \n",
       "1990-01-05 00:00:00-05:00   355.670013   355.670013   351.350006   352.200012   \n",
       "1990-01-08 00:00:00-05:00   352.200012   354.239990   350.540009   353.790009   \n",
       "...                                ...          ...          ...          ...   \n",
       "2023-08-01 00:00:00-04:00  4578.830078  4584.620117  4567.529785  4576.729980   \n",
       "2023-08-02 00:00:00-04:00  4550.930176  4550.930176  4505.750000  4513.390137   \n",
       "2023-08-03 00:00:00-04:00  4494.270020  4519.490234  4485.540039  4501.890137   \n",
       "2023-08-04 00:00:00-04:00  4513.959961  4540.339844  4474.549805  4478.029785   \n",
       "2023-08-07 00:00:00-04:00  4491.580078  4519.839844  4491.149902  4518.439941   \n",
       "\n",
       "                               Volume     Tomorrow  Target  \n",
       "Date                                                        \n",
       "1990-01-02 00:00:00-05:00   162070000   358.760010       0  \n",
       "1990-01-03 00:00:00-05:00   192330000   355.670013       0  \n",
       "1990-01-04 00:00:00-05:00   177000000   352.200012       0  \n",
       "1990-01-05 00:00:00-05:00   158530000   353.790009       1  \n",
       "1990-01-08 00:00:00-05:00   140110000   349.619995       0  \n",
       "...                               ...          ...     ...  \n",
       "2023-08-01 00:00:00-04:00  4042370000  4513.390137       0  \n",
       "2023-08-02 00:00:00-04:00  4270710000  4501.890137       0  \n",
       "2023-08-03 00:00:00-04:00  4149120000  4478.029785       0  \n",
       "2023-08-04 00:00:00-04:00  4143310000  4518.439941       1  \n",
       "2023-08-07 00:00:00-04:00  3493920000          NaN       0  \n",
       "\n",
       "[8464 rows x 7 columns]"
      ]
     },
     "execution_count": 363,
     "metadata": {},
     "output_type": "execute_result"
    }
   ],
   "source": [
    "# set up the target, this is what I am trying to predict using machine learning\n",
    "# based on tomorrow's price set up the target price\n",
    "# the target: is tomorrow's price grater than tody's price\n",
    "\n",
    "df[\"Target\"] = (df[\"Tomorrow\"] > df[\"Close\"]).astype(int)\n",
    "\n",
    "fig.savefig('x6.png')\n",
    "\n",
    "# show the dataframe\n",
    "df"
   ]
  },
  {
   "cell_type": "markdown",
   "metadata": {},
   "source": [
    "#### Check duplicates after data preparation"
   ]
  },
  {
   "cell_type": "code",
   "execution_count": 185,
   "metadata": {},
   "outputs": [
    {
     "data": {
      "text/plain": [
       "False    8464\n",
       "Name: count, dtype: int64"
      ]
     },
     "execution_count": 185,
     "metadata": {},
     "output_type": "execute_result"
    }
   ],
   "source": [
    "# use duplicated function\n",
    "sp500_dup = df.duplicated()\n",
    "\n",
    "# check the result\n",
    "sp500_dup.value_counts()"
   ]
  },
  {
   "cell_type": "code",
   "execution_count": 391,
   "metadata": {},
   "outputs": [
    {
     "data": {
      "text/html": [
       "<div>\n",
       "<style scoped>\n",
       "    .dataframe tbody tr th:only-of-type {\n",
       "        vertical-align: middle;\n",
       "    }\n",
       "\n",
       "    .dataframe tbody tr th {\n",
       "        vertical-align: top;\n",
       "    }\n",
       "\n",
       "    .dataframe thead th {\n",
       "        text-align: right;\n",
       "    }\n",
       "</style>\n",
       "<table border=\"1\" class=\"dataframe\">\n",
       "  <thead>\n",
       "    <tr style=\"text-align: right;\">\n",
       "      <th></th>\n",
       "      <th>Open</th>\n",
       "      <th>High</th>\n",
       "      <th>Low</th>\n",
       "      <th>Close</th>\n",
       "      <th>Volume</th>\n",
       "      <th>Tomorrow</th>\n",
       "      <th>Target</th>\n",
       "    </tr>\n",
       "  </thead>\n",
       "  <tbody>\n",
       "    <tr>\n",
       "      <th>count</th>\n",
       "      <td>8464.000000</td>\n",
       "      <td>8464.000000</td>\n",
       "      <td>8464.000000</td>\n",
       "      <td>8464.000000</td>\n",
       "      <td>8.464000e+03</td>\n",
       "      <td>8463.000000</td>\n",
       "      <td>8464.000000</td>\n",
       "    </tr>\n",
       "    <tr>\n",
       "      <th>mean</th>\n",
       "      <td>1549.380992</td>\n",
       "      <td>1558.619139</td>\n",
       "      <td>1539.516719</td>\n",
       "      <td>1549.703504</td>\n",
       "      <td>2.442738e+09</td>\n",
       "      <td>1549.844118</td>\n",
       "      <td>0.534381</td>\n",
       "    </tr>\n",
       "    <tr>\n",
       "      <th>std</th>\n",
       "      <td>1049.481466</td>\n",
       "      <td>1055.270833</td>\n",
       "      <td>1043.323820</td>\n",
       "      <td>1049.640699</td>\n",
       "      <td>1.852465e+09</td>\n",
       "      <td>1049.622992</td>\n",
       "      <td>0.498846</td>\n",
       "    </tr>\n",
       "    <tr>\n",
       "      <th>min</th>\n",
       "      <td>295.450012</td>\n",
       "      <td>301.450012</td>\n",
       "      <td>294.510010</td>\n",
       "      <td>295.459991</td>\n",
       "      <td>1.499000e+07</td>\n",
       "      <td>295.459991</td>\n",
       "      <td>0.000000</td>\n",
       "    </tr>\n",
       "    <tr>\n",
       "      <th>25%</th>\n",
       "      <td>889.772491</td>\n",
       "      <td>898.927521</td>\n",
       "      <td>878.932495</td>\n",
       "      <td>890.072479</td>\n",
       "      <td>6.260725e+08</td>\n",
       "      <td>890.194977</td>\n",
       "      <td>0.000000</td>\n",
       "    </tr>\n",
       "    <tr>\n",
       "      <th>50%</th>\n",
       "      <td>1261.940002</td>\n",
       "      <td>1269.885010</td>\n",
       "      <td>1254.184998</td>\n",
       "      <td>1261.940002</td>\n",
       "      <td>2.422605e+09</td>\n",
       "      <td>1261.989990</td>\n",
       "      <td>1.000000</td>\n",
       "    </tr>\n",
       "    <tr>\n",
       "      <th>75%</th>\n",
       "      <td>2010.630005</td>\n",
       "      <td>2020.982483</td>\n",
       "      <td>1995.749969</td>\n",
       "      <td>2011.292511</td>\n",
       "      <td>3.823648e+09</td>\n",
       "      <td>2011.315002</td>\n",
       "      <td>1.000000</td>\n",
       "    </tr>\n",
       "    <tr>\n",
       "      <th>max</th>\n",
       "      <td>4804.509766</td>\n",
       "      <td>4818.620117</td>\n",
       "      <td>4780.040039</td>\n",
       "      <td>4796.560059</td>\n",
       "      <td>1.145623e+10</td>\n",
       "      <td>4796.560059</td>\n",
       "      <td>1.000000</td>\n",
       "    </tr>\n",
       "  </tbody>\n",
       "</table>\n",
       "</div>"
      ],
      "text/plain": [
       "              Open         High          Low        Close        Volume  \\\n",
       "count  8464.000000  8464.000000  8464.000000  8464.000000  8.464000e+03   \n",
       "mean   1549.380992  1558.619139  1539.516719  1549.703504  2.442738e+09   \n",
       "std    1049.481466  1055.270833  1043.323820  1049.640699  1.852465e+09   \n",
       "min     295.450012   301.450012   294.510010   295.459991  1.499000e+07   \n",
       "25%     889.772491   898.927521   878.932495   890.072479  6.260725e+08   \n",
       "50%    1261.940002  1269.885010  1254.184998  1261.940002  2.422605e+09   \n",
       "75%    2010.630005  2020.982483  1995.749969  2011.292511  3.823648e+09   \n",
       "max    4804.509766  4818.620117  4780.040039  4796.560059  1.145623e+10   \n",
       "\n",
       "          Tomorrow       Target  \n",
       "count  8463.000000  8464.000000  \n",
       "mean   1549.844118     0.534381  \n",
       "std    1049.622992     0.498846  \n",
       "min     295.459991     0.000000  \n",
       "25%     890.194977     0.000000  \n",
       "50%    1261.989990     1.000000  \n",
       "75%    2011.315002     1.000000  \n",
       "max    4796.560059     1.000000  "
      ]
     },
     "execution_count": 391,
     "metadata": {},
     "output_type": "execute_result"
    }
   ],
   "source": [
    "# Brief Description of our dataset\n",
    "fig.savefig('y2.png')\n",
    "\n",
    "df.describe()\n",
    "\n"
   ]
  },
  {
   "cell_type": "markdown",
   "metadata": {},
   "source": [
    "#### Distribution of the dataset using histogram"
   ]
  },
  {
   "cell_type": "code",
   "execution_count": 365,
   "metadata": {},
   "outputs": [
    {
     "data": {
      "image/png": "[encoded data removed]",
      "text/plain": [
       "<Figure size 720x432 with 6 Axes>"
      ]
     },
     "metadata": {
      "needs_background": "light"
     },
     "output_type": "display_data"
    }
   ],
   "source": [
    "\n",
    "selected_columns = ['Open', 'High', 'Low', 'Close', 'Volume']\n",
    "selected_data = df[selected_columns]\n",
    "\n",
    "# Plot histograms using hist method\n",
    "histogram = selected_data.hist(layout=(2, 3), figsize=(10, 6))\n",
    "\n",
    "# Set titles and labels for each subplot\n",
    "for i, column in enumerate(selected_columns):\n",
    "    row = i // 3\n",
    "    col = i % 3\n",
    "    histogram[row, col].set_title(column)\n",
    "    histogram[row, col].set_xlabel(column)\n",
    "\n",
    "# Adjust layout and save the plot\n",
    "plt.tight_layout()\n",
    "plt.savefig('histogram.png')# saving image so we can use in ppt\n",
    "plt.show()"
   ]
  },
  {
   "cell_type": "markdown",
   "metadata": {},
   "source": [
    "Based on the distribution plot,we need to scale the dataset, before modeling."
   ]
  },
  {
   "cell_type": "markdown",
   "metadata": {},
   "source": [
    "#### Boxplot:"
   ]
  },
  {
   "cell_type": "code",
   "execution_count": 366,
   "metadata": {},
   "outputs": [
    {
     "data": {
      "image/png": "[encoded data removed]",
      "text/plain": [
       "<Figure size 720x720 with 5 Axes>"
      ]
     },
     "metadata": {
      "needs_background": "light"
     },
     "output_type": "display_data"
    }
   ],
   "source": [
    "num_column = ['Open', 'High', 'Low', 'Close', 'Volume']\n",
    "\n",
    "# set figure size\n",
    "fig = plt.figure(figsize=(10, 10))\n",
    "i = 1\n",
    "for f in num_column :\n",
    "    plt.subplot(3, 3, i)\n",
    "    plt.boxplot(df[f], whis=1.5) # Increase the size of the box using 'whis' parameter\n",
    "    plt.title(f)\n",
    "    i += 1\n",
    "fig.savefig('i1.png') # saving image so we can use in ppt\n",
    "plt.show()"
   ]
  },
  {
   "cell_type": "markdown",
   "metadata": {},
   "source": [
    "Volume column has outliers that we will need to scale later before model training."
   ]
  },
  {
   "cell_type": "markdown",
   "metadata": {},
   "source": [
    "####  Let's look at each column individually"
   ]
  },
  {
   "cell_type": "markdown",
   "metadata": {},
   "source": [
    "##### Open:"
   ]
  },
  {
   "cell_type": "code",
   "execution_count": 367,
   "metadata": {},
   "outputs": [
    {
     "data": {
      "image/png": "[encoded data removed]",
      "text/plain": [
       "<Figure size 432x288 with 1 Axes>"
      ]
     },
     "metadata": {
      "needs_background": "light"
     },
     "output_type": "display_data"
    }
   ],
   "source": [
    "sns.boxplot(df.Open)\n",
    "fig.savefig('m1.png') # saving image so we can use in ppt"
   ]
  },
  {
   "cell_type": "code",
   "execution_count": 368,
   "metadata": {},
   "outputs": [
    {
     "data": {
      "image/png": "[encoded data removed]",
      "text/plain": [
       "<Figure size 432x288 with 1 Axes>"
      ]
     },
     "metadata": {
      "needs_background": "light"
     },
     "output_type": "display_data"
    }
   ],
   "source": [
    "sns.boxplot(df.High)\n",
    "fig.savefig('b1.png') # saving image so we can use in ppt"
   ]
  },
  {
   "cell_type": "code",
   "execution_count": 369,
   "metadata": {},
   "outputs": [
    {
     "data": {
      "image/png": "[encoded data removed]",
      "text/plain": [
       "<Figure size 432x288 with 1 Axes>"
      ]
     },
     "metadata": {
      "needs_background": "light"
     },
     "output_type": "display_data"
    }
   ],
   "source": [
    "sns.boxplot(df.Low)\n",
    "fig.savefig('s1.png') # saving image so we can use in ppt"
   ]
  },
  {
   "cell_type": "code",
   "execution_count": 370,
   "metadata": {},
   "outputs": [
    {
     "data": {
      "image/png": "[encoded data removed]",
      "text/plain": [
       "<Figure size 432x288 with 1 Axes>"
      ]
     },
     "metadata": {
      "needs_background": "light"
     },
     "output_type": "display_data"
    }
   ],
   "source": [
    "sns.boxplot(df.Close)\n",
    "fig.savefig('k1.png') # saving image so we can use in ppt"
   ]
  },
  {
   "cell_type": "code",
   "execution_count": 371,
   "metadata": {},
   "outputs": [
    {
     "data": {
      "image/png": "[encoded data removed]",
      "text/plain": [
       "<Figure size 432x288 with 1 Axes>"
      ]
     },
     "metadata": {
      "needs_background": "light"
     },
     "output_type": "display_data"
    }
   ],
   "source": [
    "sns.boxplot(df.Volume)\n",
    "fig.savefig('v1.png') # saving image so we can use in ppt"
   ]
  },
  {
   "cell_type": "markdown",
   "metadata": {},
   "source": [
    "Volume column shows that there are outliers, and we need to address this later in the data preparation before modeling. "
   ]
  },
  {
   "cell_type": "code",
   "execution_count": 372,
   "metadata": {},
   "outputs": [
    {
     "name": "stderr",
     "output_type": "stream",
     "text": [
      "<ipython-input-372-8276ab602138>:8: UserWarning: 'set_params()' not defined for locator of type <class 'pandas.plotting._matplotlib.converter.PandasAutoDateLocator'>\n",
      "  plt.locator_params(axis='x', nbins=10)  # Adjust the number of bins to control x-axis tick frequency\n"
     ]
    },
    {
     "data": {
      "image/png": "[encoded data removed]",
      "text/plain": [
       "<Figure size 720x288 with 1 Axes>"
      ]
     },
     "metadata": {},
     "output_type": "display_data"
    }
   ],
   "source": [
    "# Plotting close price data\n",
    "plt.style.use('ggplot')\n",
    "plt.figure(figsize=(10, 4))\n",
    "plt.grid(True)\n",
    "plt.xlabel('Date', fontsize=14)\n",
    "plt.ylabel('Close', fontsize=14)\n",
    "df['Close'].plot(color='blue')\n",
    "plt.locator_params(axis='x', nbins=10)  # Adjust the number of bins to control x-axis tick frequency\n",
    "plt.xticks(fontsize=10)\n",
    "plt.yticks(fontsize=10)\n",
    "plt.title('S&P500 Closing Price', fontsize=18)\n",
    "fig.savefig('i9.png')\n",
    "plt.show()"
   ]
  },
  {
   "cell_type": "code",
   "execution_count": 373,
   "metadata": {},
   "outputs": [
    {
     "data": {
      "image/png": "[encoded data removed]",
      "text/plain": [
       "<Figure size 720x288 with 1 Axes>"
      ]
     },
     "metadata": {},
     "output_type": "display_data"
    }
   ],
   "source": [
    "# Plot close price count\n",
    "plt.figure(figsize=(10, 4)) \n",
    "sns.histplot(df['Close'], kde=True, color='blue')\n",
    "plt.xlabel('Close', fontsize=20)\n",
    "plt.xticks(fontsize = 15)\n",
    "plt.ylabel('Count', fontsize=20)\n",
    "plt.yticks(fontsize  = 15)\n",
    "plt.title('Histogram of Close Prices', fontsize=15)\n",
    "fig.savefig('e8.png')\n",
    "plt.show()"
   ]
  },
  {
   "cell_type": "markdown",
   "metadata": {},
   "source": [
    "This histogram plot shows the distribution of the 'Close' prices, where the x-axis represents the 'Close' price range and the y-axis represents the frequency (count) of occurrences within each price range.And this plot provides a smooth estimate of the probability density function for the 'Close' prices.And can help us understand the central tendency, spread, and potential outliers in the 'Close' prices distribution."
   ]
  },
  {
   "cell_type": "markdown",
   "metadata": {},
   "source": [
    "## Machine Learning Models \n",
    "\n",
    "#### Training an initial machine learning model\n",
    "\n",
    "With the dataset now prepared, I am poised to initiate training for the machine learning model. To embark on this journey, I've opted to employ the RandomForestClassifier as my primary choice. This preference is rooted in several compelling reasons. First and foremost, the RandomForestClassifier operates through the training of multiple distinct decision trees, each characterized by randomized parameters. The subsequent amalgamation of outcomes from these trees engenders a mitigation of overfitting tendencies. Although overfitting remains a potential concern, its manifestation is notably subdued in comparison to alternative model architectures.\n",
    "\n",
    "Additionally, the RandomForestClassifier boasts a commendable pace of execution, rendering it an efficient candidate for my purposes. Furthermore, its adeptness in capturing non-linear trends within the data renders it particularly suited for my venture. Take, for instance, the relationship between the opening price and the target variable,this connection isn't confined to linear correlation. The RandomForestClassifier's capacity to discern and account for such intricate non-linear dependencies aligns seamlessly with the multifaceted nature of stock price prediction, where non-linearity often pervades the underlying relationships. "
   ]
  },
  {
   "cell_type": "code",
   "execution_count": 374,
   "metadata": {},
   "outputs": [
    {
     "data": {
      "text/html": [
       "<div>\n",
       "<style scoped>\n",
       "    .dataframe tbody tr th:only-of-type {\n",
       "        vertical-align: middle;\n",
       "    }\n",
       "\n",
       "    .dataframe tbody tr th {\n",
       "        vertical-align: top;\n",
       "    }\n",
       "\n",
       "    .dataframe thead th {\n",
       "        text-align: right;\n",
       "    }\n",
       "</style>\n",
       "<table border=\"1\" class=\"dataframe\">\n",
       "  <thead>\n",
       "    <tr style=\"text-align: right;\">\n",
       "      <th></th>\n",
       "      <th>Open</th>\n",
       "      <th>High</th>\n",
       "      <th>Low</th>\n",
       "      <th>Close</th>\n",
       "      <th>Volume</th>\n",
       "      <th>Tomorrow</th>\n",
       "      <th>Target</th>\n",
       "    </tr>\n",
       "    <tr>\n",
       "      <th>Date</th>\n",
       "      <th></th>\n",
       "      <th></th>\n",
       "      <th></th>\n",
       "      <th></th>\n",
       "      <th></th>\n",
       "      <th></th>\n",
       "      <th></th>\n",
       "    </tr>\n",
       "  </thead>\n",
       "  <tbody>\n",
       "    <tr>\n",
       "      <th>1990-01-02 00:00:00-05:00</th>\n",
       "      <td>353.399994</td>\n",
       "      <td>359.690002</td>\n",
       "      <td>351.980011</td>\n",
       "      <td>359.690002</td>\n",
       "      <td>162070000</td>\n",
       "      <td>358.760010</td>\n",
       "      <td>0</td>\n",
       "    </tr>\n",
       "    <tr>\n",
       "      <th>1990-01-03 00:00:00-05:00</th>\n",
       "      <td>359.690002</td>\n",
       "      <td>360.589996</td>\n",
       "      <td>357.890015</td>\n",
       "      <td>358.760010</td>\n",
       "      <td>192330000</td>\n",
       "      <td>355.670013</td>\n",
       "      <td>0</td>\n",
       "    </tr>\n",
       "    <tr>\n",
       "      <th>1990-01-04 00:00:00-05:00</th>\n",
       "      <td>358.760010</td>\n",
       "      <td>358.760010</td>\n",
       "      <td>352.890015</td>\n",
       "      <td>355.670013</td>\n",
       "      <td>177000000</td>\n",
       "      <td>352.200012</td>\n",
       "      <td>0</td>\n",
       "    </tr>\n",
       "    <tr>\n",
       "      <th>1990-01-05 00:00:00-05:00</th>\n",
       "      <td>355.670013</td>\n",
       "      <td>355.670013</td>\n",
       "      <td>351.350006</td>\n",
       "      <td>352.200012</td>\n",
       "      <td>158530000</td>\n",
       "      <td>353.790009</td>\n",
       "      <td>1</td>\n",
       "    </tr>\n",
       "    <tr>\n",
       "      <th>1990-01-08 00:00:00-05:00</th>\n",
       "      <td>352.200012</td>\n",
       "      <td>354.239990</td>\n",
       "      <td>350.540009</td>\n",
       "      <td>353.790009</td>\n",
       "      <td>140110000</td>\n",
       "      <td>349.619995</td>\n",
       "      <td>0</td>\n",
       "    </tr>\n",
       "    <tr>\n",
       "      <th>...</th>\n",
       "      <td>...</td>\n",
       "      <td>...</td>\n",
       "      <td>...</td>\n",
       "      <td>...</td>\n",
       "      <td>...</td>\n",
       "      <td>...</td>\n",
       "      <td>...</td>\n",
       "    </tr>\n",
       "    <tr>\n",
       "      <th>2023-08-01 00:00:00-04:00</th>\n",
       "      <td>4578.830078</td>\n",
       "      <td>4584.620117</td>\n",
       "      <td>4567.529785</td>\n",
       "      <td>4576.729980</td>\n",
       "      <td>4042370000</td>\n",
       "      <td>4513.390137</td>\n",
       "      <td>0</td>\n",
       "    </tr>\n",
       "    <tr>\n",
       "      <th>2023-08-02 00:00:00-04:00</th>\n",
       "      <td>4550.930176</td>\n",
       "      <td>4550.930176</td>\n",
       "      <td>4505.750000</td>\n",
       "      <td>4513.390137</td>\n",
       "      <td>4270710000</td>\n",
       "      <td>4501.890137</td>\n",
       "      <td>0</td>\n",
       "    </tr>\n",
       "    <tr>\n",
       "      <th>2023-08-03 00:00:00-04:00</th>\n",
       "      <td>4494.270020</td>\n",
       "      <td>4519.490234</td>\n",
       "      <td>4485.540039</td>\n",
       "      <td>4501.890137</td>\n",
       "      <td>4149120000</td>\n",
       "      <td>4478.029785</td>\n",
       "      <td>0</td>\n",
       "    </tr>\n",
       "    <tr>\n",
       "      <th>2023-08-04 00:00:00-04:00</th>\n",
       "      <td>4513.959961</td>\n",
       "      <td>4540.339844</td>\n",
       "      <td>4474.549805</td>\n",
       "      <td>4478.029785</td>\n",
       "      <td>4143310000</td>\n",
       "      <td>4518.439941</td>\n",
       "      <td>1</td>\n",
       "    </tr>\n",
       "    <tr>\n",
       "      <th>2023-08-07 00:00:00-04:00</th>\n",
       "      <td>4491.580078</td>\n",
       "      <td>4519.839844</td>\n",
       "      <td>4491.149902</td>\n",
       "      <td>4518.439941</td>\n",
       "      <td>3493920000</td>\n",
       "      <td>NaN</td>\n",
       "      <td>0</td>\n",
       "    </tr>\n",
       "  </tbody>\n",
       "</table>\n",
       "<p>8464 rows × 7 columns</p>\n",
       "</div>"
      ],
      "text/plain": [
       "                                  Open         High          Low        Close  \\\n",
       "Date                                                                            \n",
       "1990-01-02 00:00:00-05:00   353.399994   359.690002   351.980011   359.690002   \n",
       "1990-01-03 00:00:00-05:00   359.690002   360.589996   357.890015   358.760010   \n",
       "1990-01-04 00:00:00-05:00   358.760010   358.760010   352.890015   355.670013   \n",
       "1990-01-05 00:00:00-05:00   355.670013   355.670013   351.350006   352.200012   \n",
       "1990-01-08 00:00:00-05:00   352.200012   354.239990   350.540009   353.790009   \n",
       "...                                ...          ...          ...          ...   \n",
       "2023-08-01 00:00:00-04:00  4578.830078  4584.620117  4567.529785  4576.729980   \n",
       "2023-08-02 00:00:00-04:00  4550.930176  4550.930176  4505.750000  4513.390137   \n",
       "2023-08-03 00:00:00-04:00  4494.270020  4519.490234  4485.540039  4501.890137   \n",
       "2023-08-04 00:00:00-04:00  4513.959961  4540.339844  4474.549805  4478.029785   \n",
       "2023-08-07 00:00:00-04:00  4491.580078  4519.839844  4491.149902  4518.439941   \n",
       "\n",
       "                               Volume     Tomorrow  Target  \n",
       "Date                                                        \n",
       "1990-01-02 00:00:00-05:00   162070000   358.760010       0  \n",
       "1990-01-03 00:00:00-05:00   192330000   355.670013       0  \n",
       "1990-01-04 00:00:00-05:00   177000000   352.200012       0  \n",
       "1990-01-05 00:00:00-05:00   158530000   353.790009       1  \n",
       "1990-01-08 00:00:00-05:00   140110000   349.619995       0  \n",
       "...                               ...          ...     ...  \n",
       "2023-08-01 00:00:00-04:00  4042370000  4513.390137       0  \n",
       "2023-08-02 00:00:00-04:00  4270710000  4501.890137       0  \n",
       "2023-08-03 00:00:00-04:00  4149120000  4478.029785       0  \n",
       "2023-08-04 00:00:00-04:00  4143310000  4518.439941       1  \n",
       "2023-08-07 00:00:00-04:00  3493920000          NaN       0  \n",
       "\n",
       "[8464 rows x 7 columns]"
      ]
     },
     "execution_count": 374,
     "metadata": {},
     "output_type": "execute_result"
    }
   ],
   "source": [
    "df"
   ]
  },
  {
   "cell_type": "code",
   "execution_count": 377,
   "metadata": {},
   "outputs": [
    {
     "data": {
      "text/plain": [
       "Target\n",
       "1    4523\n",
       "0    3941\n",
       "Name: count, dtype: int64"
      ]
     },
     "execution_count": 377,
     "metadata": {},
     "output_type": "execute_result"
    }
   ],
   "source": [
    "# count value for the target column\n",
    "df.Target.value_counts()"
   ]
  },
  {
   "cell_type": "markdown",
   "metadata": {},
   "source": [
    "There are 3941 data points belonging to 0 and 4523 data points belonging to 1."
   ]
  },
  {
   "cell_type": "code",
   "execution_count": 376,
   "metadata": {},
   "outputs": [
    {
     "data": {
      "image/png": "[encoded data removed]",
      "text/plain": [
       "<Figure size 360x360 with 1 Axes>"
      ]
     },
     "metadata": {},
     "output_type": "display_data"
    }
   ],
   "source": [
    "plt.figure(figsize=(5,5))\n",
    "sns.countplot(x='Target', data=df, palette='hls')\n",
    "plt.show()\n",
    "fig.savefig('z10.png')"
   ]
  },
  {
   "cell_type": "markdown",
   "metadata": {},
   "source": [
    "#### Calculate the null error rate\n"
   ]
  },
  {
   "cell_type": "markdown",
   "metadata": {},
   "source": [
    "The null error rate, often referred to as the baseline error rate, serves as a benchmark or reference point for assessing the performance of a classification models. In the case of a regression problem (predicting a continuous value), the null error rate could be the mean or median of the target variable. For a classification problem (predicting a class), the null error rate is typically the proportion of the majority class in the dataset."
   ]
  },
  {
   "cell_type": "code",
   "execution_count": 378,
   "metadata": {},
   "outputs": [
    {
     "data": {
      "text/plain": [
       "0.46561909262759926"
      ]
     },
     "execution_count": 378,
     "metadata": {},
     "output_type": "execute_result"
    }
   ],
   "source": [
    "#Null error rate\n",
    "NRE = df.Target.value_counts()[1]/(df.Target.value_counts()[0] + df.Target.value_counts()[1])\n",
    "Error_Rate = 1 - NRE\n",
    "Error_Rate"
   ]
  },
  {
   "cell_type": "markdown",
   "metadata": {},
   "source": [
    "In this case, with a null error rate of 46.6%, it implies that if I make predictions by simply assigning every instance to the majority class (likely the most frequent class in my dataset), I would expect to be incorrect approximately 46.6% of the time."
   ]
  },
  {
   "cell_type": "markdown",
   "metadata": {},
   "source": [
    "- Let's  split the data into training and testing, and I am going to scale the data so they are all in the same range using the MinMaxScaler."
   ]
  },
  {
   "cell_type": "code",
   "execution_count": 379,
   "metadata": {},
   "outputs": [],
   "source": [
    "# Define the predictor columns and target column\n",
    "predictors = [\"Close\",\"Volume\",\"Open\",\"High\",\"Low\"]\n",
    "\n",
    "#Response and explanatory variables\n",
    "X = df[predictors]\n",
    "y = df.Target"
   ]
  },
  {
   "cell_type": "code",
   "execution_count": 380,
   "metadata": {},
   "outputs": [],
   "source": [
    "#Prepare data for classification process\n",
    "X_train, X_test, y_train, y_test = train_test_split(X,y,test_size=0.2, random_state=20)\n",
    "\n",
    "# Initialize the MinMaxScaler\n",
    "scaler = MinMaxScaler().fit(X_train)\n",
    "# Fit and transform the training data\n",
    "X_train = scaler.transform(X_train)\n",
    "# Transform the test data using the scaler fitted on training data\n",
    "X_test= scaler.transform(X_test)"
   ]
  },
  {
   "cell_type": "code",
   "execution_count": 381,
   "metadata": {},
   "outputs": [],
   "source": [
    "# Collect all kinds of scores\n",
    "Accuracy = []\n",
    "Precision = []\n",
    "Recall = []\n",
    "F1_score = []\n",
    "models = ['RandomForestClassifier','DecisionTreeClassifier','SVC','KNeighborsClassifier','LogisticRegression','XGBtClassifier','VotingClassifier']"
   ]
  },
  {
   "cell_type": "markdown",
   "metadata": {},
   "source": [
    "### 1. RandomForest Classifier\n",
    "\n",
    "Within this model, an increased count of trees serves to diminish the model's variability. The parameter 'n_estimators' delineates the quantity of trees within the forest, and the default value of 100 proves adept in its performance within this context. My pursuit involves experimentation with varying 'n_estimators,' guided by recommendations found in literatures. Elevating the count of trees enhances the model's data comprehension capabilities. However, it's crucial to manage the trade-off with 'max_depth.' To mitigate the potential overfitting risk associated with a higher 'max_depth,' I adhere to a value of 10. This choice aligns notably well, particularly in scenarios where feature dimensions are constrained."
   ]
  },
  {
   "cell_type": "code",
   "execution_count": 382,
   "metadata": {},
   "outputs": [
    {
     "name": "stdout",
     "output_type": "stream",
     "text": [
      "              precision    recall  f1-score   support\n",
      "\n",
      "           0       0.76      0.66      0.70      3154\n",
      "           1       0.73      0.82      0.77      3617\n",
      "\n",
      "    accuracy                           0.74      6771\n",
      "   macro avg       0.75      0.74      0.74      6771\n",
      "weighted avg       0.74      0.74      0.74      6771\n",
      "\n",
      "[[2075 1079]\n",
      " [ 661 2956]]\n",
      "Precision: 0.7325898389095415\n",
      "Recall: 0.8172518661874482\n",
      "F1 score: 0.7726084683742812\n",
      "Accuracy: 0.743021710234825\n"
     ]
    }
   ],
   "source": [
    "# now initalize the model\n",
    "# use n_estimators: the number of decision trees we want to train, the higher the number the better the accuracy\n",
    "# min_samples_split :help us protect against over-fitting\n",
    "# set random_state:if we run the same model twice, the random numbers generated will be in a predictble sequence\n",
    "#model_1 = RandomForestClassifier(n_estimators=100,  random_state=42)\n",
    "#model_1 = RandomForestClassifier(n_estimators=200,class_weight='balanced',  random_state=42)\n",
    "#model_1 = RandomForestClassifier(n_estimators=64,class_weight='balanced',  random_state=42)\n",
    "#model_1 = RandomForestClassifier(n_estimators=100,class_weight='balanced', max_depth=16,  random_state=42)\n",
    "\n",
    "model_1= RandomForestClassifier(n_estimators = 100,min_samples_split=8,class_weight='balanced',max_depth=10,random_state =42)\n",
    "\n",
    "# let's train the model using the predictor column inorder to predict the target\n",
    "# use mode.fit method\n",
    "\n",
    "model_1.fit(X_train, y_train)\n",
    "model_1.score(X_train, y_train)\n",
    "\n",
    "#Print metrics\n",
    "y_train_pred = model_1.predict(X_train)\n",
    "\n",
    "print(classification_report(y_train, y_train_pred))\n",
    "print(confusion_matrix(y_train, y_train_pred))\n",
    "\n",
    "p = precision_score(y_train, y_train_pred)\n",
    "f = f1_score(y_train, y_train_pred)\n",
    "a = accuracy_score(y_train, y_train_pred)\n",
    "rc=recall_score(y_train, y_train_pred)\n",
    "\n",
    "print(\"Precision:\", p)\n",
    "print(\"Recall:\",rc)\n",
    "print(\"F1 score:\", f) \n",
    "print(\"Accuracy:\", a)"
   ]
  },
  {
   "cell_type": "markdown",
   "metadata": {},
   "source": [
    "#### Let's measure how accurate the model is on the test data\n",
    "\n",
    "- This holds significant importance within the realm of machine learning. It's crucial for us to evaluate whether our model aligns with our intended outcomes. Specifically, the precision score comes into play. It gauges the accuracy of our predictions when we anticipated the market to rise (designated as 1). Essentially, it quantifies how often our predictions of market growth were accurate. This metric proves particularly effective in this context, given our presumption that we aim to purchase stocks and retain them until their value appreciates before selling. Therefore, it's imperative that the stock price ascends upon purchase. Depending on our objectives, we can modify the choice of error metrics to assess performance. For this project, I will be employing precision, accuracy, and the F1 score for evaluation."
   ]
  },
  {
   "cell_type": "markdown",
   "metadata": {},
   "source": [
    "#### Model Prediction and Evalution"
   ]
  },
  {
   "cell_type": "code",
   "execution_count": 383,
   "metadata": {},
   "outputs": [
    {
     "name": "stdout",
     "output_type": "stream",
     "text": [
      "              precision    recall  f1-score   support\n",
      "\n",
      "           0       0.49      0.44      0.46       787\n",
      "           1       0.55      0.59      0.57       906\n",
      "\n",
      "    accuracy                           0.52      1693\n",
      "   macro avg       0.52      0.52      0.52      1693\n",
      "weighted avg       0.52      0.52      0.52      1693\n",
      "\n",
      "[[348 439]\n",
      " [367 539]]\n",
      "Precision: 0.5511247443762781\n",
      "Recall: 0.5949227373068433\n",
      "F1 score: 0.5721868365180467\n",
      "Accuracy: 0.5239220318960425\n",
      "Null Error Rate: 0.46\n"
     ]
    }
   ],
   "source": [
    "# generate prediction using the model with predict method\n",
    "y_preds = model_1.predict(X_test)\n",
    "\n",
    "print(classification_report(y_test,y_preds))\n",
    "print(confusion_matrix(y_test,y_preds))\n",
    "\n",
    "p = precision_score(y_test,y_preds)\n",
    "f = f1_score(y_test,y_preds)\n",
    "a = accuracy_score(y_test,y_preds)\n",
    "rc=recall_score(y_test,y_preds)\n",
    "# Calculate the null error rate (proportion of the majority class)\n",
    "null_error_rate = 1 - y_test.mean()\n",
    "\n",
    "print(\"Precision:\", p)\n",
    "print(\"Recall:\",rc)\n",
    "print(\"F1 score:\", f) \n",
    "print(\"Accuracy:\", a)\n",
    "print(f\"Null Error Rate: {null_error_rate:.2f}\")\n",
    "Accuracy.append(100* accuracy_score(y_test,y_preds))\n",
    "Precision.append(100* precision_score(y_test,y_preds,average='weighted'))\n",
    "Recall.append(100* recall_score(y_test,y_preds,average='weighted'))\n",
    "F1_score.append(100* f1_score(y_test,y_preds,average='weighted'))"
   ]
  },
  {
   "cell_type": "markdown",
   "metadata": {},
   "source": [
    "When we indicated that the stock price increased, it occurred merely 55% of the instances."
   ]
  },
  {
   "cell_type": "markdown",
   "metadata": {},
   "source": [
    " ### 2.  DecisionTree Classifier\n",
    "- max_depth: the maximum depth of the tree\n",
    "- min_samples_split: the minimum number of samples required to split an internal node"
   ]
  },
  {
   "cell_type": "code",
   "execution_count": 384,
   "metadata": {},
   "outputs": [
    {
     "data": {
      "text/html": [
       "<style>#sk-container-id-40 {color: black;}#sk-container-id-40 pre{padding: 0;}#sk-container-id-40 div.sk-toggleable {background-color: white;}#sk-container-id-40 label.sk-toggleable__label {cursor: pointer;display: block;width: 100%;margin-bottom: 0;padding: 0.3em;box-sizing: border-box;text-align: center;}#sk-container-id-40 label.sk-toggleable__label-arrow:before {content: \"▸\";float: left;margin-right: 0.25em;color: #696969;}#sk-container-id-40 label.sk-toggleable__label-arrow:hover:before {color: black;}#sk-container-id-40 div.sk-estimator:hover label.sk-toggleable__label-arrow:before {color: black;}#sk-container-id-40 div.sk-toggleable__content {max-height: 0;max-width: 0;overflow: hidden;text-align: left;background-color: #f0f8ff;}#sk-container-id-40 div.sk-toggleable__content pre {margin: 0.2em;color: black;border-radius: 0.25em;background-color: #f0f8ff;}#sk-container-id-40 input.sk-toggleable__control:checked~div.sk-toggleable__content {max-height: 200px;max-width: 100%;overflow: auto;}#sk-container-id-40 input.sk-toggleable__control:checked~label.sk-toggleable__label-arrow:before {content: \"▾\";}#sk-container-id-40 div.sk-estimator input.sk-toggleable__control:checked~label.sk-toggleable__label {background-color: #d4ebff;}#sk-container-id-40 div.sk-label input.sk-toggleable__control:checked~label.sk-toggleable__label {background-color: #d4ebff;}#sk-container-id-40 input.sk-hidden--visually {border: 0;clip: rect(1px 1px 1px 1px);clip: rect(1px, 1px, 1px, 1px);height: 1px;margin: -1px;overflow: hidden;padding: 0;position: absolute;width: 1px;}#sk-container-id-40 div.sk-estimator {font-family: monospace;background-color: #f0f8ff;border: 1px dotted black;border-radius: 0.25em;box-sizing: border-box;margin-bottom: 0.5em;}#sk-container-id-40 div.sk-estimator:hover {background-color: #d4ebff;}#sk-container-id-40 div.sk-parallel-item::after {content: \"\";width: 100%;border-bottom: 1px solid gray;flex-grow: 1;}#sk-container-id-40 div.sk-label:hover label.sk-toggleable__label {background-color: #d4ebff;}#sk-container-id-40 div.sk-serial::before {content: \"\";position: absolute;border-left: 1px solid gray;box-sizing: border-box;top: 0;bottom: 0;left: 50%;z-index: 0;}#sk-container-id-40 div.sk-serial {display: flex;flex-direction: column;align-items: center;background-color: white;padding-right: 0.2em;padding-left: 0.2em;position: relative;}#sk-container-id-40 div.sk-item {position: relative;z-index: 1;}#sk-container-id-40 div.sk-parallel {display: flex;align-items: stretch;justify-content: center;background-color: white;position: relative;}#sk-container-id-40 div.sk-item::before, #sk-container-id-40 div.sk-parallel-item::before {content: \"\";position: absolute;border-left: 1px solid gray;box-sizing: border-box;top: 0;bottom: 0;left: 50%;z-index: -1;}#sk-container-id-40 div.sk-parallel-item {display: flex;flex-direction: column;z-index: 1;position: relative;background-color: white;}#sk-container-id-40 div.sk-parallel-item:first-child::after {align-self: flex-end;width: 50%;}#sk-container-id-40 div.sk-parallel-item:last-child::after {align-self: flex-start;width: 50%;}#sk-container-id-40 div.sk-parallel-item:only-child::after {width: 0;}#sk-container-id-40 div.sk-dashed-wrapped {border: 1px dashed gray;margin: 0 0.4em 0.5em 0.4em;box-sizing: border-box;padding-bottom: 0.4em;background-color: white;}#sk-container-id-40 div.sk-label label {font-family: monospace;font-weight: bold;display: inline-block;line-height: 1.2em;}#sk-container-id-40 div.sk-label-container {text-align: center;}#sk-container-id-40 div.sk-container {/* jupyter's `normalize.less` sets `[hidden] { display: none; }` but bootstrap.min.css set `[hidden] { display: none !important; }` so we also need the `!important` here to be able to override the default hidden behavior on the sphinx rendered scikit-learn.org. See: https://github.com/scikit-learn/scikit-learn/issues/21755 */display: inline-block !important;position: relative;}#sk-container-id-40 div.sk-text-repr-fallback {display: none;}</style><div id=\"sk-container-id-40\" class=\"sk-top-container\"><div class=\"sk-text-repr-fallback\"><pre>DecisionTreeClassifier(max_depth=12, min_samples_split=10)</pre><b>In a Jupyter environment, please rerun this cell to show the HTML representation or trust the notebook. <br />On GitHub, the HTML representation is unable to render, please try loading this page with nbviewer.org.</b></div><div class=\"sk-container\" hidden><div class=\"sk-item\"><div class=\"sk-estimator sk-toggleable\"><input class=\"sk-toggleable__control sk-hidden--visually\" id=\"sk-estimator-id-68\" type=\"checkbox\" checked><label for=\"sk-estimator-id-68\" class=\"sk-toggleable__label sk-toggleable__label-arrow\">DecisionTreeClassifier</label><div class=\"sk-toggleable__content\"><pre>DecisionTreeClassifier(max_depth=12, min_samples_split=10)</pre></div></div></div></div></div>"
      ],
      "text/plain": [
       "DecisionTreeClassifier(max_depth=12, min_samples_split=10)"
      ]
     },
     "execution_count": 384,
     "metadata": {},
     "output_type": "execute_result"
    }
   ],
   "source": [
    "# train the model\n",
    "model_2 =DecisionTreeClassifier(max_depth=12, min_samples_split=10)\n",
    "model_2.fit(X_train, y_train)"
   ]
  },
  {
   "cell_type": "code",
   "execution_count": 385,
   "metadata": {},
   "outputs": [
    {
     "name": "stdout",
     "output_type": "stream",
     "text": [
      "              precision    recall  f1-score   support\n",
      "\n",
      "           0       0.66      0.31      0.42      3154\n",
      "           1       0.59      0.86      0.70      3617\n",
      "\n",
      "    accuracy                           0.60      6771\n",
      "   macro avg       0.62      0.58      0.56      6771\n",
      "weighted avg       0.62      0.60      0.57      6771\n",
      "\n",
      "[[ 967 2187]\n",
      " [ 504 3113]]\n",
      "Precision: 0.5873584905660377\n",
      "Recall: 0.860658003870611\n",
      "F1 score: 0.6982168890882584\n",
      "Accuracy: 0.6025697828976517\n"
     ]
    }
   ],
   "source": [
    "model_2.score(X_train, y_train)\n",
    "\n",
    "#Print metrics\n",
    "y_train_pred_1 = model_2.predict(X_train)\n",
    "\n",
    "print(classification_report(y_train, y_train_pred_1))\n",
    "print(confusion_matrix(y_train, y_train_pred_1))\n",
    "\n",
    "p = precision_score(y_train, y_train_pred_1)\n",
    "f = f1_score(y_train, y_train_pred_1)\n",
    "a = accuracy_score(y_train, y_train_pred_1)\n",
    "rc=recall_score(y_train, y_train_pred_1)\n",
    "\n",
    "print(\"Precision:\", p)\n",
    "print(\"Recall:\",rc)\n",
    "print(\"F1 score:\", f) \n",
    "print(\"Accuracy:\", a)"
   ]
  },
  {
   "cell_type": "markdown",
   "metadata": {},
   "source": [
    "Here, using max depth of 12 for model 2, a test accuracy of 60% is achieved. Class 1 got F1 score which is 70% while Class 0 got an F1 score of 42."
   ]
  },
  {
   "cell_type": "markdown",
   "metadata": {},
   "source": [
    "#### Model Prediction and Evalution"
   ]
  },
  {
   "cell_type": "code",
   "execution_count": 279,
   "metadata": {},
   "outputs": [
    {
     "name": "stdout",
     "output_type": "stream",
     "text": [
      "              precision    recall  f1-score   support\n",
      "\n",
      "           0       0.46      0.23      0.30       787\n",
      "           1       0.53      0.77      0.63       906\n",
      "\n",
      "    accuracy                           0.52      1693\n",
      "   macro avg       0.50      0.50      0.47      1693\n",
      "weighted avg       0.50      0.52      0.48      1693\n",
      "\n",
      "[[179 608]\n",
      " [208 698]]\n",
      "Precision: 0.5344563552833078\n",
      "Recall: 0.7704194260485652\n",
      "F1 score: 0.6311030741410488\n",
      "Accuracy: 0.5180153573538098\n"
     ]
    }
   ],
   "source": [
    "# generate prediction using the model with predict method\n",
    "y_preds_1 = model_2.predict(X_test)\n",
    "\n",
    "print(classification_report(y_test,y_preds_1))\n",
    "print(confusion_matrix(y_test,y_preds_1))\n",
    "\n",
    "p = precision_score(y_test,y_preds_1)\n",
    "f = f1_score(y_test,y_preds_1)\n",
    "a = accuracy_score(y_test,y_preds_1)\n",
    "rc=recall_score(y_test,y_preds_1)\n",
    "\n",
    "print(\"Precision:\", p)\n",
    "print(\"Recall:\",rc)\n",
    "print(\"F1 score:\", f) \n",
    "print(\"Accuracy:\", a)\n",
    "\n",
    "Accuracy.append(100* accuracy_score(y_test,y_preds_1))\n",
    "Precision.append(100* precision_score(y_test,y_preds_1,average='weighted'))\n",
    "Recall.append(100* recall_score(y_test,y_preds_1,average='weighted'))\n",
    "F1_score.append(100* f1_score(y_test,y_preds_1,average='weighted'))"
   ]
  },
  {
   "cell_type": "markdown",
   "metadata": {},
   "source": [
    "When we said the stock price go up, it only went up by 53% of the time."
   ]
  },
  {
   "cell_type": "markdown",
   "metadata": {},
   "source": [
    "### 3. SVM \n",
    "\n",
    "Recognizing the SVM's reliance on hyperplane selection for classification, I discerned the potential for enhancing the algorithm's adaptability to elevate its classification prowess. As anticipated, the linear kernel manifested the least favorable performance. Subsequently, I iteratively explored kernels like sigmoid and rbf before delving into the polynomial kernel. An interesting observation emerged wherein logistic functions, being a subset of sigmoid functions, yielded comparable outcomes akin to those of logistic regression and the sigmoid kernel. This guided my trajectory toward adopting the polynomial function as the kernel of choice.\n",
    "\n",
    "The integration of the probability parameter materialized from my endeavors to troubleshoot ensemble models. This adjustment became pivotal for voting classifiers, which demand class probability estimation from all participating classifiers,an attribute not innately present in the default SVC settings. Manipulating these settings proved essential to ensuring the seamless operation of the ensemble model."
   ]
  },
  {
   "cell_type": "code",
   "execution_count": 280,
   "metadata": {},
   "outputs": [
    {
     "data": {
      "text/html": [
       "<style>#sk-container-id-33 {color: black;}#sk-container-id-33 pre{padding: 0;}#sk-container-id-33 div.sk-toggleable {background-color: white;}#sk-container-id-33 label.sk-toggleable__label {cursor: pointer;display: block;width: 100%;margin-bottom: 0;padding: 0.3em;box-sizing: border-box;text-align: center;}#sk-container-id-33 label.sk-toggleable__label-arrow:before {content: \"▸\";float: left;margin-right: 0.25em;color: #696969;}#sk-container-id-33 label.sk-toggleable__label-arrow:hover:before {color: black;}#sk-container-id-33 div.sk-estimator:hover label.sk-toggleable__label-arrow:before {color: black;}#sk-container-id-33 div.sk-toggleable__content {max-height: 0;max-width: 0;overflow: hidden;text-align: left;background-color: #f0f8ff;}#sk-container-id-33 div.sk-toggleable__content pre {margin: 0.2em;color: black;border-radius: 0.25em;background-color: #f0f8ff;}#sk-container-id-33 input.sk-toggleable__control:checked~div.sk-toggleable__content {max-height: 200px;max-width: 100%;overflow: auto;}#sk-container-id-33 input.sk-toggleable__control:checked~label.sk-toggleable__label-arrow:before {content: \"▾\";}#sk-container-id-33 div.sk-estimator input.sk-toggleable__control:checked~label.sk-toggleable__label {background-color: #d4ebff;}#sk-container-id-33 div.sk-label input.sk-toggleable__control:checked~label.sk-toggleable__label {background-color: #d4ebff;}#sk-container-id-33 input.sk-hidden--visually {border: 0;clip: rect(1px 1px 1px 1px);clip: rect(1px, 1px, 1px, 1px);height: 1px;margin: -1px;overflow: hidden;padding: 0;position: absolute;width: 1px;}#sk-container-id-33 div.sk-estimator {font-family: monospace;background-color: #f0f8ff;border: 1px dotted black;border-radius: 0.25em;box-sizing: border-box;margin-bottom: 0.5em;}#sk-container-id-33 div.sk-estimator:hover {background-color: #d4ebff;}#sk-container-id-33 div.sk-parallel-item::after {content: \"\";width: 100%;border-bottom: 1px solid gray;flex-grow: 1;}#sk-container-id-33 div.sk-label:hover label.sk-toggleable__label {background-color: #d4ebff;}#sk-container-id-33 div.sk-serial::before {content: \"\";position: absolute;border-left: 1px solid gray;box-sizing: border-box;top: 0;bottom: 0;left: 50%;z-index: 0;}#sk-container-id-33 div.sk-serial {display: flex;flex-direction: column;align-items: center;background-color: white;padding-right: 0.2em;padding-left: 0.2em;position: relative;}#sk-container-id-33 div.sk-item {position: relative;z-index: 1;}#sk-container-id-33 div.sk-parallel {display: flex;align-items: stretch;justify-content: center;background-color: white;position: relative;}#sk-container-id-33 div.sk-item::before, #sk-container-id-33 div.sk-parallel-item::before {content: \"\";position: absolute;border-left: 1px solid gray;box-sizing: border-box;top: 0;bottom: 0;left: 50%;z-index: -1;}#sk-container-id-33 div.sk-parallel-item {display: flex;flex-direction: column;z-index: 1;position: relative;background-color: white;}#sk-container-id-33 div.sk-parallel-item:first-child::after {align-self: flex-end;width: 50%;}#sk-container-id-33 div.sk-parallel-item:last-child::after {align-self: flex-start;width: 50%;}#sk-container-id-33 div.sk-parallel-item:only-child::after {width: 0;}#sk-container-id-33 div.sk-dashed-wrapped {border: 1px dashed gray;margin: 0 0.4em 0.5em 0.4em;box-sizing: border-box;padding-bottom: 0.4em;background-color: white;}#sk-container-id-33 div.sk-label label {font-family: monospace;font-weight: bold;display: inline-block;line-height: 1.2em;}#sk-container-id-33 div.sk-label-container {text-align: center;}#sk-container-id-33 div.sk-container {/* jupyter's `normalize.less` sets `[hidden] { display: none; }` but bootstrap.min.css set `[hidden] { display: none !important; }` so we also need the `!important` here to be able to override the default hidden behavior on the sphinx rendered scikit-learn.org. See: https://github.com/scikit-learn/scikit-learn/issues/21755 */display: inline-block !important;position: relative;}#sk-container-id-33 div.sk-text-repr-fallback {display: none;}</style><div id=\"sk-container-id-33\" class=\"sk-top-container\"><div class=\"sk-text-repr-fallback\"><pre>SVC(kernel=&#x27;poly&#x27;, probability=True)</pre><b>In a Jupyter environment, please rerun this cell to show the HTML representation or trust the notebook. <br />On GitHub, the HTML representation is unable to render, please try loading this page with nbviewer.org.</b></div><div class=\"sk-container\" hidden><div class=\"sk-item\"><div class=\"sk-estimator sk-toggleable\"><input class=\"sk-toggleable__control sk-hidden--visually\" id=\"sk-estimator-id-57\" type=\"checkbox\" checked><label for=\"sk-estimator-id-57\" class=\"sk-toggleable__label sk-toggleable__label-arrow\">SVC</label><div class=\"sk-toggleable__content\"><pre>SVC(kernel=&#x27;poly&#x27;, probability=True)</pre></div></div></div></div></div>"
      ],
      "text/plain": [
       "SVC(kernel='poly', probability=True)"
      ]
     },
     "execution_count": 280,
     "metadata": {},
     "output_type": "execute_result"
    }
   ],
   "source": [
    "#Create a svm Classifier\n",
    "#svm = SVC(kernel='sigmoid', probability = True)\n",
    "#svm = SVC(kernel='rbf', probability = True)\n",
    "svm = SVC(kernel='poly', probability = True)\n",
    "svm.fit(X_train,y_train)"
   ]
  },
  {
   "cell_type": "code",
   "execution_count": 281,
   "metadata": {},
   "outputs": [
    {
     "name": "stdout",
     "output_type": "stream",
     "text": [
      "              precision    recall  f1-score   support\n",
      "\n",
      "           0       0.00      0.00      0.00      3154\n",
      "           1       0.53      1.00      0.70      3617\n",
      "\n",
      "    accuracy                           0.53      6771\n",
      "   macro avg       0.27      0.50      0.35      6771\n",
      "weighted avg       0.29      0.53      0.37      6771\n",
      "\n",
      "[[   0 3154]\n",
      " [   0 3617]]\n",
      "Precision: 0.5341899276325506\n",
      "Recall: 1.0\n",
      "F1 score: 0.69638043896804\n",
      "Accuracy: 0.5341899276325506\n"
     ]
    },
    {
     "name": "stderr",
     "output_type": "stream",
     "text": [
      "C:\\Users\\suraf\\anaconda3\\lib\\site-packages\\sklearn\\metrics\\_classification.py:1469: UndefinedMetricWarning: Precision and F-score are ill-defined and being set to 0.0 in labels with no predicted samples. Use `zero_division` parameter to control this behavior.\n",
      "  _warn_prf(average, modifier, msg_start, len(result))\n",
      "C:\\Users\\suraf\\anaconda3\\lib\\site-packages\\sklearn\\metrics\\_classification.py:1469: UndefinedMetricWarning: Precision and F-score are ill-defined and being set to 0.0 in labels with no predicted samples. Use `zero_division` parameter to control this behavior.\n",
      "  _warn_prf(average, modifier, msg_start, len(result))\n",
      "C:\\Users\\suraf\\anaconda3\\lib\\site-packages\\sklearn\\metrics\\_classification.py:1469: UndefinedMetricWarning: Precision and F-score are ill-defined and being set to 0.0 in labels with no predicted samples. Use `zero_division` parameter to control this behavior.\n",
      "  _warn_prf(average, modifier, msg_start, len(result))\n"
     ]
    }
   ],
   "source": [
    "# train the model\n",
    "svm.score(X_train, y_train)\n",
    "\n",
    "#Print metrics\n",
    "svm_preds = svm.predict(X_train)\n",
    "\n",
    "print(classification_report(y_train,svm_preds))\n",
    "print(confusion_matrix(y_train, svm_preds))\n",
    "\n",
    "p = precision_score(y_train, svm_preds)\n",
    "f = f1_score(y_train, svm_preds)\n",
    "a = accuracy_score(y_train, svm_preds)\n",
    "rc=recall_score(y_train, svm_preds)\n",
    "\n",
    "print(\"Precision:\", p)\n",
    "print(\"Recall:\",rc)\n",
    "print(\"F1 score:\", f) \n",
    "print(\"Accuracy:\", a)"
   ]
  },
  {
   "cell_type": "markdown",
   "metadata": {},
   "source": [
    "Support Vector Machines (SVM) are recognized for their relatively robust nature in handling outliers when compared to certain other machine learning algorithms. In this context, I have achieved an improved outcome that aligns favorably with my initial expectations."
   ]
  },
  {
   "cell_type": "markdown",
   "metadata": {},
   "source": [
    "#### Model Prediction and Evalution"
   ]
  },
  {
   "cell_type": "code",
   "execution_count": 282,
   "metadata": {},
   "outputs": [
    {
     "name": "stdout",
     "output_type": "stream",
     "text": [
      "              precision    recall  f1-score   support\n",
      "\n",
      "           0       0.00      0.00      0.00       787\n",
      "           1       0.54      1.00      0.70       906\n",
      "\n",
      "    accuracy                           0.54      1693\n",
      "   macro avg       0.27      0.50      0.35      1693\n",
      "weighted avg       0.29      0.54      0.37      1693\n",
      "\n",
      "[[  0 787]\n",
      " [  0 906]]\n",
      "Precision: 0.5351447135262847\n",
      "Recall: 1.0\n",
      "F1 score: 0.697191227395152\n",
      "Accuracy: 0.5351447135262847\n"
     ]
    },
    {
     "name": "stderr",
     "output_type": "stream",
     "text": [
      "C:\\Users\\suraf\\anaconda3\\lib\\site-packages\\sklearn\\metrics\\_classification.py:1469: UndefinedMetricWarning: Precision and F-score are ill-defined and being set to 0.0 in labels with no predicted samples. Use `zero_division` parameter to control this behavior.\n",
      "  _warn_prf(average, modifier, msg_start, len(result))\n",
      "C:\\Users\\suraf\\anaconda3\\lib\\site-packages\\sklearn\\metrics\\_classification.py:1469: UndefinedMetricWarning: Precision and F-score are ill-defined and being set to 0.0 in labels with no predicted samples. Use `zero_division` parameter to control this behavior.\n",
      "  _warn_prf(average, modifier, msg_start, len(result))\n",
      "C:\\Users\\suraf\\anaconda3\\lib\\site-packages\\sklearn\\metrics\\_classification.py:1469: UndefinedMetricWarning: Precision and F-score are ill-defined and being set to 0.0 in labels with no predicted samples. Use `zero_division` parameter to control this behavior.\n",
      "  _warn_prf(average, modifier, msg_start, len(result))\n",
      "C:\\Users\\suraf\\anaconda3\\lib\\site-packages\\sklearn\\metrics\\_classification.py:1469: UndefinedMetricWarning: Precision is ill-defined and being set to 0.0 in labels with no predicted samples. Use `zero_division` parameter to control this behavior.\n",
      "  _warn_prf(average, modifier, msg_start, len(result))\n"
     ]
    }
   ],
   "source": [
    "# generate prediction using the model with predict method\n",
    "# calculate prediction using the actuall target and the predicted target\n",
    "#Print metrics\n",
    "y_preds_svm= svm.predict(X_test)\n",
    "\n",
    "print(classification_report(y_test,y_preds_svm))\n",
    "print(confusion_matrix(y_test,y_preds_svm))\n",
    "\n",
    "p = precision_score(y_test,y_preds_svm)\n",
    "f = f1_score(y_test,y_preds_svm)\n",
    "a = accuracy_score(y_test,y_preds_svm)\n",
    "rc=recall_score(y_test,y_preds_svm)\n",
    "\n",
    "print(\"Precision:\", p)\n",
    "print(\"Recall:\",rc)\n",
    "print(\"F1 score:\", f) \n",
    "print(\"Accuracy:\", a)\n",
    "Accuracy.append(100* accuracy_score(y_test,y_preds_svm))\n",
    "Precision.append(100* precision_score(y_test,y_preds_svm,average='weighted'))\n",
    "Recall.append(100* recall_score(y_test,y_preds_svm,average='weighted'))\n",
    "F1_score.append(100* f1_score(y_test,y_preds_svm,average='weighted'))"
   ]
  },
  {
   "cell_type": "markdown",
   "metadata": {},
   "source": [
    "When we predicted an increase in the stock price, it occurred only 54% of the time."
   ]
  },
  {
   "cell_type": "markdown",
   "metadata": {},
   "source": [
    "### 4.KNN"
   ]
  },
  {
   "cell_type": "markdown",
   "metadata": {},
   "source": [
    "- Given KNN's reliance on parameter K, it's essential to recognize that selecting a smaller K value amplifies the influence of noise on results, while a larger K value escalates computational demands. My approach commences with K=3 and systematically traverses various K values, often gravitating towards the square root of the sample size (n) for the models. The algorithm's inherent computational efficiency empowers me to directly employ grid search to pinpoint optimal parameter values."
   ]
  },
  {
   "cell_type": "code",
   "execution_count": 283,
   "metadata": {},
   "outputs": [
    {
     "name": "stdout",
     "output_type": "stream",
     "text": [
      "GridSearchCV(estimator=KNeighborsClassifier(),\n",
      "             param_grid={'n_neighbors': [3, 5, 10, 13, 19, 29, 45, 78, 99]})\n",
      "Best Score:  0.526805474554007\n",
      "Best parameters:  {'n_neighbors': 13}\n"
     ]
    }
   ],
   "source": [
    "#defining grids\n",
    "#train sample size\n",
    "n_neighbor = [3,5,10,13,19,29, 45, 78, 99]\n",
    "\n",
    "# create and fit  model, testing each parameters\n",
    "knn_grid = GridSearchCV(estimator=KNeighborsClassifier(), param_grid=dict(n_neighbors=n_neighbor))\n",
    "knn_grid.fit(X_train, y_train)\n",
    "print(knn_grid)\n",
    "# summarize the results of the grid search\n",
    "print('Best Score: ',knn_grid.best_score_)\n",
    "print('Best parameters: ',knn_grid.best_params_)"
   ]
  },
  {
   "cell_type": "markdown",
   "metadata": {},
   "source": [
    "- Based on testing, the accuracy of the model decreases since a large K value may reduce overfit. On the other hand, it raised the risk of overfitting. Although the best k selected by grid search is when k=5, we still determine to use k=10. Because this gave a relatively balanced result. What's more, it reduced the risk of making the model too sensitive."
   ]
  },
  {
   "cell_type": "code",
   "execution_count": 286,
   "metadata": {},
   "outputs": [
    {
     "data": {
      "text/html": [
       "<style>#sk-container-id-35 {color: black;}#sk-container-id-35 pre{padding: 0;}#sk-container-id-35 div.sk-toggleable {background-color: white;}#sk-container-id-35 label.sk-toggleable__label {cursor: pointer;display: block;width: 100%;margin-bottom: 0;padding: 0.3em;box-sizing: border-box;text-align: center;}#sk-container-id-35 label.sk-toggleable__label-arrow:before {content: \"▸\";float: left;margin-right: 0.25em;color: #696969;}#sk-container-id-35 label.sk-toggleable__label-arrow:hover:before {color: black;}#sk-container-id-35 div.sk-estimator:hover label.sk-toggleable__label-arrow:before {color: black;}#sk-container-id-35 div.sk-toggleable__content {max-height: 0;max-width: 0;overflow: hidden;text-align: left;background-color: #f0f8ff;}#sk-container-id-35 div.sk-toggleable__content pre {margin: 0.2em;color: black;border-radius: 0.25em;background-color: #f0f8ff;}#sk-container-id-35 input.sk-toggleable__control:checked~div.sk-toggleable__content {max-height: 200px;max-width: 100%;overflow: auto;}#sk-container-id-35 input.sk-toggleable__control:checked~label.sk-toggleable__label-arrow:before {content: \"▾\";}#sk-container-id-35 div.sk-estimator input.sk-toggleable__control:checked~label.sk-toggleable__label {background-color: #d4ebff;}#sk-container-id-35 div.sk-label input.sk-toggleable__control:checked~label.sk-toggleable__label {background-color: #d4ebff;}#sk-container-id-35 input.sk-hidden--visually {border: 0;clip: rect(1px 1px 1px 1px);clip: rect(1px, 1px, 1px, 1px);height: 1px;margin: -1px;overflow: hidden;padding: 0;position: absolute;width: 1px;}#sk-container-id-35 div.sk-estimator {font-family: monospace;background-color: #f0f8ff;border: 1px dotted black;border-radius: 0.25em;box-sizing: border-box;margin-bottom: 0.5em;}#sk-container-id-35 div.sk-estimator:hover {background-color: #d4ebff;}#sk-container-id-35 div.sk-parallel-item::after {content: \"\";width: 100%;border-bottom: 1px solid gray;flex-grow: 1;}#sk-container-id-35 div.sk-label:hover label.sk-toggleable__label {background-color: #d4ebff;}#sk-container-id-35 div.sk-serial::before {content: \"\";position: absolute;border-left: 1px solid gray;box-sizing: border-box;top: 0;bottom: 0;left: 50%;z-index: 0;}#sk-container-id-35 div.sk-serial {display: flex;flex-direction: column;align-items: center;background-color: white;padding-right: 0.2em;padding-left: 0.2em;position: relative;}#sk-container-id-35 div.sk-item {position: relative;z-index: 1;}#sk-container-id-35 div.sk-parallel {display: flex;align-items: stretch;justify-content: center;background-color: white;position: relative;}#sk-container-id-35 div.sk-item::before, #sk-container-id-35 div.sk-parallel-item::before {content: \"\";position: absolute;border-left: 1px solid gray;box-sizing: border-box;top: 0;bottom: 0;left: 50%;z-index: -1;}#sk-container-id-35 div.sk-parallel-item {display: flex;flex-direction: column;z-index: 1;position: relative;background-color: white;}#sk-container-id-35 div.sk-parallel-item:first-child::after {align-self: flex-end;width: 50%;}#sk-container-id-35 div.sk-parallel-item:last-child::after {align-self: flex-start;width: 50%;}#sk-container-id-35 div.sk-parallel-item:only-child::after {width: 0;}#sk-container-id-35 div.sk-dashed-wrapped {border: 1px dashed gray;margin: 0 0.4em 0.5em 0.4em;box-sizing: border-box;padding-bottom: 0.4em;background-color: white;}#sk-container-id-35 div.sk-label label {font-family: monospace;font-weight: bold;display: inline-block;line-height: 1.2em;}#sk-container-id-35 div.sk-label-container {text-align: center;}#sk-container-id-35 div.sk-container {/* jupyter's `normalize.less` sets `[hidden] { display: none; }` but bootstrap.min.css set `[hidden] { display: none !important; }` so we also need the `!important` here to be able to override the default hidden behavior on the sphinx rendered scikit-learn.org. See: https://github.com/scikit-learn/scikit-learn/issues/21755 */display: inline-block !important;position: relative;}#sk-container-id-35 div.sk-text-repr-fallback {display: none;}</style><div id=\"sk-container-id-35\" class=\"sk-top-container\"><div class=\"sk-text-repr-fallback\"><pre>KNeighborsClassifier(n_neighbors=10)</pre><b>In a Jupyter environment, please rerun this cell to show the HTML representation or trust the notebook. <br />On GitHub, the HTML representation is unable to render, please try loading this page with nbviewer.org.</b></div><div class=\"sk-container\" hidden><div class=\"sk-item\"><div class=\"sk-estimator sk-toggleable\"><input class=\"sk-toggleable__control sk-hidden--visually\" id=\"sk-estimator-id-59\" type=\"checkbox\" checked><label for=\"sk-estimator-id-59\" class=\"sk-toggleable__label sk-toggleable__label-arrow\">KNeighborsClassifier</label><div class=\"sk-toggleable__content\"><pre>KNeighborsClassifier(n_neighbors=10)</pre></div></div></div></div></div>"
      ],
      "text/plain": [
       "KNeighborsClassifier(n_neighbors=10)"
      ]
     },
     "execution_count": 286,
     "metadata": {},
     "output_type": "execute_result"
    }
   ],
   "source": [
    "#set k=3\n",
    "# try knn = KNeighborsClassifier(n_neighbors=5)\n",
    "# try knn = KNeighborsClassifier(n_neighbors=99)\n",
    "#set the best K from Gid search\n",
    "\n",
    "knn = KNeighborsClassifier(n_neighbors=10)\n",
    "knn.fit(X_train, y_train)"
   ]
  },
  {
   "cell_type": "code",
   "execution_count": 287,
   "metadata": {},
   "outputs": [
    {
     "name": "stdout",
     "output_type": "stream",
     "text": [
      "              precision    recall  f1-score   support\n",
      "\n",
      "           0       0.60      0.69      0.64      3154\n",
      "           1       0.69      0.59      0.64      3617\n",
      "\n",
      "    accuracy                           0.64      6771\n",
      "   macro avg       0.64      0.64      0.64      6771\n",
      "weighted avg       0.64      0.64      0.64      6771\n",
      "\n",
      "[[2169  985]\n",
      " [1473 2144]]\n",
      "Precision: 0.6852029402364973\n",
      "Recall: 0.5927564279789881\n",
      "F1 score: 0.6356359324043879\n",
      "Accuracy: 0.6369812435386206\n"
     ]
    }
   ],
   "source": [
    "# train the model\n",
    "knn.score(X_train, y_train)\n",
    "\n",
    "#Print metrics\n",
    "y_knn_preds = knn.predict(X_train)\n",
    "\n",
    "print(classification_report(y_train, y_knn_preds))\n",
    "print(confusion_matrix(y_train, y_knn_preds))\n",
    "\n",
    "p = precision_score(y_train, y_knn_preds)\n",
    "f = f1_score(y_train, y_knn_preds)\n",
    "a = metrics.accuracy_score(y_train, y_knn_preds)\n",
    "rc=recall_score(y_train, y_knn_preds)\n",
    "\n",
    "\n",
    "print(\"Precision:\", p)\n",
    "print(\"Recall:\",rc)\n",
    "print(\"F1 score:\", f) \n",
    "print(\"Accuracy:\", a)"
   ]
  },
  {
   "cell_type": "markdown",
   "metadata": {},
   "source": [
    "#### Model Prediction and Evalution"
   ]
  },
  {
   "cell_type": "code",
   "execution_count": 288,
   "metadata": {},
   "outputs": [
    {
     "name": "stdout",
     "output_type": "stream",
     "text": [
      "              precision    recall  f1-score   support\n",
      "\n",
      "           0       0.47      0.55      0.50       787\n",
      "           1       0.54      0.46      0.49       906\n",
      "\n",
      "    accuracy                           0.50      1693\n",
      "   macro avg       0.50      0.50      0.50      1693\n",
      "weighted avg       0.50      0.50      0.50      1693\n",
      "\n",
      "[[430 357]\n",
      " [493 413]]\n",
      "Precision: 0.5363636363636364\n",
      "Recall: 0.45584988962472406\n",
      "F1 score: 0.4928400954653938\n",
      "Accuracy: 0.49793266391021856\n"
     ]
    }
   ],
   "source": [
    "# generate prediction using the model with predict method\n",
    "# calculate prediction using the actuall target and the predicted target\n",
    "#Print metrics\n",
    "preds_knn= knn.predict(X_test)\n",
    "\n",
    "print(classification_report(y_test,preds_knn))\n",
    "print(confusion_matrix(y_test,preds_knn))\n",
    "\n",
    "p = precision_score(y_test,preds_knn)\n",
    "f = f1_score(y_test,preds_knn)\n",
    "a = accuracy_score(y_test,preds_knn)\n",
    "rc=recall_score(y_test,preds_knn)\n",
    "\n",
    "print(\"Precision:\", p)\n",
    "print(\"Recall:\",rc)\n",
    "print(\"F1 score:\", f) \n",
    "print(\"Accuracy:\", a)\n",
    "Accuracy.append(100* accuracy_score(y_test,preds_knn))\n",
    "Precision.append(100* precision_score(y_test,preds_knn,average='weighted'))\n",
    "Recall.append(100* recall_score(y_test,preds_knn,average='weighted'))\n",
    "F1_score.append(100* f1_score(y_test,preds_knn,average='weighted'))"
   ]
  },
  {
   "cell_type": "markdown",
   "metadata": {},
   "source": [
    "Support Vector Machines (SVMs) exhibit stronger resilience to outliers compared to k-Nearest Neighbors (KNN).In this specific case, I observed improved outcome with SVM than KNN."
   ]
  },
  {
   "cell_type": "markdown",
   "metadata": {},
   "source": [
    "### 5. Logistic Regression\n",
    "In the context of S&P 500 prediction, Logistic Regression can be utilized to make binary predictions about whether the S&P 500 index will either rise or fall on a given day."
   ]
  },
  {
   "cell_type": "code",
   "execution_count": 289,
   "metadata": {},
   "outputs": [
    {
     "data": {
      "text/html": [
       "<style>#sk-container-id-36 {color: black;}#sk-container-id-36 pre{padding: 0;}#sk-container-id-36 div.sk-toggleable {background-color: white;}#sk-container-id-36 label.sk-toggleable__label {cursor: pointer;display: block;width: 100%;margin-bottom: 0;padding: 0.3em;box-sizing: border-box;text-align: center;}#sk-container-id-36 label.sk-toggleable__label-arrow:before {content: \"▸\";float: left;margin-right: 0.25em;color: #696969;}#sk-container-id-36 label.sk-toggleable__label-arrow:hover:before {color: black;}#sk-container-id-36 div.sk-estimator:hover label.sk-toggleable__label-arrow:before {color: black;}#sk-container-id-36 div.sk-toggleable__content {max-height: 0;max-width: 0;overflow: hidden;text-align: left;background-color: #f0f8ff;}#sk-container-id-36 div.sk-toggleable__content pre {margin: 0.2em;color: black;border-radius: 0.25em;background-color: #f0f8ff;}#sk-container-id-36 input.sk-toggleable__control:checked~div.sk-toggleable__content {max-height: 200px;max-width: 100%;overflow: auto;}#sk-container-id-36 input.sk-toggleable__control:checked~label.sk-toggleable__label-arrow:before {content: \"▾\";}#sk-container-id-36 div.sk-estimator input.sk-toggleable__control:checked~label.sk-toggleable__label {background-color: #d4ebff;}#sk-container-id-36 div.sk-label input.sk-toggleable__control:checked~label.sk-toggleable__label {background-color: #d4ebff;}#sk-container-id-36 input.sk-hidden--visually {border: 0;clip: rect(1px 1px 1px 1px);clip: rect(1px, 1px, 1px, 1px);height: 1px;margin: -1px;overflow: hidden;padding: 0;position: absolute;width: 1px;}#sk-container-id-36 div.sk-estimator {font-family: monospace;background-color: #f0f8ff;border: 1px dotted black;border-radius: 0.25em;box-sizing: border-box;margin-bottom: 0.5em;}#sk-container-id-36 div.sk-estimator:hover {background-color: #d4ebff;}#sk-container-id-36 div.sk-parallel-item::after {content: \"\";width: 100%;border-bottom: 1px solid gray;flex-grow: 1;}#sk-container-id-36 div.sk-label:hover label.sk-toggleable__label {background-color: #d4ebff;}#sk-container-id-36 div.sk-serial::before {content: \"\";position: absolute;border-left: 1px solid gray;box-sizing: border-box;top: 0;bottom: 0;left: 50%;z-index: 0;}#sk-container-id-36 div.sk-serial {display: flex;flex-direction: column;align-items: center;background-color: white;padding-right: 0.2em;padding-left: 0.2em;position: relative;}#sk-container-id-36 div.sk-item {position: relative;z-index: 1;}#sk-container-id-36 div.sk-parallel {display: flex;align-items: stretch;justify-content: center;background-color: white;position: relative;}#sk-container-id-36 div.sk-item::before, #sk-container-id-36 div.sk-parallel-item::before {content: \"\";position: absolute;border-left: 1px solid gray;box-sizing: border-box;top: 0;bottom: 0;left: 50%;z-index: -1;}#sk-container-id-36 div.sk-parallel-item {display: flex;flex-direction: column;z-index: 1;position: relative;background-color: white;}#sk-container-id-36 div.sk-parallel-item:first-child::after {align-self: flex-end;width: 50%;}#sk-container-id-36 div.sk-parallel-item:last-child::after {align-self: flex-start;width: 50%;}#sk-container-id-36 div.sk-parallel-item:only-child::after {width: 0;}#sk-container-id-36 div.sk-dashed-wrapped {border: 1px dashed gray;margin: 0 0.4em 0.5em 0.4em;box-sizing: border-box;padding-bottom: 0.4em;background-color: white;}#sk-container-id-36 div.sk-label label {font-family: monospace;font-weight: bold;display: inline-block;line-height: 1.2em;}#sk-container-id-36 div.sk-label-container {text-align: center;}#sk-container-id-36 div.sk-container {/* jupyter's `normalize.less` sets `[hidden] { display: none; }` but bootstrap.min.css set `[hidden] { display: none !important; }` so we also need the `!important` here to be able to override the default hidden behavior on the sphinx rendered scikit-learn.org. See: https://github.com/scikit-learn/scikit-learn/issues/21755 */display: inline-block !important;position: relative;}#sk-container-id-36 div.sk-text-repr-fallback {display: none;}</style><div id=\"sk-container-id-36\" class=\"sk-top-container\"><div class=\"sk-text-repr-fallback\"><pre>LogisticRegression(max_iter=1000, solver=&#x27;saga&#x27;)</pre><b>In a Jupyter environment, please rerun this cell to show the HTML representation or trust the notebook. <br />On GitHub, the HTML representation is unable to render, please try loading this page with nbviewer.org.</b></div><div class=\"sk-container\" hidden><div class=\"sk-item\"><div class=\"sk-estimator sk-toggleable\"><input class=\"sk-toggleable__control sk-hidden--visually\" id=\"sk-estimator-id-60\" type=\"checkbox\" checked><label for=\"sk-estimator-id-60\" class=\"sk-toggleable__label sk-toggleable__label-arrow\">LogisticRegression</label><div class=\"sk-toggleable__content\"><pre>LogisticRegression(max_iter=1000, solver=&#x27;saga&#x27;)</pre></div></div></div></div></div>"
      ],
      "text/plain": [
       "LogisticRegression(max_iter=1000, solver='saga')"
      ]
     },
     "execution_count": 289,
     "metadata": {},
     "output_type": "execute_result"
    }
   ],
   "source": [
    "#Start with default setting for logistic regression\n",
    "model_log = LogisticRegression(solver='saga', max_iter=1000)\n",
    "#train the algorithm\n",
    "model_log.fit(X_train, y_train)"
   ]
  },
  {
   "cell_type": "code",
   "execution_count": 290,
   "metadata": {},
   "outputs": [
    {
     "name": "stdout",
     "output_type": "stream",
     "text": [
      "              precision    recall  f1-score   support\n",
      "\n",
      "           0       0.00      0.00      0.00      3154\n",
      "           1       0.53      1.00      0.70      3617\n",
      "\n",
      "    accuracy                           0.53      6771\n",
      "   macro avg       0.27      0.50      0.35      6771\n",
      "weighted avg       0.29      0.53      0.37      6771\n",
      "\n",
      "[[   0 3154]\n",
      " [   0 3617]]\n",
      "Precision: 0.5341899276325506\n",
      "Recall: 1.0\n",
      "F1 score: 0.69638043896804\n",
      "Accuracy: 0.5341899276325506\n"
     ]
    },
    {
     "name": "stderr",
     "output_type": "stream",
     "text": [
      "C:\\Users\\suraf\\anaconda3\\lib\\site-packages\\sklearn\\metrics\\_classification.py:1469: UndefinedMetricWarning: Precision and F-score are ill-defined and being set to 0.0 in labels with no predicted samples. Use `zero_division` parameter to control this behavior.\n",
      "  _warn_prf(average, modifier, msg_start, len(result))\n",
      "C:\\Users\\suraf\\anaconda3\\lib\\site-packages\\sklearn\\metrics\\_classification.py:1469: UndefinedMetricWarning: Precision and F-score are ill-defined and being set to 0.0 in labels with no predicted samples. Use `zero_division` parameter to control this behavior.\n",
      "  _warn_prf(average, modifier, msg_start, len(result))\n",
      "C:\\Users\\suraf\\anaconda3\\lib\\site-packages\\sklearn\\metrics\\_classification.py:1469: UndefinedMetricWarning: Precision and F-score are ill-defined and being set to 0.0 in labels with no predicted samples. Use `zero_division` parameter to control this behavior.\n",
      "  _warn_prf(average, modifier, msg_start, len(result))\n"
     ]
    }
   ],
   "source": [
    "# train the model\n",
    "model_log.score(X_train, y_train)\n",
    "\n",
    "#Print metrics\n",
    "y_log_preds = model_log.predict(X_train)\n",
    "\n",
    "print(classification_report(y_train,y_log_preds))\n",
    "print(confusion_matrix(y_train, y_log_preds))\n",
    "\n",
    "p = precision_score(y_train, y_log_preds)\n",
    "f = f1_score(y_train, y_log_preds)\n",
    "a = metrics.accuracy_score(y_train, y_log_preds)\n",
    "rc=recall_score(y_train, y_log_preds)\n",
    "\n",
    "print(\"Precision:\", p)\n",
    "print(\"Recall:\",rc)\n",
    "print(\"F1 score:\", f) \n",
    "print(\"Accuracy:\", a)"
   ]
  },
  {
   "cell_type": "markdown",
   "metadata": {},
   "source": [
    "#### Model Prediction and Evalution"
   ]
  },
  {
   "cell_type": "code",
   "execution_count": 291,
   "metadata": {},
   "outputs": [
    {
     "name": "stdout",
     "output_type": "stream",
     "text": [
      "              precision    recall  f1-score   support\n",
      "\n",
      "           0       0.00      0.00      0.00       787\n",
      "           1       0.54      1.00      0.70       906\n",
      "\n",
      "    accuracy                           0.54      1693\n",
      "   macro avg       0.27      0.50      0.35      1693\n",
      "weighted avg       0.29      0.54      0.37      1693\n",
      "\n",
      "[[  0 787]\n",
      " [  0 906]]\n",
      "Precision: 0.5351447135262847\n",
      "Recall: 1.0\n",
      "F1 score: 0.697191227395152\n",
      "Accuracy: 0.5351447135262847\n"
     ]
    },
    {
     "name": "stderr",
     "output_type": "stream",
     "text": [
      "C:\\Users\\suraf\\anaconda3\\lib\\site-packages\\sklearn\\metrics\\_classification.py:1469: UndefinedMetricWarning: Precision and F-score are ill-defined and being set to 0.0 in labels with no predicted samples. Use `zero_division` parameter to control this behavior.\n",
      "  _warn_prf(average, modifier, msg_start, len(result))\n",
      "C:\\Users\\suraf\\anaconda3\\lib\\site-packages\\sklearn\\metrics\\_classification.py:1469: UndefinedMetricWarning: Precision and F-score are ill-defined and being set to 0.0 in labels with no predicted samples. Use `zero_division` parameter to control this behavior.\n",
      "  _warn_prf(average, modifier, msg_start, len(result))\n",
      "C:\\Users\\suraf\\anaconda3\\lib\\site-packages\\sklearn\\metrics\\_classification.py:1469: UndefinedMetricWarning: Precision and F-score are ill-defined and being set to 0.0 in labels with no predicted samples. Use `zero_division` parameter to control this behavior.\n",
      "  _warn_prf(average, modifier, msg_start, len(result))\n",
      "C:\\Users\\suraf\\anaconda3\\lib\\site-packages\\sklearn\\metrics\\_classification.py:1469: UndefinedMetricWarning: Precision is ill-defined and being set to 0.0 in labels with no predicted samples. Use `zero_division` parameter to control this behavior.\n",
      "  _warn_prf(average, modifier, msg_start, len(result))\n"
     ]
    }
   ],
   "source": [
    "# generate prediction using the model with predict method\n",
    "# calculate prediction using the actuall target and the predicted target\n",
    "#Print metrics\n",
    "preds_log= model_log.predict(X_test)\n",
    "\n",
    "print(classification_report(y_test,preds_log))\n",
    "print(confusion_matrix(y_test,preds_log))\n",
    "\n",
    "p = precision_score(y_test,preds_log)\n",
    "f = f1_score(y_test,preds_log)\n",
    "a = accuracy_score(y_test,preds_log)\n",
    "rc=recall_score(y_test,preds_log)\n",
    "\n",
    "print(\"Precision:\", p)\n",
    "print(\"Recall:\",rc)\n",
    "print(\"F1 score:\", f) \n",
    "print(\"Accuracy:\", a)\n",
    "Accuracy.append(100* accuracy_score(y_test,preds_log))\n",
    "Precision.append(100* precision_score(y_test,preds_log,average='weighted'))\n",
    "Recall.append(100* recall_score(y_test,preds_log,average='weighted'))\n",
    "F1_score.append(100* f1_score(y_test,preds_log,average='weighted'))"
   ]
  },
  {
   "cell_type": "markdown",
   "metadata": {},
   "source": [
    "Until now, the SVM and Logistic Regression models have exhibited strikingly similar outcomes, closely mirroring those of Random Forest, Decision Tree, and KNN models. Now, it's time to evaluate the performance of the remaining models."
   ]
  },
  {
   "cell_type": "markdown",
   "metadata": {},
   "source": [
    "### 6. XG BOOST"
   ]
  },
  {
   "cell_type": "markdown",
   "metadata": {},
   "source": [
    "XGBoost harnesses the strengths of both random forest and gradient boosting, resulting in a prediction error that is typically lower than that of boosting or random forest alone. When fine-tuning XGBoost hyperparameters, my primary focus is on adjusting the early_stopping_rounds value. Moreover, the default learning rate of 0.1 has proven effective in this scenario."
   ]
  },
  {
   "cell_type": "code",
   "execution_count": 386,
   "metadata": {},
   "outputs": [
    {
     "name": "stdout",
     "output_type": "stream",
     "text": [
      "[03:12:45] WARNING: C:\\buildkite-agent\\builds\\buildkite-windows-cpu-autoscaling-group-i-0fdc6d574b9c0d168-1\\xgboost\\xgboost-ci-windows\\src\\learner.cc:767: \n",
      "Parameters: { \"weighted\" } are not used.\n",
      "\n",
      "[0]\tvalidation_0-logloss:0.69110\n",
      "[1]\tvalidation_0-logloss:0.69200\n",
      "[2]\tvalidation_0-logloss:0.69241\n",
      "[3]\tvalidation_0-logloss:0.69277\n",
      "[4]\tvalidation_0-logloss:0.69355\n",
      "[5]\tvalidation_0-logloss:0.69427\n",
      "[6]\tvalidation_0-logloss:0.69506\n",
      "[7]\tvalidation_0-logloss:0.69522\n",
      "[8]\tvalidation_0-logloss:0.69658\n"
     ]
    },
    {
     "name": "stderr",
     "output_type": "stream",
     "text": [
      "C:\\Users\\suraf\\anaconda3\\lib\\site-packages\\xgboost\\sklearn.py:835: UserWarning: `early_stopping_rounds` in `fit` method is deprecated for better compatibility with scikit-learn, use `early_stopping_rounds` in constructor or`set_params` instead.\n",
      "  warnings.warn(\n"
     ]
    },
    {
     "name": "stdout",
     "output_type": "stream",
     "text": [
      "[9]\tvalidation_0-logloss:0.69661\n",
      "[10]\tvalidation_0-logloss:0.69785\n",
      "[11]\tvalidation_0-logloss:0.69866\n",
      "[12]\tvalidation_0-logloss:0.69959\n",
      "[13]\tvalidation_0-logloss:0.70034\n",
      "[14]\tvalidation_0-logloss:0.70013\n"
     ]
    },
    {
     "data": {
      "text/html": [
       "<style>#sk-container-id-41 {color: black;}#sk-container-id-41 pre{padding: 0;}#sk-container-id-41 div.sk-toggleable {background-color: white;}#sk-container-id-41 label.sk-toggleable__label {cursor: pointer;display: block;width: 100%;margin-bottom: 0;padding: 0.3em;box-sizing: border-box;text-align: center;}#sk-container-id-41 label.sk-toggleable__label-arrow:before {content: \"▸\";float: left;margin-right: 0.25em;color: #696969;}#sk-container-id-41 label.sk-toggleable__label-arrow:hover:before {color: black;}#sk-container-id-41 div.sk-estimator:hover label.sk-toggleable__label-arrow:before {color: black;}#sk-container-id-41 div.sk-toggleable__content {max-height: 0;max-width: 0;overflow: hidden;text-align: left;background-color: #f0f8ff;}#sk-container-id-41 div.sk-toggleable__content pre {margin: 0.2em;color: black;border-radius: 0.25em;background-color: #f0f8ff;}#sk-container-id-41 input.sk-toggleable__control:checked~div.sk-toggleable__content {max-height: 200px;max-width: 100%;overflow: auto;}#sk-container-id-41 input.sk-toggleable__control:checked~label.sk-toggleable__label-arrow:before {content: \"▾\";}#sk-container-id-41 div.sk-estimator input.sk-toggleable__control:checked~label.sk-toggleable__label {background-color: #d4ebff;}#sk-container-id-41 div.sk-label input.sk-toggleable__control:checked~label.sk-toggleable__label {background-color: #d4ebff;}#sk-container-id-41 input.sk-hidden--visually {border: 0;clip: rect(1px 1px 1px 1px);clip: rect(1px, 1px, 1px, 1px);height: 1px;margin: -1px;overflow: hidden;padding: 0;position: absolute;width: 1px;}#sk-container-id-41 div.sk-estimator {font-family: monospace;background-color: #f0f8ff;border: 1px dotted black;border-radius: 0.25em;box-sizing: border-box;margin-bottom: 0.5em;}#sk-container-id-41 div.sk-estimator:hover {background-color: #d4ebff;}#sk-container-id-41 div.sk-parallel-item::after {content: \"\";width: 100%;border-bottom: 1px solid gray;flex-grow: 1;}#sk-container-id-41 div.sk-label:hover label.sk-toggleable__label {background-color: #d4ebff;}#sk-container-id-41 div.sk-serial::before {content: \"\";position: absolute;border-left: 1px solid gray;box-sizing: border-box;top: 0;bottom: 0;left: 50%;z-index: 0;}#sk-container-id-41 div.sk-serial {display: flex;flex-direction: column;align-items: center;background-color: white;padding-right: 0.2em;padding-left: 0.2em;position: relative;}#sk-container-id-41 div.sk-item {position: relative;z-index: 1;}#sk-container-id-41 div.sk-parallel {display: flex;align-items: stretch;justify-content: center;background-color: white;position: relative;}#sk-container-id-41 div.sk-item::before, #sk-container-id-41 div.sk-parallel-item::before {content: \"\";position: absolute;border-left: 1px solid gray;box-sizing: border-box;top: 0;bottom: 0;left: 50%;z-index: -1;}#sk-container-id-41 div.sk-parallel-item {display: flex;flex-direction: column;z-index: 1;position: relative;background-color: white;}#sk-container-id-41 div.sk-parallel-item:first-child::after {align-self: flex-end;width: 50%;}#sk-container-id-41 div.sk-parallel-item:last-child::after {align-self: flex-start;width: 50%;}#sk-container-id-41 div.sk-parallel-item:only-child::after {width: 0;}#sk-container-id-41 div.sk-dashed-wrapped {border: 1px dashed gray;margin: 0 0.4em 0.5em 0.4em;box-sizing: border-box;padding-bottom: 0.4em;background-color: white;}#sk-container-id-41 div.sk-label label {font-family: monospace;font-weight: bold;display: inline-block;line-height: 1.2em;}#sk-container-id-41 div.sk-label-container {text-align: center;}#sk-container-id-41 div.sk-container {/* jupyter's `normalize.less` sets `[hidden] { display: none; }` but bootstrap.min.css set `[hidden] { display: none !important; }` so we also need the `!important` here to be able to override the default hidden behavior on the sphinx rendered scikit-learn.org. See: https://github.com/scikit-learn/scikit-learn/issues/21755 */display: inline-block !important;position: relative;}#sk-container-id-41 div.sk-text-repr-fallback {display: none;}</style><div id=\"sk-container-id-41\" class=\"sk-top-container\"><div class=\"sk-text-repr-fallback\"><pre>XGBClassifier(base_score=None, booster=None, callbacks=None,\n",
       "              colsample_bylevel=None, colsample_bynode=None,\n",
       "              colsample_bytree=None, early_stopping_rounds=None,\n",
       "              enable_categorical=False, eval_metric=None, feature_types=None,\n",
       "              gamma=None, gpu_id=None, grow_policy=None, importance_type=None,\n",
       "              interaction_constraints=None, learning_rate=None, max_bin=None,\n",
       "              max_cat_threshold=None, max_cat_to_onehot=None,\n",
       "              max_delta_step=None, max_depth=None, max_leaves=None,\n",
       "              min_child_weight=None, missing=nan, monotone_constraints=None,\n",
       "              n_estimators=100, n_jobs=None, num_parallel_tree=None,\n",
       "              predictor=None, random_state=42, ...)</pre><b>In a Jupyter environment, please rerun this cell to show the HTML representation or trust the notebook. <br />On GitHub, the HTML representation is unable to render, please try loading this page with nbviewer.org.</b></div><div class=\"sk-container\" hidden><div class=\"sk-item\"><div class=\"sk-estimator sk-toggleable\"><input class=\"sk-toggleable__control sk-hidden--visually\" id=\"sk-estimator-id-69\" type=\"checkbox\" checked><label for=\"sk-estimator-id-69\" class=\"sk-toggleable__label sk-toggleable__label-arrow\">XGBClassifier</label><div class=\"sk-toggleable__content\"><pre>XGBClassifier(base_score=None, booster=None, callbacks=None,\n",
       "              colsample_bylevel=None, colsample_bynode=None,\n",
       "              colsample_bytree=None, early_stopping_rounds=None,\n",
       "              enable_categorical=False, eval_metric=None, feature_types=None,\n",
       "              gamma=None, gpu_id=None, grow_policy=None, importance_type=None,\n",
       "              interaction_constraints=None, learning_rate=None, max_bin=None,\n",
       "              max_cat_threshold=None, max_cat_to_onehot=None,\n",
       "              max_delta_step=None, max_depth=None, max_leaves=None,\n",
       "              min_child_weight=None, missing=nan, monotone_constraints=None,\n",
       "              n_estimators=100, n_jobs=None, num_parallel_tree=None,\n",
       "              predictor=None, random_state=42, ...)</pre></div></div></div></div></div>"
      ],
      "text/plain": [
       "XGBClassifier(base_score=None, booster=None, callbacks=None,\n",
       "              colsample_bylevel=None, colsample_bynode=None,\n",
       "              colsample_bytree=None, early_stopping_rounds=None,\n",
       "              enable_categorical=False, eval_metric=None, feature_types=None,\n",
       "              gamma=None, gpu_id=None, grow_policy=None, importance_type=None,\n",
       "              interaction_constraints=None, learning_rate=None, max_bin=None,\n",
       "              max_cat_threshold=None, max_cat_to_onehot=None,\n",
       "              max_delta_step=None, max_depth=None, max_leaves=None,\n",
       "              min_child_weight=None, missing=nan, monotone_constraints=None,\n",
       "              n_estimators=100, n_jobs=None, num_parallel_tree=None,\n",
       "              predictor=None, random_state=42, ...)"
      ]
     },
     "execution_count": 386,
     "metadata": {},
     "output_type": "execute_result"
    }
   ],
   "source": [
    "# define the model\n",
    "xgb_clf = xgb.XGBClassifier(weighted='balanced',random_state=42)\n",
    "\n",
    "#Vary the stopping value for checking difference of parameters.\n",
    "xgb_clf.fit(X_train, y_train, early_stopping_rounds=15, eval_set=[(X_test, y_test)])\n"
   ]
  },
  {
   "cell_type": "code",
   "execution_count": 387,
   "metadata": {},
   "outputs": [
    {
     "name": "stdout",
     "output_type": "stream",
     "text": [
      "              precision    recall  f1-score   support\n",
      "\n",
      "           0       0.59      0.19      0.29      3154\n",
      "           1       0.56      0.88      0.68      3617\n",
      "\n",
      "    accuracy                           0.56      6771\n",
      "   macro avg       0.57      0.54      0.49      6771\n",
      "weighted avg       0.57      0.56      0.50      6771\n",
      "\n",
      "[[ 610 2544]\n",
      " [ 431 3186]]\n",
      "Precision: 0.556020942408377\n",
      "Recall: 0.880840475532209\n",
      "F1 score: 0.6817160586284369\n",
      "Accuracy: 0.5606261999704623\n"
     ]
    }
   ],
   "source": [
    "xgb_clf.score(X_train, y_train)\n",
    "\n",
    "#Print metrics\n",
    "y_preds_xgb = xgb_clf.predict(X_train)\n",
    "\n",
    "print(classification_report(y_train, y_preds_xgb))\n",
    "print(confusion_matrix(y_train, y_preds_xgb))\n",
    "\n",
    "p = precision_score(y_train, y_preds_xgb)\n",
    "f = f1_score(y_train, y_preds_xgb)\n",
    "a = metrics.accuracy_score(y_train, y_preds_xgb)\n",
    "rc=recall_score(y_train, y_preds_xgb)\n",
    "\n",
    "print(\"Precision:\", p)\n",
    "print(\"Recall:\",rc)\n",
    "print(\"F1 score:\", f) \n",
    "print(\"Accuracy:\", a)"
   ]
  },
  {
   "cell_type": "markdown",
   "metadata": {},
   "source": [
    "#### Model Prediction and Evalution"
   ]
  },
  {
   "cell_type": "code",
   "execution_count": 388,
   "metadata": {},
   "outputs": [
    {
     "name": "stdout",
     "output_type": "stream",
     "text": [
      "              precision    recall  f1-score   support\n",
      "\n",
      "           0       0.51      0.18      0.26       787\n",
      "           1       0.54      0.85      0.66       906\n",
      "\n",
      "    accuracy                           0.54      1693\n",
      "   macro avg       0.52      0.51      0.46      1693\n",
      "weighted avg       0.53      0.54      0.48      1693\n",
      "\n",
      "[[138 649]\n",
      " [135 771]]\n",
      "Precision: 0.5429577464788733\n",
      "Recall: 0.8509933774834437\n",
      "F1 score: 0.6629406706792778\n",
      "Accuracy: 0.5369167158889545\n"
     ]
    }
   ],
   "source": [
    "# generate prediction using the model with predict method\n",
    "# calculate prediction using the actuall target and the predicted target\n",
    "#Print metrics\n",
    "preds_xgb= xgb_clf.predict(X_test)\n",
    "\n",
    "print(classification_report(y_test,preds_xgb))\n",
    "print(confusion_matrix(y_test,preds_xgb))\n",
    "\n",
    "p = precision_score(y_test,preds_xgb)\n",
    "f = f1_score(y_test,preds_xgb)\n",
    "a = accuracy_score(y_test,preds_xgb)\n",
    "rc=recall_score(y_test,preds_xgb)\n",
    "\n",
    "print(\"Precision:\", p)\n",
    "print(\"Recall:\",rc)\n",
    "print(\"F1 score:\", f) \n",
    "print(\"Accuracy:\", a)\n",
    "Accuracy.append(100* accuracy_score(y_test,preds_xgb))\n",
    "Precision.append(100* precision_score(y_test,preds_xgb,average='weighted'))\n",
    "Recall.append(100* recall_score(y_test,preds_xgb,average='weighted'))\n",
    "F1_score.append(100* f1_score(y_test,preds_xgb,average='weighted'))"
   ]
  },
  {
   "cell_type": "markdown",
   "metadata": {},
   "source": [
    "The results demonstrated that it outperforms DecisionTree and KNN across nearly all metrics, while also requiring less time for computation.Inaddition, it has comparable accuracy with SVM and logistics regression."
   ]
  },
  {
   "cell_type": "markdown",
   "metadata": {},
   "source": [
    "#### Feature importance with XGBoost."
   ]
  },
  {
   "cell_type": "markdown",
   "metadata": {},
   "source": [
    "- Feature importance with XGBoost. One of the many benefits of using XGBoost is that it can automatically provide estimates of feature importance from a trained\n",
    "predictive model."
   ]
  },
  {
   "cell_type": "code",
   "execution_count": 389,
   "metadata": {},
   "outputs": [
    {
     "data": {
      "image/png": "[encoded data removed]",
      "text/plain": [
       "<Figure size 432x288 with 1 Axes>"
      ]
     },
     "metadata": {},
     "output_type": "display_data"
    }
   ],
   "source": [
    "# calculates the importance of each feature in the training data\n",
    "xgb.plot_importance(xgb_clf)\n",
    "plt.show()\n",
    "fig.savefig('w20.png')\n"
   ]
  },
  {
   "cell_type": "markdown",
   "metadata": {},
   "source": [
    "### 7. Ensemble Model\n",
    "\n",
    "The ensemble approach involves assembling four individual models into an array known as 'estimators,' which serves as the foundation for constructing a voting classifier. This voting classifier takes a pair of inputs: the first input being the array of estimators that encompasses the four models. The fundamental principle behind a voting ensemble is to aggregate predictions generated by classification models through summation or by averaging predictions from regression models. Additionally, it provides us with the flexibility to adjust parameters for the SVM model.\n",
    "\n",
    "In the initial phase, I configured the voting parameter to 'hard,' guiding the classifier to make straightforward predictions. However, through research, I came to realize that utilizing 'soft' voting often yields superior performance compared to hard voting. This is attributed to the heightened significance placed on highly confident votes. The key distinction lies in the approach: 'soft' voting involves summing the predicted probabilities for each label. To simplify, while 'hard' voting predicts the majority label, 'soft' voting predicts the label associated with the highest predicted probability.\n",
    "\n",
    "Upon implementing 'soft' voting for the model, I observed a modest enhancement in its performance.\n",
    "\n",
    "With the refined ensemble model in place, I will proceed to train it using the training data and subsequently evaluate its performance on the testing data."
   ]
  },
  {
   "cell_type": "code",
   "execution_count": 299,
   "metadata": {},
   "outputs": [
    {
     "data": {
      "text/html": [
       "<style>#sk-container-id-39 {color: black;}#sk-container-id-39 pre{padding: 0;}#sk-container-id-39 div.sk-toggleable {background-color: white;}#sk-container-id-39 label.sk-toggleable__label {cursor: pointer;display: block;width: 100%;margin-bottom: 0;padding: 0.3em;box-sizing: border-box;text-align: center;}#sk-container-id-39 label.sk-toggleable__label-arrow:before {content: \"▸\";float: left;margin-right: 0.25em;color: #696969;}#sk-container-id-39 label.sk-toggleable__label-arrow:hover:before {color: black;}#sk-container-id-39 div.sk-estimator:hover label.sk-toggleable__label-arrow:before {color: black;}#sk-container-id-39 div.sk-toggleable__content {max-height: 0;max-width: 0;overflow: hidden;text-align: left;background-color: #f0f8ff;}#sk-container-id-39 div.sk-toggleable__content pre {margin: 0.2em;color: black;border-radius: 0.25em;background-color: #f0f8ff;}#sk-container-id-39 input.sk-toggleable__control:checked~div.sk-toggleable__content {max-height: 200px;max-width: 100%;overflow: auto;}#sk-container-id-39 input.sk-toggleable__control:checked~label.sk-toggleable__label-arrow:before {content: \"▾\";}#sk-container-id-39 div.sk-estimator input.sk-toggleable__control:checked~label.sk-toggleable__label {background-color: #d4ebff;}#sk-container-id-39 div.sk-label input.sk-toggleable__control:checked~label.sk-toggleable__label {background-color: #d4ebff;}#sk-container-id-39 input.sk-hidden--visually {border: 0;clip: rect(1px 1px 1px 1px);clip: rect(1px, 1px, 1px, 1px);height: 1px;margin: -1px;overflow: hidden;padding: 0;position: absolute;width: 1px;}#sk-container-id-39 div.sk-estimator {font-family: monospace;background-color: #f0f8ff;border: 1px dotted black;border-radius: 0.25em;box-sizing: border-box;margin-bottom: 0.5em;}#sk-container-id-39 div.sk-estimator:hover {background-color: #d4ebff;}#sk-container-id-39 div.sk-parallel-item::after {content: \"\";width: 100%;border-bottom: 1px solid gray;flex-grow: 1;}#sk-container-id-39 div.sk-label:hover label.sk-toggleable__label {background-color: #d4ebff;}#sk-container-id-39 div.sk-serial::before {content: \"\";position: absolute;border-left: 1px solid gray;box-sizing: border-box;top: 0;bottom: 0;left: 50%;z-index: 0;}#sk-container-id-39 div.sk-serial {display: flex;flex-direction: column;align-items: center;background-color: white;padding-right: 0.2em;padding-left: 0.2em;position: relative;}#sk-container-id-39 div.sk-item {position: relative;z-index: 1;}#sk-container-id-39 div.sk-parallel {display: flex;align-items: stretch;justify-content: center;background-color: white;position: relative;}#sk-container-id-39 div.sk-item::before, #sk-container-id-39 div.sk-parallel-item::before {content: \"\";position: absolute;border-left: 1px solid gray;box-sizing: border-box;top: 0;bottom: 0;left: 50%;z-index: -1;}#sk-container-id-39 div.sk-parallel-item {display: flex;flex-direction: column;z-index: 1;position: relative;background-color: white;}#sk-container-id-39 div.sk-parallel-item:first-child::after {align-self: flex-end;width: 50%;}#sk-container-id-39 div.sk-parallel-item:last-child::after {align-self: flex-start;width: 50%;}#sk-container-id-39 div.sk-parallel-item:only-child::after {width: 0;}#sk-container-id-39 div.sk-dashed-wrapped {border: 1px dashed gray;margin: 0 0.4em 0.5em 0.4em;box-sizing: border-box;padding-bottom: 0.4em;background-color: white;}#sk-container-id-39 div.sk-label label {font-family: monospace;font-weight: bold;display: inline-block;line-height: 1.2em;}#sk-container-id-39 div.sk-label-container {text-align: center;}#sk-container-id-39 div.sk-container {/* jupyter's `normalize.less` sets `[hidden] { display: none; }` but bootstrap.min.css set `[hidden] { display: none !important; }` so we also need the `!important` here to be able to override the default hidden behavior on the sphinx rendered scikit-learn.org. See: https://github.com/scikit-learn/scikit-learn/issues/21755 */display: inline-block !important;position: relative;}#sk-container-id-39 div.sk-text-repr-fallback {display: none;}</style><div id=\"sk-container-id-39\" class=\"sk-top-container\"><div class=\"sk-text-repr-fallback\"><pre>VotingClassifier(estimators=[(&#x27;Random Forest&#x27;,\n",
       "                              RandomForestClassifier(class_weight=&#x27;balanced&#x27;,\n",
       "                                                     max_depth=10,\n",
       "                                                     min_samples_split=8,\n",
       "                                                     random_state=42)),\n",
       "                             (&#x27; DecisionTree&#x27;,\n",
       "                              DecisionTreeClassifier(max_depth=12,\n",
       "                                                     min_samples_split=10)),\n",
       "                             (&#x27;Regression Model&#x27;,\n",
       "                              LogisticRegression(max_iter=1000, solver=&#x27;saga&#x27;)),\n",
       "                             (&#x27;SVM&#x27;, SVC(kernel=&#x27;poly&#x27;, probability=True))],\n",
       "                 voting=&#x27;soft&#x27;)</pre><b>In a Jupyter environment, please rerun this cell to show the HTML representation or trust the notebook. <br />On GitHub, the HTML representation is unable to render, please try loading this page with nbviewer.org.</b></div><div class=\"sk-container\" hidden><div class=\"sk-item sk-dashed-wrapped\"><div class=\"sk-label-container\"><div class=\"sk-label sk-toggleable\"><input class=\"sk-toggleable__control sk-hidden--visually\" id=\"sk-estimator-id-63\" type=\"checkbox\" ><label for=\"sk-estimator-id-63\" class=\"sk-toggleable__label sk-toggleable__label-arrow\">VotingClassifier</label><div class=\"sk-toggleable__content\"><pre>VotingClassifier(estimators=[(&#x27;Random Forest&#x27;,\n",
       "                              RandomForestClassifier(class_weight=&#x27;balanced&#x27;,\n",
       "                                                     max_depth=10,\n",
       "                                                     min_samples_split=8,\n",
       "                                                     random_state=42)),\n",
       "                             (&#x27; DecisionTree&#x27;,\n",
       "                              DecisionTreeClassifier(max_depth=12,\n",
       "                                                     min_samples_split=10)),\n",
       "                             (&#x27;Regression Model&#x27;,\n",
       "                              LogisticRegression(max_iter=1000, solver=&#x27;saga&#x27;)),\n",
       "                             (&#x27;SVM&#x27;, SVC(kernel=&#x27;poly&#x27;, probability=True))],\n",
       "                 voting=&#x27;soft&#x27;)</pre></div></div></div><div class=\"sk-parallel\"><div class=\"sk-parallel-item\"><div class=\"sk-item\"><div class=\"sk-label-container\"><div class=\"sk-label sk-toggleable\"><label>Random Forest</label></div></div><div class=\"sk-serial\"><div class=\"sk-item\"><div class=\"sk-estimator sk-toggleable\"><input class=\"sk-toggleable__control sk-hidden--visually\" id=\"sk-estimator-id-64\" type=\"checkbox\" ><label for=\"sk-estimator-id-64\" class=\"sk-toggleable__label sk-toggleable__label-arrow\">RandomForestClassifier</label><div class=\"sk-toggleable__content\"><pre>RandomForestClassifier(class_weight=&#x27;balanced&#x27;, max_depth=10,\n",
       "                       min_samples_split=8, random_state=42)</pre></div></div></div></div></div></div><div class=\"sk-parallel-item\"><div class=\"sk-item\"><div class=\"sk-label-container\"><div class=\"sk-label sk-toggleable\"><label> DecisionTree</label></div></div><div class=\"sk-serial\"><div class=\"sk-item\"><div class=\"sk-estimator sk-toggleable\"><input class=\"sk-toggleable__control sk-hidden--visually\" id=\"sk-estimator-id-65\" type=\"checkbox\" ><label for=\"sk-estimator-id-65\" class=\"sk-toggleable__label sk-toggleable__label-arrow\">DecisionTreeClassifier</label><div class=\"sk-toggleable__content\"><pre>DecisionTreeClassifier(max_depth=12, min_samples_split=10)</pre></div></div></div></div></div></div><div class=\"sk-parallel-item\"><div class=\"sk-item\"><div class=\"sk-label-container\"><div class=\"sk-label sk-toggleable\"><label>Regression Model</label></div></div><div class=\"sk-serial\"><div class=\"sk-item\"><div class=\"sk-estimator sk-toggleable\"><input class=\"sk-toggleable__control sk-hidden--visually\" id=\"sk-estimator-id-66\" type=\"checkbox\" ><label for=\"sk-estimator-id-66\" class=\"sk-toggleable__label sk-toggleable__label-arrow\">LogisticRegression</label><div class=\"sk-toggleable__content\"><pre>LogisticRegression(max_iter=1000, solver=&#x27;saga&#x27;)</pre></div></div></div></div></div></div><div class=\"sk-parallel-item\"><div class=\"sk-item\"><div class=\"sk-label-container\"><div class=\"sk-label sk-toggleable\"><label>SVM</label></div></div><div class=\"sk-serial\"><div class=\"sk-item\"><div class=\"sk-estimator sk-toggleable\"><input class=\"sk-toggleable__control sk-hidden--visually\" id=\"sk-estimator-id-67\" type=\"checkbox\" ><label for=\"sk-estimator-id-67\" class=\"sk-toggleable__label sk-toggleable__label-arrow\">SVC</label><div class=\"sk-toggleable__content\"><pre>SVC(kernel=&#x27;poly&#x27;, probability=True)</pre></div></div></div></div></div></div></div></div></div></div>"
      ],
      "text/plain": [
       "VotingClassifier(estimators=[('Random Forest',\n",
       "                              RandomForestClassifier(class_weight='balanced',\n",
       "                                                     max_depth=10,\n",
       "                                                     min_samples_split=8,\n",
       "                                                     random_state=42)),\n",
       "                             (' DecisionTree',\n",
       "                              DecisionTreeClassifier(max_depth=12,\n",
       "                                                     min_samples_split=10)),\n",
       "                             ('Regression Model',\n",
       "                              LogisticRegression(max_iter=1000, solver='saga')),\n",
       "                             ('SVM', SVC(kernel='poly', probability=True))],\n",
       "                 voting='soft')"
      ]
     },
     "execution_count": 299,
     "metadata": {},
     "output_type": "execute_result"
    }
   ],
   "source": [
    "#create a dictionary of our models\n",
    "estimators=[('Random Forest', model_1),(' DecisionTree', model_2),('Regression Model', model_log), ('SVM', svm), ]\n",
    "#create our voting classifier, inputting our models\n",
    "ensemble = VotingClassifier(estimators, voting='soft')\n",
    "#fit model to training data\n",
    "ensemble.fit(X_train, y_train)"
   ]
  },
  {
   "cell_type": "code",
   "execution_count": 311,
   "metadata": {},
   "outputs": [
    {
     "name": "stdout",
     "output_type": "stream",
     "text": [
      "              precision    recall  f1-score   support\n",
      "\n",
      "           0       0.87      0.27      0.42      3154\n",
      "           1       0.60      0.96      0.74      3617\n",
      "\n",
      "    accuracy                           0.64      6771\n",
      "   macro avg       0.73      0.62      0.58      6771\n",
      "weighted avg       0.73      0.64      0.59      6771\n",
      "\n",
      "[[ 864 2290]\n",
      " [ 133 3484]]\n",
      "Precision: 0.6033945271908555\n",
      "Recall: 0.9632291954658557\n",
      "F1 score: 0.7419870088382493\n",
      "Accuracy: 0.6421503470683798\n"
     ]
    }
   ],
   "source": [
    "ensemble.score(X_train, y_train)\n",
    "\n",
    "#Print metrics\n",
    "ensemble_preds = ensemble.predict(X_train)\n",
    "\n",
    "print(classification_report(y_train, ensemble_preds))\n",
    "print(confusion_matrix(y_train, ensemble_preds))\n",
    "\n",
    "p = precision_score(y_train,ensemble_preds)\n",
    "f = f1_score(y_train, ensemble_preds)\n",
    "a = accuracy_score(y_train, ensemble_preds)\n",
    "rc=recall_score(y_train, ensemble_preds)\n",
    "\n",
    "print(\"Precision:\", p)\n",
    "print(\"Recall:\",rc)\n",
    "print(\"F1 score:\", f) \n",
    "print(\"Accuracy:\", a)"
   ]
  },
  {
   "cell_type": "code",
   "execution_count": 301,
   "metadata": {},
   "outputs": [
    {
     "data": {
      "text/plain": [
       "0.5298287064382753"
      ]
     },
     "execution_count": 301,
     "metadata": {},
     "output_type": "execute_result"
    }
   ],
   "source": [
    "#test our model on the test data\n",
    "ensemble.score(X_test, y_test)"
   ]
  },
  {
   "cell_type": "markdown",
   "metadata": {},
   "source": [
    "#### Model Prediction and Evalution"
   ]
  },
  {
   "cell_type": "code",
   "execution_count": 312,
   "metadata": {},
   "outputs": [
    {
     "name": "stdout",
     "output_type": "stream",
     "text": [
      "              precision    recall  f1-score   support\n",
      "\n",
      "           0       0.48      0.15      0.23       787\n",
      "           1       0.54      0.86      0.66       906\n",
      "\n",
      "    accuracy                           0.53      1693\n",
      "   macro avg       0.51      0.50      0.44      1693\n",
      "weighted avg       0.51      0.53      0.46      1693\n",
      "\n",
      "[[117 670]\n",
      " [126 780]]\n",
      "Precision: 0.5379310344827586\n",
      "Recall: 0.8609271523178808\n",
      "F1 score: 0.6621392190152801\n",
      "Accuracy: 0.5298287064382753\n"
     ]
    }
   ],
   "source": [
    "# generate prediction using the model with predict method\n",
    "# calculate prediction using the actuall target and the predicted target\n",
    "#Print metrics\n",
    "preds_ensemble= ensemble.predict(X_test)\n",
    "\n",
    "print(classification_report(y_test, preds_ensemble))\n",
    "print(confusion_matrix(y_test, preds_ensemble))\n",
    "\n",
    "p = precision_score(y_test, preds_ensemble)\n",
    "f = f1_score(y_test, preds_ensemble)\n",
    "a = accuracy_score(y_test, preds_ensemble)\n",
    "rc=recall_score(y_test, preds_ensemble)\n",
    "\n",
    "print(\"Precision:\", p)\n",
    "print(\"Recall:\",rc)\n",
    "print(\"F1 score:\", f) \n",
    "print(\"Accuracy:\", a)\n",
    "Accuracy.append(100* accuracy_score(y_test, preds_ensemble))\n",
    "Precision.append(100* precision_score(y_test, preds_ensemble,average='weighted'))\n",
    "Recall.append(100* recall_score(y_test, preds_ensemble,average='weighted'))\n",
    "F1_score.append(100* f1_score(y_test, preds_ensemble,average='weighted'))"
   ]
  },
  {
   "cell_type": "markdown",
   "metadata": {},
   "source": [
    "According to this outcome, the ensemble model demonstrates relatively comparable performance when contrasted with the others."
   ]
  },
  {
   "cell_type": "markdown",
   "metadata": {},
   "source": [
    "#### Building a back testing system\n",
    "My subsequent objective involves establishing a more robust testing methodology for the algorithms, enabling us to accurately gauge its performance over extended time periods. Presently, this testing has been limited to 20 percent of the data. However, as we aspire to create a comprehensive stock price model for real-world application, it becomes imperative to evaluate the algorithms across multiple years of historical data, thereby assessing its adaptability to diverse scenarios and bolstering our confidence for future deployment.\n",
    "\n",
    "To facilitate this, I will undertake a backtesting approach. I'll employ data from the initial 10 years to generate predictions for the subsequent year and I will use one the model which is Random Forest. This process will be iteratively repeated, progressively predicting values for successive years. Such an approach provides predictions across a multitude of years, enhancing the model's reliability and bolstering our confidence in its efficacy.\n",
    "\n",
    "Post backtesting, my focus will shift towards evaluating the accuracy of my predictions.\n"
   ]
  },
  {
   "cell_type": "code",
   "execution_count": 320,
   "metadata": {},
   "outputs": [],
   "source": [
    "# create a prediction function\n",
    "\n",
    "def predict(train,test,predictors,model_1):\n",
    "    model_1.fit(train[predictors],train[\"Target\"])\n",
    "    preds=model_1.predict(test[predictors])\n",
    "    preds=pd.Series(preds,index=test.index,name=\"predictions\")\n",
    "    combined=pd.concat([test[\"Target\"],preds],axis=1)\n",
    "    return combined"
   ]
  },
  {
   "cell_type": "markdown",
   "metadata": {},
   "source": [
    "#### Backtest to check how good our model is:"
   ]
  },
  {
   "cell_type": "code",
   "execution_count": 329,
   "metadata": {},
   "outputs": [],
   "source": [
    "# create backtest function\n",
    "# train the model with 10 year's of data\n",
    "# we will be training a model for about a year then going to the next year\n",
    "# each dataframe is a prediction for a single year\n",
    "# loop the data year by year\n",
    "\n",
    "def backtest(df,model_1,predictors,start=2500,step=250):\n",
    "    all_predictions =[]\n",
    "    \n",
    "    for i in range(start,df.shape[0],step):\n",
    "        train=df.iloc[0:i].copy()\n",
    "        test=df.iloc[i:(i+step)].copy()\n",
    "        predictions=predict(train,test,predictors,model_1)\n",
    "        all_predictions.append(predictions)\n",
    "    return pd.concat(all_predictions) # concat all the predictions together"
   ]
  },
  {
   "cell_type": "code",
   "execution_count": 330,
   "metadata": {
    "scrolled": true
   },
   "outputs": [],
   "source": [
    "# start the backtest\n",
    "predictions=backtest(df,model_1,predictors)  "
   ]
  },
  {
   "cell_type": "code",
   "execution_count": 325,
   "metadata": {},
   "outputs": [
    {
     "name": "stdout",
     "output_type": "stream",
     "text": [
      "predictions\n",
      "0    3610\n",
      "1    2354\n",
      "Name: count, dtype: int64\n"
     ]
    }
   ],
   "source": [
    "# see how many day's we predicted the market go up vs down\n",
    "# use value_count: count how many times each type of predictions was made\n",
    "\n",
    "prediction_counts = predictions[\"predictions\"].value_counts()\n",
    "\n",
    "# Print the counts\n",
    "print(prediction_counts)"
   ]
  },
  {
   "cell_type": "markdown",
   "metadata": {},
   "source": [
    "We can see, we predicted the market go down about 3610 days and go up about 2354 days."
   ]
  },
  {
   "cell_type": "code",
   "execution_count": 331,
   "metadata": {},
   "outputs": [
    {
     "data": {
      "text/plain": [
       "0.5297366185216652"
      ]
     },
     "execution_count": 331,
     "metadata": {},
     "output_type": "execute_result"
    }
   ],
   "source": [
    "# now let's check the precision score\n",
    "precision_score(predictions[\"Target\"],predictions[\"predictions\"])"
   ]
  },
  {
   "cell_type": "markdown",
   "metadata": {},
   "source": [
    "Across all of those rows, about six thousend traiding days,we were about 53% precise. When we say the market would go up, it went up 53% of the time."
   ]
  },
  {
   "cell_type": "code",
   "execution_count": 332,
   "metadata": {},
   "outputs": [
    {
     "data": {
      "text/plain": [
       "Target\n",
       "1    0.534038\n",
       "0    0.465962\n",
       "Name: count, dtype: float64"
      ]
     },
     "execution_count": 332,
     "metadata": {},
     "output_type": "execute_result"
    }
   ],
   "source": [
    "# check the percentage of days where the market actually went up\n",
    "# use value count of the target divided by the number of rows total\n",
    "predictions[\"Target\"].value_counts()/predictions.shape[0]"
   ]
  },
  {
   "cell_type": "markdown",
   "metadata": {},
   "source": [
    "So, the S&P500 in the days we were looking at actually went up 53.4% of days and went down 46.6% of days."
   ]
  },
  {
   "cell_type": "markdown",
   "metadata": {},
   "source": [
    "#### Adding additional predictors to the model\n",
    "-\n",
    "In order to enhance the model's accuracy, let's incorporate additional features. My approach involves varying the prediction horizons for the algorithm and examining the rolling means. This entails calculating the mean closing price for specific time spans, such as the last 2 days, the last trading week, the past 60 days, the last year, and even the last four years. Subsequently, I will establish the ratio between today's closing price and the closing price during these designated periods. The inclusion of an extended rolling period might prove particularly advantageous for the learning process.\n",
    "\n",
    "For this endeavor, I will solely employ the Random Forest model."
   ]
  },
  {
   "cell_type": "code",
   "execution_count": 396,
   "metadata": {},
   "outputs": [],
   "source": [
    "# create varity of rolling averages\n",
    "\n",
    "horizons = [2,5,60,250,1000]\n",
    "new_predictors =[]\n",
    "\n",
    "for horizon in horizons: # loop through horizons\n",
    "    rolling_averages = df.rolling(horizon).mean()\n",
    "    \n",
    "    ratio_column = f\"Close_Ratio_{horizon}\"\n",
    "    df[ratio_column]=df[\"Close\"]/rolling_averages[\"Close\"]\n",
    "    \n",
    "    trend_column = f\"Trend_{horizon}\"\n",
    "    df[trend_column]=df.shift(1).rolling(horizon).sum()[\"Target\"]\n",
    "    \n",
    "    new_predictors +=[ratio_column,trend_column]"
   ]
  },
  {
   "cell_type": "code",
   "execution_count": 397,
   "metadata": {},
   "outputs": [
    {
     "data": {
      "text/html": [
       "<div>\n",
       "<style scoped>\n",
       "    .dataframe tbody tr th:only-of-type {\n",
       "        vertical-align: middle;\n",
       "    }\n",
       "\n",
       "    .dataframe tbody tr th {\n",
       "        vertical-align: top;\n",
       "    }\n",
       "\n",
       "    .dataframe thead th {\n",
       "        text-align: right;\n",
       "    }\n",
       "</style>\n",
       "<table border=\"1\" class=\"dataframe\">\n",
       "  <thead>\n",
       "    <tr style=\"text-align: right;\">\n",
       "      <th></th>\n",
       "      <th>Open</th>\n",
       "      <th>High</th>\n",
       "      <th>Low</th>\n",
       "      <th>Close</th>\n",
       "      <th>Volume</th>\n",
       "      <th>Tomorrow</th>\n",
       "      <th>Target</th>\n",
       "      <th>Close_Ratio_2</th>\n",
       "      <th>Trend_2</th>\n",
       "      <th>Close_Ratio_5</th>\n",
       "      <th>Trend_5</th>\n",
       "      <th>Close_Ratio_60</th>\n",
       "      <th>Trend_60</th>\n",
       "      <th>Close_Ratio_250</th>\n",
       "      <th>Trend_250</th>\n",
       "      <th>Close_Ratio_1000</th>\n",
       "      <th>Trend_1000</th>\n",
       "    </tr>\n",
       "    <tr>\n",
       "      <th>Date</th>\n",
       "      <th></th>\n",
       "      <th></th>\n",
       "      <th></th>\n",
       "      <th></th>\n",
       "      <th></th>\n",
       "      <th></th>\n",
       "      <th></th>\n",
       "      <th></th>\n",
       "      <th></th>\n",
       "      <th></th>\n",
       "      <th></th>\n",
       "      <th></th>\n",
       "      <th></th>\n",
       "      <th></th>\n",
       "      <th></th>\n",
       "      <th></th>\n",
       "      <th></th>\n",
       "    </tr>\n",
       "  </thead>\n",
       "  <tbody>\n",
       "    <tr>\n",
       "      <th>1990-01-02 00:00:00-05:00</th>\n",
       "      <td>353.399994</td>\n",
       "      <td>359.690002</td>\n",
       "      <td>351.980011</td>\n",
       "      <td>359.690002</td>\n",
       "      <td>162070000</td>\n",
       "      <td>358.760010</td>\n",
       "      <td>0</td>\n",
       "      <td>NaN</td>\n",
       "      <td>NaN</td>\n",
       "      <td>NaN</td>\n",
       "      <td>NaN</td>\n",
       "      <td>NaN</td>\n",
       "      <td>NaN</td>\n",
       "      <td>NaN</td>\n",
       "      <td>NaN</td>\n",
       "      <td>NaN</td>\n",
       "      <td>NaN</td>\n",
       "    </tr>\n",
       "    <tr>\n",
       "      <th>1990-01-03 00:00:00-05:00</th>\n",
       "      <td>359.690002</td>\n",
       "      <td>360.589996</td>\n",
       "      <td>357.890015</td>\n",
       "      <td>358.760010</td>\n",
       "      <td>192330000</td>\n",
       "      <td>355.670013</td>\n",
       "      <td>0</td>\n",
       "      <td>0.998706</td>\n",
       "      <td>NaN</td>\n",
       "      <td>NaN</td>\n",
       "      <td>NaN</td>\n",
       "      <td>NaN</td>\n",
       "      <td>NaN</td>\n",
       "      <td>NaN</td>\n",
       "      <td>NaN</td>\n",
       "      <td>NaN</td>\n",
       "      <td>NaN</td>\n",
       "    </tr>\n",
       "    <tr>\n",
       "      <th>1990-01-04 00:00:00-05:00</th>\n",
       "      <td>358.760010</td>\n",
       "      <td>358.760010</td>\n",
       "      <td>352.890015</td>\n",
       "      <td>355.670013</td>\n",
       "      <td>177000000</td>\n",
       "      <td>352.200012</td>\n",
       "      <td>0</td>\n",
       "      <td>0.995675</td>\n",
       "      <td>0.0</td>\n",
       "      <td>NaN</td>\n",
       "      <td>NaN</td>\n",
       "      <td>NaN</td>\n",
       "      <td>NaN</td>\n",
       "      <td>NaN</td>\n",
       "      <td>NaN</td>\n",
       "      <td>NaN</td>\n",
       "      <td>NaN</td>\n",
       "    </tr>\n",
       "    <tr>\n",
       "      <th>1990-01-05 00:00:00-05:00</th>\n",
       "      <td>355.670013</td>\n",
       "      <td>355.670013</td>\n",
       "      <td>351.350006</td>\n",
       "      <td>352.200012</td>\n",
       "      <td>158530000</td>\n",
       "      <td>353.790009</td>\n",
       "      <td>1</td>\n",
       "      <td>0.995098</td>\n",
       "      <td>0.0</td>\n",
       "      <td>NaN</td>\n",
       "      <td>NaN</td>\n",
       "      <td>NaN</td>\n",
       "      <td>NaN</td>\n",
       "      <td>NaN</td>\n",
       "      <td>NaN</td>\n",
       "      <td>NaN</td>\n",
       "      <td>NaN</td>\n",
       "    </tr>\n",
       "    <tr>\n",
       "      <th>1990-01-08 00:00:00-05:00</th>\n",
       "      <td>352.200012</td>\n",
       "      <td>354.239990</td>\n",
       "      <td>350.540009</td>\n",
       "      <td>353.790009</td>\n",
       "      <td>140110000</td>\n",
       "      <td>349.619995</td>\n",
       "      <td>0</td>\n",
       "      <td>1.002252</td>\n",
       "      <td>1.0</td>\n",
       "      <td>0.993731</td>\n",
       "      <td>NaN</td>\n",
       "      <td>NaN</td>\n",
       "      <td>NaN</td>\n",
       "      <td>NaN</td>\n",
       "      <td>NaN</td>\n",
       "      <td>NaN</td>\n",
       "      <td>NaN</td>\n",
       "    </tr>\n",
       "  </tbody>\n",
       "</table>\n",
       "</div>"
      ],
      "text/plain": [
       "                                 Open        High         Low       Close  \\\n",
       "Date                                                                        \n",
       "1990-01-02 00:00:00-05:00  353.399994  359.690002  351.980011  359.690002   \n",
       "1990-01-03 00:00:00-05:00  359.690002  360.589996  357.890015  358.760010   \n",
       "1990-01-04 00:00:00-05:00  358.760010  358.760010  352.890015  355.670013   \n",
       "1990-01-05 00:00:00-05:00  355.670013  355.670013  351.350006  352.200012   \n",
       "1990-01-08 00:00:00-05:00  352.200012  354.239990  350.540009  353.790009   \n",
       "\n",
       "                              Volume    Tomorrow  Target  Close_Ratio_2  \\\n",
       "Date                                                                      \n",
       "1990-01-02 00:00:00-05:00  162070000  358.760010       0            NaN   \n",
       "1990-01-03 00:00:00-05:00  192330000  355.670013       0       0.998706   \n",
       "1990-01-04 00:00:00-05:00  177000000  352.200012       0       0.995675   \n",
       "1990-01-05 00:00:00-05:00  158530000  353.790009       1       0.995098   \n",
       "1990-01-08 00:00:00-05:00  140110000  349.619995       0       1.002252   \n",
       "\n",
       "                           Trend_2  Close_Ratio_5  Trend_5  Close_Ratio_60  \\\n",
       "Date                                                                         \n",
       "1990-01-02 00:00:00-05:00      NaN            NaN      NaN             NaN   \n",
       "1990-01-03 00:00:00-05:00      NaN            NaN      NaN             NaN   \n",
       "1990-01-04 00:00:00-05:00      0.0            NaN      NaN             NaN   \n",
       "1990-01-05 00:00:00-05:00      0.0            NaN      NaN             NaN   \n",
       "1990-01-08 00:00:00-05:00      1.0       0.993731      NaN             NaN   \n",
       "\n",
       "                           Trend_60  Close_Ratio_250  Trend_250  \\\n",
       "Date                                                              \n",
       "1990-01-02 00:00:00-05:00       NaN              NaN        NaN   \n",
       "1990-01-03 00:00:00-05:00       NaN              NaN        NaN   \n",
       "1990-01-04 00:00:00-05:00       NaN              NaN        NaN   \n",
       "1990-01-05 00:00:00-05:00       NaN              NaN        NaN   \n",
       "1990-01-08 00:00:00-05:00       NaN              NaN        NaN   \n",
       "\n",
       "                           Close_Ratio_1000  Trend_1000  \n",
       "Date                                                     \n",
       "1990-01-02 00:00:00-05:00               NaN         NaN  \n",
       "1990-01-03 00:00:00-05:00               NaN         NaN  \n",
       "1990-01-04 00:00:00-05:00               NaN         NaN  \n",
       "1990-01-05 00:00:00-05:00               NaN         NaN  \n",
       "1990-01-08 00:00:00-05:00               NaN         NaN  "
      ]
     },
     "execution_count": 397,
     "metadata": {},
     "output_type": "execute_result"
    }
   ],
   "source": [
    "df.head(5)"
   ]
  },
  {
   "cell_type": "markdown",
   "metadata": {},
   "source": [
    "The dataframe has NaN values because when pandas can not find enough days or rows prior to the current row, it actually compute the rolling average and return NaN."
   ]
  },
  {
   "cell_type": "code",
   "execution_count": 398,
   "metadata": {
    "scrolled": true
   },
   "outputs": [
    {
     "data": {
      "text/html": [
       "<div>\n",
       "<style scoped>\n",
       "    .dataframe tbody tr th:only-of-type {\n",
       "        vertical-align: middle;\n",
       "    }\n",
       "\n",
       "    .dataframe tbody tr th {\n",
       "        vertical-align: top;\n",
       "    }\n",
       "\n",
       "    .dataframe thead th {\n",
       "        text-align: right;\n",
       "    }\n",
       "</style>\n",
       "<table border=\"1\" class=\"dataframe\">\n",
       "  <thead>\n",
       "    <tr style=\"text-align: right;\">\n",
       "      <th></th>\n",
       "      <th>Open</th>\n",
       "      <th>High</th>\n",
       "      <th>Low</th>\n",
       "      <th>Close</th>\n",
       "      <th>Volume</th>\n",
       "      <th>Tomorrow</th>\n",
       "      <th>Target</th>\n",
       "      <th>Close_Ratio_2</th>\n",
       "      <th>Trend_2</th>\n",
       "      <th>Close_Ratio_5</th>\n",
       "      <th>Trend_5</th>\n",
       "      <th>Close_Ratio_60</th>\n",
       "      <th>Trend_60</th>\n",
       "      <th>Close_Ratio_250</th>\n",
       "      <th>Trend_250</th>\n",
       "      <th>Close_Ratio_1000</th>\n",
       "      <th>Trend_1000</th>\n",
       "    </tr>\n",
       "    <tr>\n",
       "      <th>Date</th>\n",
       "      <th></th>\n",
       "      <th></th>\n",
       "      <th></th>\n",
       "      <th></th>\n",
       "      <th></th>\n",
       "      <th></th>\n",
       "      <th></th>\n",
       "      <th></th>\n",
       "      <th></th>\n",
       "      <th></th>\n",
       "      <th></th>\n",
       "      <th></th>\n",
       "      <th></th>\n",
       "      <th></th>\n",
       "      <th></th>\n",
       "      <th></th>\n",
       "      <th></th>\n",
       "    </tr>\n",
       "  </thead>\n",
       "  <tbody>\n",
       "    <tr>\n",
       "      <th>1993-12-14 00:00:00-05:00</th>\n",
       "      <td>465.730011</td>\n",
       "      <td>466.119995</td>\n",
       "      <td>462.459991</td>\n",
       "      <td>463.059998</td>\n",
       "      <td>275050000</td>\n",
       "      <td>461.839996</td>\n",
       "      <td>0</td>\n",
       "      <td>0.997157</td>\n",
       "      <td>1.0</td>\n",
       "      <td>0.996617</td>\n",
       "      <td>1.0</td>\n",
       "      <td>1.000283</td>\n",
       "      <td>32.0</td>\n",
       "      <td>1.028047</td>\n",
       "      <td>127.0</td>\n",
       "      <td>1.176082</td>\n",
       "      <td>512.0</td>\n",
       "    </tr>\n",
       "    <tr>\n",
       "      <th>1993-12-15 00:00:00-05:00</th>\n",
       "      <td>463.059998</td>\n",
       "      <td>463.690002</td>\n",
       "      <td>461.839996</td>\n",
       "      <td>461.839996</td>\n",
       "      <td>331770000</td>\n",
       "      <td>463.339996</td>\n",
       "      <td>1</td>\n",
       "      <td>0.998681</td>\n",
       "      <td>0.0</td>\n",
       "      <td>0.995899</td>\n",
       "      <td>1.0</td>\n",
       "      <td>0.997329</td>\n",
       "      <td>32.0</td>\n",
       "      <td>1.025151</td>\n",
       "      <td>126.0</td>\n",
       "      <td>1.172676</td>\n",
       "      <td>512.0</td>\n",
       "    </tr>\n",
       "    <tr>\n",
       "      <th>1993-12-16 00:00:00-05:00</th>\n",
       "      <td>461.859985</td>\n",
       "      <td>463.980011</td>\n",
       "      <td>461.859985</td>\n",
       "      <td>463.339996</td>\n",
       "      <td>284620000</td>\n",
       "      <td>466.380005</td>\n",
       "      <td>1</td>\n",
       "      <td>1.001621</td>\n",
       "      <td>1.0</td>\n",
       "      <td>0.999495</td>\n",
       "      <td>2.0</td>\n",
       "      <td>1.000311</td>\n",
       "      <td>32.0</td>\n",
       "      <td>1.028274</td>\n",
       "      <td>127.0</td>\n",
       "      <td>1.176163</td>\n",
       "      <td>513.0</td>\n",
       "    </tr>\n",
       "    <tr>\n",
       "      <th>1993-12-17 00:00:00-05:00</th>\n",
       "      <td>463.339996</td>\n",
       "      <td>466.380005</td>\n",
       "      <td>463.339996</td>\n",
       "      <td>466.380005</td>\n",
       "      <td>363750000</td>\n",
       "      <td>465.850006</td>\n",
       "      <td>0</td>\n",
       "      <td>1.003270</td>\n",
       "      <td>2.0</td>\n",
       "      <td>1.004991</td>\n",
       "      <td>3.0</td>\n",
       "      <td>1.006561</td>\n",
       "      <td>32.0</td>\n",
       "      <td>1.034781</td>\n",
       "      <td>128.0</td>\n",
       "      <td>1.183537</td>\n",
       "      <td>514.0</td>\n",
       "    </tr>\n",
       "    <tr>\n",
       "      <th>1993-12-20 00:00:00-05:00</th>\n",
       "      <td>466.380005</td>\n",
       "      <td>466.899994</td>\n",
       "      <td>465.529999</td>\n",
       "      <td>465.850006</td>\n",
       "      <td>255900000</td>\n",
       "      <td>465.299988</td>\n",
       "      <td>0</td>\n",
       "      <td>0.999431</td>\n",
       "      <td>1.0</td>\n",
       "      <td>1.003784</td>\n",
       "      <td>2.0</td>\n",
       "      <td>1.005120</td>\n",
       "      <td>32.0</td>\n",
       "      <td>1.033359</td>\n",
       "      <td>128.0</td>\n",
       "      <td>1.181856</td>\n",
       "      <td>513.0</td>\n",
       "    </tr>\n",
       "  </tbody>\n",
       "</table>\n",
       "</div>"
      ],
      "text/plain": [
       "                                 Open        High         Low       Close  \\\n",
       "Date                                                                        \n",
       "1993-12-14 00:00:00-05:00  465.730011  466.119995  462.459991  463.059998   \n",
       "1993-12-15 00:00:00-05:00  463.059998  463.690002  461.839996  461.839996   \n",
       "1993-12-16 00:00:00-05:00  461.859985  463.980011  461.859985  463.339996   \n",
       "1993-12-17 00:00:00-05:00  463.339996  466.380005  463.339996  466.380005   \n",
       "1993-12-20 00:00:00-05:00  466.380005  466.899994  465.529999  465.850006   \n",
       "\n",
       "                              Volume    Tomorrow  Target  Close_Ratio_2  \\\n",
       "Date                                                                      \n",
       "1993-12-14 00:00:00-05:00  275050000  461.839996       0       0.997157   \n",
       "1993-12-15 00:00:00-05:00  331770000  463.339996       1       0.998681   \n",
       "1993-12-16 00:00:00-05:00  284620000  466.380005       1       1.001621   \n",
       "1993-12-17 00:00:00-05:00  363750000  465.850006       0       1.003270   \n",
       "1993-12-20 00:00:00-05:00  255900000  465.299988       0       0.999431   \n",
       "\n",
       "                           Trend_2  Close_Ratio_5  Trend_5  Close_Ratio_60  \\\n",
       "Date                                                                         \n",
       "1993-12-14 00:00:00-05:00      1.0       0.996617      1.0        1.000283   \n",
       "1993-12-15 00:00:00-05:00      0.0       0.995899      1.0        0.997329   \n",
       "1993-12-16 00:00:00-05:00      1.0       0.999495      2.0        1.000311   \n",
       "1993-12-17 00:00:00-05:00      2.0       1.004991      3.0        1.006561   \n",
       "1993-12-20 00:00:00-05:00      1.0       1.003784      2.0        1.005120   \n",
       "\n",
       "                           Trend_60  Close_Ratio_250  Trend_250  \\\n",
       "Date                                                              \n",
       "1993-12-14 00:00:00-05:00      32.0         1.028047      127.0   \n",
       "1993-12-15 00:00:00-05:00      32.0         1.025151      126.0   \n",
       "1993-12-16 00:00:00-05:00      32.0         1.028274      127.0   \n",
       "1993-12-17 00:00:00-05:00      32.0         1.034781      128.0   \n",
       "1993-12-20 00:00:00-05:00      32.0         1.033359      128.0   \n",
       "\n",
       "                           Close_Ratio_1000  Trend_1000  \n",
       "Date                                                     \n",
       "1993-12-14 00:00:00-05:00          1.176082       512.0  \n",
       "1993-12-15 00:00:00-05:00          1.172676       512.0  \n",
       "1993-12-16 00:00:00-05:00          1.176163       513.0  \n",
       "1993-12-17 00:00:00-05:00          1.183537       514.0  \n",
       "1993-12-20 00:00:00-05:00          1.181856       513.0  "
      ]
     },
     "execution_count": 398,
     "metadata": {},
     "output_type": "execute_result"
    }
   ],
   "source": [
    "# remove the missing values in the dataframe\n",
    "df_new= df.dropna()\n",
    "df_new.head(5)"
   ]
  },
  {
   "cell_type": "code",
   "execution_count": 399,
   "metadata": {},
   "outputs": [
    {
     "data": {
      "image/png": "[encoded data removed]",
      "text/plain": [
       "<Figure size 1080x720 with 25 Axes>"
      ]
     },
     "metadata": {},
     "output_type": "display_data"
    }
   ],
   "source": [
    "# Plot the distribution of new_features\n",
    "selected_columns = ['Close_Ratio_2','Trend_2','Close_Ratio_5','Trend_5','Close_Ratio_60','Trend_60','Close_Ratio_250','Trend_250','Close_Ratio_1000','Trend_1000']\n",
    "selected_data = df[selected_columns]\n",
    "\n",
    "# Plot histograms using hist method\n",
    "histogram = selected_data.hist(layout=(5, 5), figsize=(15, 10))\n",
    "\n",
    "# Set titles and labels for each subplot\n",
    "for i, column in enumerate(selected_columns):\n",
    "    row = i // 3\n",
    "    col = i % 3\n",
    "    histogram[row, col].set_title(column)\n",
    "    histogram[row, col].set_xlabel(column)\n",
    "\n",
    "# Adjust layout and save the plot\n",
    "plt.tight_layout()\n",
    "plt.savefig('histogram1.png')# saving image so we can use in ppt\n",
    "plt.show()"
   ]
  },
  {
   "cell_type": "code",
   "execution_count": 344,
   "metadata": {},
   "outputs": [
    {
     "data": {
      "text/plain": [
       "0.4625485729599357"
      ]
     },
     "execution_count": 344,
     "metadata": {},
     "output_type": "execute_result"
    }
   ],
   "source": [
    "#Null error rate\n",
    "NRE = df_new.Target.value_counts()[1]/(df_new.Target.value_counts()[0] + df_new.Target.value_counts()[1])\n",
    "Error_Rate = 1 - NRE\n",
    "Error_Rate"
   ]
  },
  {
   "cell_type": "markdown",
   "metadata": {},
   "source": [
    "#### Improving the model"
   ]
  },
  {
   "cell_type": "code",
   "execution_count": 345,
   "metadata": {},
   "outputs": [],
   "source": [
    "# update the model slightly and change some of the parameters\n",
    "model=RandomForestClassifier(n_estimators=200,min_samples_split=50,random_state=1)"
   ]
  },
  {
   "cell_type": "code",
   "execution_count": 346,
   "metadata": {},
   "outputs": [],
   "source": [
    "# rewrite the predict function slightly\n",
    "def predict(train,test,predictors,model):\n",
    "    model.fit(train[predictors],train[\"Target\"])\n",
    "    preds=model.predict_proba(test[predictors]) [:,1]\n",
    "    preds[preds >=.6] = 1 # this will reduce the number of trading days\n",
    "    preds[preds < .6]= 0\n",
    "    preds=pd.Series(preds,index=test.index,name=\"predictions\")\n",
    "    combined=pd.concat([test[\"Target\"],preds],axis=1)\n",
    "    return combined"
   ]
  },
  {
   "cell_type": "code",
   "execution_count": 347,
   "metadata": {},
   "outputs": [],
   "source": [
    "# run the backtest again\n",
    "predictions=backtest(df_new,model,new_predictors)"
   ]
  },
  {
   "cell_type": "code",
   "execution_count": 348,
   "metadata": {},
   "outputs": [
    {
     "data": {
      "text/plain": [
       "predictions\n",
       "0.0    4144\n",
       "1.0     819\n",
       "Name: count, dtype: int64"
      ]
     },
     "execution_count": 348,
     "metadata": {},
     "output_type": "execute_result"
    }
   ],
   "source": [
    "# check the value count again\n",
    "predictions[\"predictions\"].value_counts()"
   ]
  },
  {
   "cell_type": "markdown",
   "metadata": {},
   "source": [
    "There were approximately four thousand instances where the prediction indicated a decline in price. The distribution has notably shifted, revealing that only a handful of days were projected for price increase. This shift can be attributed to a change in the threshold: I instructed the model to exhibit greater confidence in its prediction before forecasting an upward price movement. Consequently, our trading or stock purchasing activities have been curtailed, occurring on fewer occasions."
   ]
  },
  {
   "cell_type": "code",
   "execution_count": 349,
   "metadata": {},
   "outputs": [
    {
     "data": {
      "text/plain": [
       "0.568986568986569"
      ]
     },
     "execution_count": 349,
     "metadata": {},
     "output_type": "execute_result"
    }
   ],
   "source": [
    "precision_score(predictions[\"Target\"],predictions[\"predictions\"])\n"
   ]
  },
  {
   "cell_type": "markdown",
   "metadata": {},
   "source": [
    "## Summary and next steps with the model\n",
    "\n",
    "Ultimately, I arrived at the conclusion that the ensemble model yields results comparable to those of the other models. Drawing on the outcomes outlined above, we discern that the model enriched with new features demonstrates a 57% precision in predicting upward shifts in stock prices during purchase instances. This achievement stands commendable, especially given the context of relying solely on time-series data and historical index prices. Notably, due to computational limitations, neural networks, particularly recurrent ones like Long-Short Term Memory (LSTM) networks tailored for time-series data, were omitted from consideration in this project.\n",
    "\n",
    "Considering the research question at hand, there remains substantial room for advancement. Expanding the dataset could yield improved predictions by leveraging factors such as Twitter sentiment or economic indicators to enhance the assessment of whether stocks will trend upward or downward. Although this project is not exhaustive, it serves as a foundational analysis for future endeavors. The array of machine learning models crafted throughout this journey, some of which were novel to me, significantly contributes to potential future work. Overall, this project has been enlightening, providing insights into various model workings, even though the predictive accuracy regarding stock trends proved less satisfactory.\n",
    "\n",
    "\n",
    "Additionally, time limitations prevented the exploration of alternative methods of feature engineering, such as incorporating classic stock market indicators. To enhance the model, it is recommended to integrate exchanges operating overnight. While the S&P 500 trades only during US market hours, other global indices commence trading before the US market opens. Exploring correlations between these indices and the S&P 500 could potentially yield valuable insights.\n",
    "\n",
    "In conclusion, this marks the culmination of the first phase of the project. The forthcoming second stage will delve into exploring the aforementioned avenues for improvement. It is crucial to acknowledge, however, that predicting financial markets, including stock prices like the S&P 500, is a formidable and intricate undertaking. Financial markets are influenced by an extensive array of variables, encompassing economic indicators, geopolitical occurrences, investor sentiments, and other unpredictable elements. Thus, consistently achieving high-accuracy stock price predictions remains a challenging endeavor."
   ]
  },
  {
   "cell_type": "markdown",
   "metadata": {},
   "source": [
    "## Powerpoint Presentation "
   ]
  },
  {
   "cell_type": "code",
   "execution_count": 401,
   "metadata": {},
   "outputs": [],
   "source": [
    "# Create powerpoint presentation with python\n",
    "path = \"sample.pptx\"\n",
    "#Intitalizing PPt object \n",
    "prs = Presentation() \n",
    "\n",
    "# creating slide 1 \n",
    "zero_slide = prs.slide_layouts[6]\n",
    "slide0 = prs.slides.add_slide(zero_slide)\n",
    " \n",
    "txBox = slide0.shapes.add_textbox( pptx.util.Inches(3.5), pptx.util.Inches(1),\n",
    "                               width=pptx.util.Inches(4), height=pptx.util.Inches(1))\n",
    "tf = txBox.text_frame\n",
    "tf.clear()\n",
    "p = tf.paragraphs[0]\n",
    "run = p.add_run()\n",
    "run.text = 'SP500 Data Analysis'\n",
    "font = run.font\n",
    "font.name = 'Calibri'\n",
    "font.size = Pt(24)\n",
    "font.bold = True\n",
    "font.italic = None \n",
    "p.alignment = PP_ALIGN.CENTER\n",
    "\n",
    "\n",
    "# creating slide 2 \n",
    "blank_slide_layout = prs.slide_layouts[6] \n",
    "slide = prs.slides.add_slide(blank_slide_layout)\n",
    "left = top = Inches(1)\n",
    "pic = slide.shapes.add_picture('histogram.png', pptx.util.Inches(0.25), pptx.util.Inches(1),\n",
    "                               width=pptx.util.Inches(9), height=pptx.util.Inches(5))\n",
    "\n",
    "# creating slide 3\n",
    "second_slide = prs.slide_layouts[6]\n",
    "slide2 = prs.slides.add_slide(second_slide)\n",
    " \n",
    "pic = slide2.shapes.add_picture('x6.png', pptx.util.Inches(1.5), pptx.util.Inches(1),\n",
    "                               width=pptx.util.Inches(7), height=pptx.util.Inches(2))\n",
    "\n",
    "pic = slide2.shapes.add_picture('y2.png', pptx.util.Inches(0.5), pptx.util.Inches(3.5),\n",
    "                               width=pptx.util.Inches(9), height=pptx.util.Inches(3))\n",
    "\n",
    "# creating slide 3\n",
    "third_slide = prs.slide_layouts[6]\n",
    "slide3 = prs.slides.add_slide(third_slide)\n",
    "\n",
    "pic = slide3.shapes.add_picture('i1.png', pptx.util.Inches(0.5), pptx.util.Inches(1),\n",
    "                               width=pptx.util.Inches(9), height=pptx.util.Inches(6))\n",
    "\n",
    "# creating slide 4\n",
    "forth_slide = prs.slide_layouts[6]\n",
    "slide4 = prs.slides.add_slide(forth_slide)\n",
    "\n",
    "pic = slide4.shapes.add_picture('i9.png', pptx.util.Inches(0.5), pptx.util.Inches(1),\n",
    "                               width=pptx.util.Inches(9), height=pptx.util.Inches(5))\n",
    "\n",
    "# creating slide 5\n",
    "fifth_slide = prs.slide_layouts[6]\n",
    "slide5 = prs.slides.add_slide(fifth_slide)\n",
    "\n",
    "pic = slide5.shapes.add_picture('e8.png', pptx.util.Inches(1), pptx.util.Inches(0.5),\n",
    "                               width=pptx.util.Inches(4), height=pptx.util.Inches(2))\n",
    "# creating slide 6\n",
    "sixth_slide = prs.slide_layouts[6]\n",
    "slide6 = prs.slides.add_slide(sixth_slide)\n",
    "pic = slide6.shapes.add_picture('z10.png', pptx.util.Inches(0.5), pptx.util.Inches(3),\n",
    "                               width=pptx.util.Inches(9), height=pptx.util.Inches(4))\n",
    "\n",
    "# creating slide 7\n",
    "seventh_slide = prs.slide_layouts[6]\n",
    "slide6 = prs.slides.add_slide(seventh_slide)\n",
    "pic = slide6.shapes.add_picture('w20.png', pptx.util.Inches(0.5), pptx.util.Inches(3),\n",
    "                               width=pptx.util.Inches(9), height=pptx.util.Inches(4))\n",
    "# creating slide 8\n",
    "eighth_slide = prs.slide_layouts[6]\n",
    "slide6 = prs.slides.add_slide(eighth_slide)\n",
    "pic = slide6.shapes.add_picture('histogram1.png', pptx.util.Inches(0.5), pptx.util.Inches(3),\n",
    "                               width=pptx.util.Inches(9), height=pptx.util.Inches(4))\n",
    "\n",
    "\n",
    "#saving the created slide \n",
    "prs.save('S&P500 stock price.pptx')"
   ]
  },
  {
   "cell_type": "markdown",
   "metadata": {},
   "source": [
    "## Reference \n",
    "1. https://www.researchgate.net/figure/High-Frequency-Trading-Domain-source-Aldridge-2013_fig1_358123608\n",
    "2. https://www.kaggle.com/code/samaxtech/predicting-s-p500-index-linearreg-randomforests  \n",
    "3. 4.https://medium.com/@akashsangar2653/eda-and-price-prediction-of-s-p-500-stock-prices-dataset-290535b9a40b\n",
    "5. https://medium.com/shiyan-boxer/s-p-500-stock-price-prediction-using-machine-learning-and-deep-learning-328b1839d1b6\n",
    "6. https://www.kaggle.com/code/yash16jr/s-p500-data-eda-and-prediction-arima-sarimax\n",
    "7. https://medium.com/shiyan-boxer/s-p-500-stock-price-prediction-using-machine-learning-and-deep-learning-328b1839d1b6\n",
    "8. https://www.kaggle.com/datasets/miguelaenlle/massive-stock-news-analysis-db-for-nlpbacktests   \n",
    "9. https://ai.plainenglish.io/using-deep-learning-to-predict-stock-prices-a-step-by-step-guide-with-python-and-the-s-p-500-59b06de25357\n",
    "10. https://medium.com/codex/stocks-news-sentiment-analysis-with-deep-learning-transformers-and-machine-learning-cdcdb827fc06 \n",
    "11. https://medium.com/mlearning-ai/predict-sp500-stock-price-with-python-machine-learning-sentiment-analysis-a296dc276353\n",
    "12. https://ai.plainenglish.io/using-deep-learning-to-predict-stock-prices-a-step-by-step-guide-with-python-and-the-s-p-500-59b06de25357\n",
    "13. http://cs229.stanford.edu/proj2020spr/report/Fuster_Zou.pdf\n",
    "14. https://www.sciencedirect.com/science/article/pii/S2666827022000378"
   ]
  }
 ],
 "metadata": {
  "kernelspec": {
   "display_name": "Python 3",
   "language": "python",
   "name": "python3"
  },
  "language_info": {
   "codemirror_mode": {
    "name": "ipython",
    "version": 3
   },
   "file_extension": ".py",
   "mimetype": "text/x-python",
   "name": "python",
   "nbconvert_exporter": "python",
   "pygments_lexer": "ipython3",
   "version": "3.8.5"
  }
 },
 "nbformat": 4,
 "nbformat_minor": 4
}
